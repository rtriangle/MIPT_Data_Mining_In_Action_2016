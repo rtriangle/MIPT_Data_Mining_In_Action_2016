{
 "cells": [
  {
   "cell_type": "markdown",
   "metadata": {},
   "source": [
    "# Типы данных в Python"
   ]
  },
  {
   "cell_type": "markdown",
   "metadata": {},
   "source": [
    "## 1. Числовые"
   ]
  },
  {
   "cell_type": "markdown",
   "metadata": {},
   "source": [
    "### int"
   ]
  },
  {
   "cell_type": "code",
   "execution_count": 2,
   "metadata": {
    "collapsed": true
   },
   "outputs": [],
   "source": [
    "x = 5"
   ]
  },
  {
   "cell_type": "code",
   "execution_count": 4,
   "metadata": {
    "collapsed": false
   },
   "outputs": [
    {
     "name": "stdout",
     "output_type": "stream",
     "text": [
      "5\n"
     ]
    }
   ],
   "source": [
    "print x"
   ]
  },
  {
   "cell_type": "code",
   "execution_count": 5,
   "metadata": {
    "collapsed": false
   },
   "outputs": [
    {
     "name": "stdout",
     "output_type": "stream",
     "text": [
      "<type 'int'>\n"
     ]
    }
   ],
   "source": [
    "print type(x)"
   ]
  },
  {
   "cell_type": "code",
   "execution_count": 6,
   "metadata": {
    "collapsed": false
   },
   "outputs": [
    {
     "name": "stdout",
     "output_type": "stream",
     "text": [
      "9 20 1\n"
     ]
    }
   ],
   "source": [
    "a = 4 + 5\n",
    "b = 4 * 5\n",
    "c = 5 / 4\n",
    "\n",
    "print a, b, c"
   ]
  },
  {
   "cell_type": "code",
   "execution_count": 7,
   "metadata": {
    "collapsed": false
   },
   "outputs": [
    {
     "name": "stdout",
     "output_type": "stream",
     "text": [
      "-2\n"
     ]
    }
   ],
   "source": [
    "print -5 / 4"
   ]
  },
  {
   "cell_type": "code",
   "execution_count": 8,
   "metadata": {
    "collapsed": false
   },
   "outputs": [
    {
     "name": "stdout",
     "output_type": "stream",
     "text": [
      "-1\n"
     ]
    }
   ],
   "source": [
    "print -(5 / 4)"
   ]
  },
  {
   "cell_type": "markdown",
   "metadata": {},
   "source": [
    "### long"
   ]
  },
  {
   "cell_type": "code",
   "execution_count": 9,
   "metadata": {
    "collapsed": false
   },
   "outputs": [
    {
     "name": "stdout",
     "output_type": "stream",
     "text": [
      "5000000000000000000000000\n",
      "<type 'long'>\n"
     ]
    }
   ],
   "source": [
    "x = 5 * 1000000 * 1000000 * 1000000 * 1000000\n",
    "print x\n",
    "print type(x)"
   ]
  },
  {
   "cell_type": "code",
   "execution_count": 10,
   "metadata": {
    "collapsed": false
   },
   "outputs": [
    {
     "name": "stdout",
     "output_type": "stream",
     "text": [
      "<type 'int'>\n",
      "<type 'long'>\n"
     ]
    }
   ],
   "source": [
    "y = 5\n",
    "print type(y)\n",
    "y = x\n",
    "print type(y)"
   ]
  },
  {
   "cell_type": "markdown",
   "metadata": {},
   "source": [
    "### float"
   ]
  },
  {
   "cell_type": "code",
   "execution_count": 11,
   "metadata": {
    "collapsed": true
   },
   "outputs": [],
   "source": [
    "y = 5.7"
   ]
  },
  {
   "cell_type": "code",
   "execution_count": 12,
   "metadata": {
    "collapsed": false
   },
   "outputs": [
    {
     "name": "stdout",
     "output_type": "stream",
     "text": [
      "5.7\n",
      "<type 'float'>\n"
     ]
    }
   ],
   "source": [
    "print y\n",
    "print type(y)"
   ]
  },
  {
   "cell_type": "code",
   "execution_count": 13,
   "metadata": {
    "collapsed": false
   },
   "outputs": [
    {
     "name": "stdout",
     "output_type": "stream",
     "text": [
      "9.3 21.42 1.25\n"
     ]
    }
   ],
   "source": [
    "a = 4.2 + 5.1\n",
    "b = 4.2 * 5.1\n",
    "c = 5.0 / 4.0\n",
    "\n",
    "print a, b, c"
   ]
  },
  {
   "cell_type": "code",
   "execution_count": 14,
   "metadata": {
    "collapsed": false
   },
   "outputs": [
    {
     "name": "stdout",
     "output_type": "stream",
     "text": [
      "1.25\n"
     ]
    }
   ],
   "source": [
    "a = 5\n",
    "b = 4\n",
    "print float(a) / float(b)"
   ]
  },
  {
   "cell_type": "code",
   "execution_count": 15,
   "metadata": {
    "collapsed": false
   },
   "outputs": [
    {
     "name": "stdout",
     "output_type": "stream",
     "text": [
      "1.25\n",
      "1.25\n"
     ]
    }
   ],
   "source": [
    "print 5.0 / 4\n",
    "print 5 / 4.0"
   ]
  },
  {
   "cell_type": "code",
   "execution_count": 16,
   "metadata": {
    "collapsed": false
   },
   "outputs": [
    {
     "name": "stdout",
     "output_type": "stream",
     "text": [
      "1.25\n"
     ]
    }
   ],
   "source": [
    "print float(a) / b"
   ]
  },
  {
   "cell_type": "markdown",
   "metadata": {},
   "source": [
    "### bool"
   ]
  },
  {
   "cell_type": "code",
   "execution_count": 17,
   "metadata": {
    "collapsed": false
   },
   "outputs": [
    {
     "name": "stdout",
     "output_type": "stream",
     "text": [
      "True\n",
      "<type 'bool'>\n",
      "False\n",
      "<type 'bool'>\n"
     ]
    }
   ],
   "source": [
    "a = True\n",
    "b = False\n",
    "\n",
    "print a\n",
    "print type(a)\n",
    "\n",
    "print b\n",
    "print type(b)"
   ]
  },
  {
   "cell_type": "code",
   "execution_count": 18,
   "metadata": {
    "collapsed": false
   },
   "outputs": [
    {
     "name": "stdout",
     "output_type": "stream",
     "text": [
      "1\n",
      "2\n",
      "0\n"
     ]
    }
   ],
   "source": [
    "print a + b\n",
    "print a + a\n",
    "print b + b"
   ]
  },
  {
   "cell_type": "code",
   "execution_count": 20,
   "metadata": {
    "collapsed": false
   },
   "outputs": [
    {
     "name": "stdout",
     "output_type": "stream",
     "text": [
      "False\n",
      "True\n",
      "False\n"
     ]
    }
   ],
   "source": [
    "print a and b\n",
    "print a or a\n",
    "print b or b"
   ]
  },
  {
   "cell_type": "code",
   "execution_count": 21,
   "metadata": {
    "collapsed": false
   },
   "outputs": [
    {
     "name": "stdout",
     "output_type": "stream",
     "text": [
      "1 0\n"
     ]
    }
   ],
   "source": [
    "print int(a), int(b)"
   ]
  },
  {
   "cell_type": "code",
   "execution_count": 22,
   "metadata": {
    "collapsed": false
   },
   "outputs": [
    {
     "name": "stdout",
     "output_type": "stream",
     "text": [
      "False\n",
      "True\n",
      "False\n"
     ]
    }
   ],
   "source": [
    "print True and False\n",
    "print True and True\n",
    "print False and False"
   ]
  },
  {
   "cell_type": "code",
   "execution_count": 23,
   "metadata": {
    "collapsed": false
   },
   "outputs": [
    {
     "name": "stdout",
     "output_type": "stream",
     "text": [
      "True\n",
      "True\n",
      "False\n"
     ]
    }
   ],
   "source": [
    "print True or False\n",
    "print True or True\n",
    "print False or False"
   ]
  },
  {
   "cell_type": "markdown",
   "metadata": {},
   "source": [
    "## 2. None"
   ]
  },
  {
   "cell_type": "code",
   "execution_count": 24,
   "metadata": {
    "collapsed": false
   },
   "outputs": [
    {
     "name": "stdout",
     "output_type": "stream",
     "text": [
      "None\n",
      "<type 'NoneType'>\n"
     ]
    }
   ],
   "source": [
    "z = None\n",
    "print z\n",
    "print type(z)"
   ]
  },
  {
   "cell_type": "code",
   "execution_count": 25,
   "metadata": {
    "collapsed": false
   },
   "outputs": [
    {
     "ename": "TypeError",
     "evalue": "int() argument must be a string or a number, not 'NoneType'",
     "output_type": "error",
     "traceback": [
      "\u001b[0;31m---------------------------------------------------------------------------\u001b[0m",
      "\u001b[0;31mTypeError\u001b[0m                                 Traceback (most recent call last)",
      "\u001b[0;32m<ipython-input-25-faf6fd86913f>\u001b[0m in \u001b[0;36m<module>\u001b[0;34m()\u001b[0m\n\u001b[0;32m----> 1\u001b[0;31m \u001b[0;32mprint\u001b[0m \u001b[0mint\u001b[0m\u001b[0;34m(\u001b[0m\u001b[0mz\u001b[0m\u001b[0;34m)\u001b[0m\u001b[0;34m\u001b[0m\u001b[0m\n\u001b[0m",
      "\u001b[0;31mTypeError\u001b[0m: int() argument must be a string or a number, not 'NoneType'"
     ]
    }
   ],
   "source": [
    "print int(z)"
   ]
  },
  {
   "cell_type": "markdown",
   "metadata": {},
   "source": [
    "## 3. Строковые"
   ]
  },
  {
   "cell_type": "markdown",
   "metadata": {},
   "source": [
    "### str"
   ]
  },
  {
   "cell_type": "code",
   "execution_count": 26,
   "metadata": {
    "collapsed": false
   },
   "outputs": [
    {
     "name": "stdout",
     "output_type": "stream",
     "text": [
      "abc\n",
      "<type 'str'>\n"
     ]
    }
   ],
   "source": [
    "x = \"abc\"\n",
    "print x\n",
    "print type(x)"
   ]
  },
  {
   "cell_type": "code",
   "execution_count": 27,
   "metadata": {
    "collapsed": false
   },
   "outputs": [
    {
     "name": "stdout",
     "output_type": "stream",
     "text": [
      "Ivan Ivanov\n"
     ]
    }
   ],
   "source": [
    "a = 'Ivan'\n",
    "b = \"Ivanov\"\n",
    "s = a + \" \" + b\n",
    "print s"
   ]
  },
  {
   "cell_type": "code",
   "execution_count": 28,
   "metadata": {
    "collapsed": false
   },
   "outputs": [
    {
     "name": "stdout",
     "output_type": "stream",
     "text": [
      "IVAN\n",
      "ivan\n"
     ]
    }
   ],
   "source": [
    "print a.upper()\n",
    "print a.lower()"
   ]
  },
  {
   "cell_type": "code",
   "execution_count": 29,
   "metadata": {
    "collapsed": false
   },
   "outputs": [
    {
     "name": "stdout",
     "output_type": "stream",
     "text": [
      "4\n"
     ]
    }
   ],
   "source": [
    "print len(a)"
   ]
  },
  {
   "cell_type": "code",
   "execution_count": 30,
   "metadata": {
    "collapsed": false
   },
   "outputs": [
    {
     "name": "stdout",
     "output_type": "stream",
     "text": [
      "True\n",
      "False\n"
     ]
    }
   ],
   "source": [
    "print bool(a)\n",
    "print bool(\"\")"
   ]
  },
  {
   "cell_type": "code",
   "execution_count": 31,
   "metadata": {
    "collapsed": false
   },
   "outputs": [
    {
     "ename": "ValueError",
     "evalue": "invalid literal for int() with base 10: 'Ivan'",
     "output_type": "error",
     "traceback": [
      "\u001b[0;31m---------------------------------------------------------------------------\u001b[0m",
      "\u001b[0;31mValueError\u001b[0m                                Traceback (most recent call last)",
      "\u001b[0;32m<ipython-input-31-5f424ac5bb38>\u001b[0m in \u001b[0;36m<module>\u001b[0;34m()\u001b[0m\n\u001b[0;32m----> 1\u001b[0;31m \u001b[0;32mprint\u001b[0m \u001b[0mint\u001b[0m\u001b[0;34m(\u001b[0m\u001b[0ma\u001b[0m\u001b[0;34m)\u001b[0m\u001b[0;34m\u001b[0m\u001b[0m\n\u001b[0m",
      "\u001b[0;31mValueError\u001b[0m: invalid literal for int() with base 10: 'Ivan'"
     ]
    }
   ],
   "source": [
    "print int(a)"
   ]
  },
  {
   "cell_type": "code",
   "execution_count": 32,
   "metadata": {
    "collapsed": false
   },
   "outputs": [
    {
     "name": "stdout",
     "output_type": "stream",
     "text": [
      "Ivan\n",
      "I\n",
      "v\n",
      "Iva\n"
     ]
    }
   ],
   "source": [
    "print a\n",
    "print a[0]\n",
    "print a[1]\n",
    "print a[0:3]"
   ]
  },
  {
   "cell_type": "code",
   "execution_count": 35,
   "metadata": {
    "collapsed": false
   },
   "outputs": [
    {
     "name": "stdout",
     "output_type": "stream",
     "text": [
      "nv\n"
     ]
    }
   ],
   "source": [
    "print a[-1::-2]"
   ]
  },
  {
   "cell_type": "markdown",
   "metadata": {},
   "source": [
    "### unicode"
   ]
  },
  {
   "cell_type": "code",
   "execution_count": 36,
   "metadata": {
    "collapsed": false
   },
   "outputs": [
    {
     "name": "stdout",
     "output_type": "stream",
     "text": [
      "abc\n",
      "<type 'unicode'>\n"
     ]
    }
   ],
   "source": [
    "x = u\"abc\"\n",
    "print x\n",
    "print type(x)"
   ]
  },
  {
   "cell_type": "code",
   "execution_count": 37,
   "metadata": {
    "collapsed": false,
    "scrolled": true
   },
   "outputs": [
    {
     "name": "stdout",
     "output_type": "stream",
     "text": [
      "Элеонора Михайловна <type 'unicode'>\n",
      "Элеонора Михайловна <type 'str'>\n",
      "Элеонора Михайловна <type 'unicode'>\n",
      "Р­Р»РµРѕРЅРѕСЂР° РњРёС…Р°Р№Р»РѕРІРЅР° <type 'unicode'>\n"
     ]
    }
   ],
   "source": [
    "x = u'Элеонора Михайловна'\n",
    "print x, type(x)\n",
    "y = x.encode('utf-8')\n",
    "print y, type(y)\n",
    "z = y.decode('utf-8')\n",
    "print z, type(z)\n",
    "q = y.decode('cp1251')\n",
    "print q, type(q)"
   ]
  },
  {
   "cell_type": "code",
   "execution_count": 38,
   "metadata": {
    "collapsed": false
   },
   "outputs": [
    {
     "ename": "UnicodeEncodeError",
     "evalue": "'ascii' codec can't encode characters in position 0-7: ordinal not in range(128)",
     "output_type": "error",
     "traceback": [
      "\u001b[0;31m---------------------------------------------------------------------------\u001b[0m",
      "\u001b[0;31mUnicodeEncodeError\u001b[0m                        Traceback (most recent call last)",
      "\u001b[0;32m<ipython-input-38-814029ae4c69>\u001b[0m in \u001b[0;36m<module>\u001b[0;34m()\u001b[0m\n\u001b[0;32m----> 1\u001b[0;31m \u001b[0;32mprint\u001b[0m \u001b[0mstr\u001b[0m\u001b[0;34m(\u001b[0m\u001b[0mx\u001b[0m\u001b[0;34m)\u001b[0m\u001b[0;34m\u001b[0m\u001b[0m\n\u001b[0m",
      "\u001b[0;31mUnicodeEncodeError\u001b[0m: 'ascii' codec can't encode characters in position 0-7: ordinal not in range(128)"
     ]
    }
   ],
   "source": [
    "print str(x)"
   ]
  },
  {
   "cell_type": "code",
   "execution_count": 39,
   "metadata": {
    "collapsed": false
   },
   "outputs": [
    {
     "name": "stdout",
     "output_type": "stream",
     "text": [
      "�леонора Михайловна\n",
      "37 <type 'str'>\n",
      "19 <type 'unicode'>\n"
     ]
    }
   ],
   "source": [
    "print y[1:]\n",
    "print len(y), type(y)\n",
    "print len(x), type(x)"
   ]
  },
  {
   "cell_type": "code",
   "execution_count": 40,
   "metadata": {
    "collapsed": false
   },
   "outputs": [
    {
     "name": "stdout",
     "output_type": "stream",
     "text": [
      "Иван Иванович\n"
     ]
    }
   ],
   "source": [
    "y = u'Иван Иванович'.encode('utf-8')\n",
    "print y.decode('utf-8')"
   ]
  },
  {
   "cell_type": "code",
   "execution_count": 41,
   "metadata": {
    "collapsed": false
   },
   "outputs": [
    {
     "ename": "UnicodeDecodeError",
     "evalue": "'charmap' codec can't decode byte 0x98 in position 1: character maps to <undefined>",
     "output_type": "error",
     "traceback": [
      "\u001b[0;31m---------------------------------------------------------------------------\u001b[0m",
      "\u001b[0;31mUnicodeDecodeError\u001b[0m                        Traceback (most recent call last)",
      "\u001b[0;32m<ipython-input-41-007dbaadc60e>\u001b[0m in \u001b[0;36m<module>\u001b[0;34m()\u001b[0m\n\u001b[0;32m----> 1\u001b[0;31m \u001b[0;32mprint\u001b[0m \u001b[0my\u001b[0m\u001b[0;34m.\u001b[0m\u001b[0mdecode\u001b[0m\u001b[0;34m(\u001b[0m\u001b[0;34m'cp1251'\u001b[0m\u001b[0;34m)\u001b[0m\u001b[0;34m\u001b[0m\u001b[0m\n\u001b[0m",
      "\u001b[0;32m/Users/xead/anaconda/lib/python2.7/encodings/cp1251.pyc\u001b[0m in \u001b[0;36mdecode\u001b[0;34m(self, input, errors)\u001b[0m\n\u001b[1;32m     13\u001b[0m \u001b[0;34m\u001b[0m\u001b[0m\n\u001b[1;32m     14\u001b[0m     \u001b[0;32mdef\u001b[0m \u001b[0mdecode\u001b[0m\u001b[0;34m(\u001b[0m\u001b[0mself\u001b[0m\u001b[0;34m,\u001b[0m\u001b[0minput\u001b[0m\u001b[0;34m,\u001b[0m\u001b[0merrors\u001b[0m\u001b[0;34m=\u001b[0m\u001b[0;34m'strict'\u001b[0m\u001b[0;34m)\u001b[0m\u001b[0;34m:\u001b[0m\u001b[0;34m\u001b[0m\u001b[0m\n\u001b[0;32m---> 15\u001b[0;31m         \u001b[0;32mreturn\u001b[0m \u001b[0mcodecs\u001b[0m\u001b[0;34m.\u001b[0m\u001b[0mcharmap_decode\u001b[0m\u001b[0;34m(\u001b[0m\u001b[0minput\u001b[0m\u001b[0;34m,\u001b[0m\u001b[0merrors\u001b[0m\u001b[0;34m,\u001b[0m\u001b[0mdecoding_table\u001b[0m\u001b[0;34m)\u001b[0m\u001b[0;34m\u001b[0m\u001b[0m\n\u001b[0m\u001b[1;32m     16\u001b[0m \u001b[0;34m\u001b[0m\u001b[0m\n\u001b[1;32m     17\u001b[0m \u001b[0;32mclass\u001b[0m \u001b[0mIncrementalEncoder\u001b[0m\u001b[0;34m(\u001b[0m\u001b[0mcodecs\u001b[0m\u001b[0;34m.\u001b[0m\u001b[0mIncrementalEncoder\u001b[0m\u001b[0;34m)\u001b[0m\u001b[0;34m:\u001b[0m\u001b[0;34m\u001b[0m\u001b[0m\n",
      "\u001b[0;31mUnicodeDecodeError\u001b[0m: 'charmap' codec can't decode byte 0x98 in position 1: character maps to <undefined>"
     ]
    }
   ],
   "source": [
    "print y.decode('cp1251')"
   ]
  },
  {
   "cell_type": "code",
   "execution_count": 42,
   "metadata": {
    "collapsed": false
   },
   "outputs": [
    {
     "name": "stdout",
     "output_type": "stream",
     "text": [
      "['Ivanov', 'Ivan', 'Ivanovich']\n"
     ]
    }
   ],
   "source": [
    "splitted_line = \"Ivanov Ivan Ivanovich\".split(' ')\n",
    "print splitted_line"
   ]
  },
  {
   "cell_type": "code",
   "execution_count": 44,
   "metadata": {
    "collapsed": false
   },
   "outputs": [
    {
     "name": "stdout",
     "output_type": "stream",
     "text": [
      "vanov van vanovich\n"
     ]
    }
   ],
   "source": [
    "replaced = \"Ivanov Ivan Ivanovich\".replace('I', '')\n",
    "print replaced"
   ]
  },
  {
   "cell_type": "code",
   "execution_count": 45,
   "metadata": {
    "collapsed": false
   },
   "outputs": [
    {
     "name": "stdout",
     "output_type": "stream",
     "text": [
      "<type 'list'>\n"
     ]
    }
   ],
   "source": [
    "print type(splitted_line)"
   ]
  },
  {
   "cell_type": "code",
   "execution_count": 46,
   "metadata": {
    "collapsed": false
   },
   "outputs": [
    {
     "name": "stdout",
     "output_type": "stream",
     "text": [
      "['\\xd0\\x98\\xd0\\xb2\\xd0\\xb0\\xd0\\xbd\\xd0\\xbe\\xd0\\xb2', '\\xd0\\x98\\xd0\\xb2\\xd0\\xb0\\xd0\\xbd', '\\xd0\\x98\\xd0\\xb2\\xd0\\xb0\\xd0\\xbd\\xd0\\xbe\\xd0\\xb2\\xd0\\xb8\\xd1\\x87']\n"
     ]
    }
   ],
   "source": [
    "print \"Иванов Иван Иванович\".split(\" \")"
   ]
  },
  {
   "cell_type": "code",
   "execution_count": 47,
   "metadata": {
    "collapsed": false
   },
   "outputs": [
    {
     "name": "stdout",
     "output_type": "stream",
     "text": [
      "Иванов\n",
      "Иван\n",
      "Иванович\n"
     ]
    }
   ],
   "source": [
    "x = \"Иванов Иван Иванович\".split(\" \")\n",
    "\n",
    "for word in x:\n",
    "    print word"
   ]
  },
  {
   "cell_type": "code",
   "execution_count": 49,
   "metadata": {
    "collapsed": false
   },
   "outputs": [
    {
     "name": "stdout",
     "output_type": "stream",
     "text": [
      "И\n"
     ]
    }
   ],
   "source": [
    "print \"\\xd0\\x98\""
   ]
  },
  {
   "cell_type": "code",
   "execution_count": 50,
   "metadata": {
    "collapsed": false
   },
   "outputs": [
    {
     "name": "stdout",
     "output_type": "stream",
     "text": [
      "[u'\\u0418\\u0432\\u0430\\u043d\\u043e\\u0432', u'\\u0418\\u0432\\u0430\\u043d', u'\\u0418\\u0432\\u0430\\u043d\\u043e\\u0432\\u0438\\u0447']\n"
     ]
    }
   ],
   "source": [
    "print u\"Иванов Иван Иванович\".split(\" \")"
   ]
  },
  {
   "cell_type": "markdown",
   "metadata": {},
   "source": [
    "## 3. Массивы"
   ]
  },
  {
   "cell_type": "markdown",
   "metadata": {},
   "source": [
    "### list"
   ]
  },
  {
   "cell_type": "code",
   "execution_count": 51,
   "metadata": {
    "collapsed": false
   },
   "outputs": [
    {
     "name": "stdout",
     "output_type": "stream",
     "text": [
      "[33450, 34010, 33990, 33200]\n",
      "<type 'list'>\n"
     ]
    }
   ],
   "source": [
    "saled_goods_count = [33450, 34010, 33990, 33200]\n",
    "print saled_goods_count\n",
    "print type(saled_goods_count)"
   ]
  },
  {
   "cell_type": "code",
   "execution_count": 52,
   "metadata": {
    "collapsed": false
   },
   "outputs": [
    {
     "name": "stdout",
     "output_type": "stream",
     "text": [
      "[u'\\u0412\\u044b\\u0441\\u043e\\u043a\\u0438\\u0439', u'\\u0421\\u0440\\u0435\\u0434\\u043d\\u0438\\u0439', u'\\u0412\\u044b\\u0441\\u043e\\u043a\\u0438\\u0439']\n",
      "[u'\\u042d\\u043b\\u0435\\u043e\\u043d\\u043e\\u0440\\u0430 \\u041c\\u0438\\u0445\\u0430\\u0439\\u043b\\u043e\\u0432\\u043d\\u0430', u'\\u0418\\u0432\\u0430\\u043d \\u0418\\u0432\\u0430\\u043d\\u043e\\u0432\\u0438\\u0447', u'\\u041c\\u0438\\u0445\\u0430\\u0438\\u043b \\u0410\\u0431\\u0440\\u0430\\u043c\\u043e\\u0432\\u0438\\u0447']\n"
     ]
    }
   ],
   "source": [
    "income = [u'Высокий', u'Средний', u'Высокий']\n",
    "names = [u'Элеонора Михайловна', u'Иван Иванович', u'Михаил Абрамович']\n",
    "\n",
    "print income\n",
    "print names"
   ]
  },
  {
   "cell_type": "code",
   "execution_count": 53,
   "metadata": {
    "collapsed": false
   },
   "outputs": [
    {
     "name": "stdout",
     "output_type": "stream",
     "text": [
      "Высокий---Средний---Высокий\n"
     ]
    }
   ],
   "source": [
    "print \"---\".join(income)"
   ]
  },
  {
   "cell_type": "code",
   "execution_count": 54,
   "metadata": {
    "collapsed": false
   },
   "outputs": [
    {
     "name": "stdout",
     "output_type": "stream",
     "text": [
      "['Ivan Ivanovich', 'Medium', 500000, 12, True]\n"
     ]
    }
   ],
   "source": [
    "features = ['Ivan Ivanovich', 'Medium', 500000, 12, True]\n",
    "print features"
   ]
  },
  {
   "cell_type": "code",
   "execution_count": 55,
   "metadata": {
    "collapsed": false
   },
   "outputs": [
    {
     "name": "stdout",
     "output_type": "stream",
     "text": [
      "Ivan Ivanovich\n",
      "Medium\n",
      "12\n"
     ]
    }
   ],
   "source": [
    "print features[0]\n",
    "print features[1]\n",
    "print features[3]"
   ]
  },
  {
   "cell_type": "code",
   "execution_count": 56,
   "metadata": {
    "collapsed": false
   },
   "outputs": [
    {
     "name": "stdout",
     "output_type": "stream",
     "text": [
      "['Ivan Ivanovich', 'Medium', 500000, 12, True]\n"
     ]
    }
   ],
   "source": [
    "print features[0:5]"
   ]
  },
  {
   "cell_type": "code",
   "execution_count": 57,
   "metadata": {
    "collapsed": false
   },
   "outputs": [
    {
     "name": "stdout",
     "output_type": "stream",
     "text": [
      "['Ivan Ivanovich', 'Medium', 500000, 12, True]\n"
     ]
    }
   ],
   "source": [
    "print features[:5]"
   ]
  },
  {
   "cell_type": "code",
   "execution_count": 58,
   "metadata": {
    "collapsed": false
   },
   "outputs": [
    {
     "name": "stdout",
     "output_type": "stream",
     "text": [
      "['Medium', 500000, 12, True]\n"
     ]
    }
   ],
   "source": [
    "print features[1:]"
   ]
  },
  {
   "cell_type": "code",
   "execution_count": 59,
   "metadata": {
    "collapsed": false
   },
   "outputs": [
    {
     "name": "stdout",
     "output_type": "stream",
     "text": [
      "[500000, 12, True]\n"
     ]
    }
   ],
   "source": [
    "print features[2:5]"
   ]
  },
  {
   "cell_type": "code",
   "execution_count": 60,
   "metadata": {
    "collapsed": false
   },
   "outputs": [
    {
     "name": "stdout",
     "output_type": "stream",
     "text": [
      "['Ivan Ivanovich', 'Medium', 500000, 12]\n"
     ]
    }
   ],
   "source": [
    "print features[:-1]"
   ]
  },
  {
   "cell_type": "code",
   "execution_count": 61,
   "metadata": {
    "collapsed": false
   },
   "outputs": [
    {
     "name": "stdout",
     "output_type": "stream",
     "text": [
      "['Ivan Ivanovich', 'Medium', 500000, 12, True, 'One more element in list']\n"
     ]
    }
   ],
   "source": [
    "features.append('One more element in list')\n",
    "print features"
   ]
  },
  {
   "cell_type": "code",
   "execution_count": 62,
   "metadata": {
    "collapsed": true
   },
   "outputs": [],
   "source": [
    "del features[-2]"
   ]
  },
  {
   "cell_type": "code",
   "execution_count": 63,
   "metadata": {
    "collapsed": false
   },
   "outputs": [
    {
     "name": "stdout",
     "output_type": "stream",
     "text": [
      "['Ivan Ivanovich', 'Medium', 500000, 12, 'One more element in list']\n"
     ]
    }
   ],
   "source": [
    "print features"
   ]
  },
  {
   "cell_type": "markdown",
   "metadata": {},
   "source": [
    "### tuple"
   ]
  },
  {
   "cell_type": "code",
   "execution_count": 64,
   "metadata": {
    "collapsed": false
   },
   "outputs": [
    {
     "name": "stdout",
     "output_type": "stream",
     "text": [
      "<type 'tuple'>\n"
     ]
    }
   ],
   "source": [
    "features_tuple = ('Ivan Ivanovich', 'Medium', 500000, 12, True)\n",
    "print type(features_tuple)"
   ]
  },
  {
   "cell_type": "code",
   "execution_count": 65,
   "metadata": {
    "collapsed": false
   },
   "outputs": [
    {
     "data": {
      "text/plain": [
       "(500000, 12, True)"
      ]
     },
     "execution_count": 65,
     "metadata": {},
     "output_type": "execute_result"
    }
   ],
   "source": [
    "features_tuple[2:5]"
   ]
  },
  {
   "cell_type": "code",
   "execution_count": 66,
   "metadata": {
    "collapsed": false
   },
   "outputs": [
    {
     "ename": "AttributeError",
     "evalue": "'tuple' object has no attribute 'append'",
     "output_type": "error",
     "traceback": [
      "\u001b[0;31m---------------------------------------------------------------------------\u001b[0m",
      "\u001b[0;31mAttributeError\u001b[0m                            Traceback (most recent call last)",
      "\u001b[0;32m<ipython-input-66-ea16a6b56b87>\u001b[0m in \u001b[0;36m<module>\u001b[0;34m()\u001b[0m\n\u001b[0;32m----> 1\u001b[0;31m \u001b[0mfeatures_tuple\u001b[0m\u001b[0;34m.\u001b[0m\u001b[0mappend\u001b[0m\u001b[0;34m(\u001b[0m\u001b[0;34m'one more element'\u001b[0m\u001b[0;34m)\u001b[0m\u001b[0;34m\u001b[0m\u001b[0m\n\u001b[0m",
      "\u001b[0;31mAttributeError\u001b[0m: 'tuple' object has no attribute 'append'"
     ]
    }
   ],
   "source": [
    "features_tuple.append('one more element')"
   ]
  },
  {
   "cell_type": "markdown",
   "metadata": {},
   "source": [
    "## 4. Множества и словари"
   ]
  },
  {
   "cell_type": "markdown",
   "metadata": {},
   "source": [
    "### set"
   ]
  },
  {
   "cell_type": "code",
   "execution_count": 67,
   "metadata": {
    "collapsed": true
   },
   "outputs": [],
   "source": [
    "names = {'Ivan', 'Petr', 'Konstantin'}"
   ]
  },
  {
   "cell_type": "code",
   "execution_count": 68,
   "metadata": {
    "collapsed": false
   },
   "outputs": [
    {
     "name": "stdout",
     "output_type": "stream",
     "text": [
      "<type 'set'>\n"
     ]
    }
   ],
   "source": [
    "print type(names)"
   ]
  },
  {
   "cell_type": "code",
   "execution_count": 69,
   "metadata": {
    "collapsed": false
   },
   "outputs": [
    {
     "name": "stdout",
     "output_type": "stream",
     "text": [
      "True\n"
     ]
    }
   ],
   "source": [
    "print 'Ivan' in names"
   ]
  },
  {
   "cell_type": "code",
   "execution_count": 70,
   "metadata": {
    "collapsed": false
   },
   "outputs": [
    {
     "name": "stdout",
     "output_type": "stream",
     "text": [
      "False\n"
     ]
    }
   ],
   "source": [
    "print 'Mikhail' in names"
   ]
  },
  {
   "cell_type": "code",
   "execution_count": 71,
   "metadata": {
    "collapsed": false
   },
   "outputs": [
    {
     "name": "stdout",
     "output_type": "stream",
     "text": [
      "set(['Ivan', 'Mikhail', 'Konstantin', 'Petr'])\n"
     ]
    }
   ],
   "source": [
    "names.add('Mikhail')\n",
    "print names"
   ]
  },
  {
   "cell_type": "code",
   "execution_count": 72,
   "metadata": {
    "collapsed": false
   },
   "outputs": [
    {
     "name": "stdout",
     "output_type": "stream",
     "text": [
      "set(['Ivan', 'Mikhail', 'Konstantin', 'Petr'])\n"
     ]
    }
   ],
   "source": [
    "names.add('Mikhail')\n",
    "print names"
   ]
  },
  {
   "cell_type": "code",
   "execution_count": 73,
   "metadata": {
    "collapsed": false
   },
   "outputs": [
    {
     "name": "stdout",
     "output_type": "stream",
     "text": [
      "set(['Ivan', 'Konstantin', 'Petr'])\n"
     ]
    }
   ],
   "source": [
    "names.remove('Mikhail')\n",
    "print names"
   ]
  },
  {
   "cell_type": "code",
   "execution_count": 74,
   "metadata": {
    "collapsed": false
   },
   "outputs": [
    {
     "ename": "TypeError",
     "evalue": "unhashable type: 'list'",
     "output_type": "error",
     "traceback": [
      "\u001b[0;31m---------------------------------------------------------------------------\u001b[0m",
      "\u001b[0;31mTypeError\u001b[0m                                 Traceback (most recent call last)",
      "\u001b[0;32m<ipython-input-74-4a104b0fb39e>\u001b[0m in \u001b[0;36m<module>\u001b[0;34m()\u001b[0m\n\u001b[0;32m----> 1\u001b[0;31m \u001b[0mnames\u001b[0m\u001b[0;34m.\u001b[0m\u001b[0madd\u001b[0m\u001b[0;34m(\u001b[0m\u001b[0;34m[\u001b[0m\u001b[0;34m'Vladimir'\u001b[0m\u001b[0;34m,\u001b[0m \u001b[0;34m'Vladimirovich'\u001b[0m\u001b[0;34m]\u001b[0m\u001b[0;34m)\u001b[0m\u001b[0;34m\u001b[0m\u001b[0m\n\u001b[0m",
      "\u001b[0;31mTypeError\u001b[0m: unhashable type: 'list'"
     ]
    }
   ],
   "source": [
    "names.add(['Vladimir', 'Vladimirovich'])"
   ]
  },
  {
   "cell_type": "code",
   "execution_count": 75,
   "metadata": {
    "collapsed": false
   },
   "outputs": [
    {
     "name": "stdout",
     "output_type": "stream",
     "text": [
      "set(['Ivan', ('Vladimir', 'Vladimirovich'), 'Konstantin', 'Petr'])\n"
     ]
    }
   ],
   "source": [
    "names.add(('Vladimir', 'Vladimirovich'))\n",
    "print names"
   ]
  },
  {
   "cell_type": "code",
   "execution_count": 86,
   "metadata": {
    "collapsed": true
   },
   "outputs": [],
   "source": [
    "a = range(100000)\n",
    "b = range(100000)\n",
    "b = set(b)"
   ]
  },
  {
   "cell_type": "code",
   "execution_count": 87,
   "metadata": {
    "collapsed": false
   },
   "outputs": [
    {
     "name": "stdout",
     "output_type": "stream",
     "text": [
      "[0, 1, 2, 3, 4]\n",
      "[99995, 99996, 99997, 99998, 99999]\n"
     ]
    }
   ],
   "source": [
    "print a[:5]\n",
    "print a[-5:]"
   ]
  },
  {
   "cell_type": "code",
   "execution_count": 88,
   "metadata": {
    "collapsed": false
   },
   "outputs": [
    {
     "name": "stdout",
     "output_type": "stream",
     "text": [
      "True\n",
      "CPU times: user 250 µs, sys: 27 µs, total: 277 µs\n",
      "Wall time: 260 µs\n"
     ]
    }
   ],
   "source": [
    "%%time\n",
    "print 9999 in a"
   ]
  },
  {
   "cell_type": "code",
   "execution_count": 89,
   "metadata": {
    "collapsed": false
   },
   "outputs": [
    {
     "name": "stdout",
     "output_type": "stream",
     "text": [
      "True\n",
      "CPU times: user 75 µs, sys: 26 µs, total: 101 µs\n",
      "Wall time: 85.1 µs\n"
     ]
    }
   ],
   "source": [
    "%%time\n",
    "print 9999 in b"
   ]
  },
  {
   "cell_type": "markdown",
   "metadata": {},
   "source": [
    "### dict"
   ]
  },
  {
   "cell_type": "code",
   "execution_count": 91,
   "metadata": {
    "collapsed": false
   },
   "outputs": [
    {
     "name": "stdout",
     "output_type": "stream",
     "text": [
      "{'I': 2, 'am': 1}\n"
     ]
    }
   ],
   "source": [
    "words_frequencies = dict()\n",
    "words_frequencies['I'] = 1\n",
    "words_frequencies['am'] = 1\n",
    "words_frequencies['I'] += 1\n",
    "\n",
    "print words_frequencies"
   ]
  },
  {
   "cell_type": "code",
   "execution_count": 92,
   "metadata": {
    "collapsed": false
   },
   "outputs": [
    {
     "name": "stdout",
     "output_type": "stream",
     "text": [
      "2\n"
     ]
    }
   ],
   "source": [
    "print words_frequencies['I']"
   ]
  },
  {
   "cell_type": "code",
   "execution_count": 93,
   "metadata": {
    "collapsed": false
   },
   "outputs": [
    {
     "name": "stdout",
     "output_type": "stream",
     "text": [
      "{'I': 2, 'am': 1}\n"
     ]
    }
   ],
   "source": [
    "words_frequencies = {'I': 2, 'am': 1}\n",
    "print words_frequencies"
   ]
  },
  {
   "cell_type": "code",
   "execution_count": 95,
   "metadata": {
    "collapsed": false
   },
   "outputs": [
    {
     "name": "stdout",
     "output_type": "stream",
     "text": [
      "{u'123': None, 'abc': 3.4, 5: 7.8}\n"
     ]
    }
   ],
   "source": [
    "yet_another_dict = {'abc': 3.4, 5: 7.8, u'123': None}\n",
    "print yet_another_dict"
   ]
  },
  {
   "cell_type": "code",
   "execution_count": 96,
   "metadata": {
    "collapsed": false
   },
   "outputs": [
    {
     "name": "stdout",
     "output_type": "stream",
     "text": [
      "{u'123': None, 'abc': 3.4, 5: 7.8, (1, 2, 5): [4, 5, 7]}\n"
     ]
    }
   ],
   "source": [
    "yet_another_dict[(1,2,5)] = [4, 5, 7]\n",
    "print yet_another_dict"
   ]
  },
  {
   "cell_type": "code",
   "execution_count": 97,
   "metadata": {
    "collapsed": false
   },
   "outputs": [
    {
     "ename": "TypeError",
     "evalue": "unhashable type: 'list'",
     "output_type": "error",
     "traceback": [
      "\u001b[0;31m---------------------------------------------------------------------------\u001b[0m",
      "\u001b[0;31mTypeError\u001b[0m                                 Traceback (most recent call last)",
      "\u001b[0;32m<ipython-input-97-d896033641d2>\u001b[0m in \u001b[0;36m<module>\u001b[0;34m()\u001b[0m\n\u001b[0;32m----> 1\u001b[0;31m \u001b[0myet_another_dict\u001b[0m\u001b[0;34m[\u001b[0m\u001b[0;34m[\u001b[0m\u001b[0;36m1\u001b[0m\u001b[0;34m,\u001b[0m\u001b[0;36m2\u001b[0m\u001b[0;34m,\u001b[0m\u001b[0;36m7\u001b[0m\u001b[0;34m]\u001b[0m\u001b[0;34m]\u001b[0m \u001b[0;34m=\u001b[0m \u001b[0;34m[\u001b[0m\u001b[0;36m4\u001b[0m\u001b[0;34m,\u001b[0m \u001b[0;36m5\u001b[0m\u001b[0;34m]\u001b[0m\u001b[0;34m\u001b[0m\u001b[0m\n\u001b[0m",
      "\u001b[0;31mTypeError\u001b[0m: unhashable type: 'list'"
     ]
    }
   ],
   "source": [
    "yet_another_dict[[1,2,7]] = [4, 5]"
   ]
  },
  {
   "cell_type": "markdown",
   "metadata": {
    "collapsed": true
   },
   "source": [
    "## Где еще можно познакомиться с Python"
   ]
  },
  {
   "cell_type": "markdown",
   "metadata": {},
   "source": [
    "* https://www.coursera.org/courses?query=Python\n",
    "* https://www.codeacademy.com\n",
    "* http://www.pythontutor.ru\n",
    "* http://www.learnpythonthehardway.org\n",
    "* http://snakify.org\n",
    "* https://www.checkio.org"
   ]
  },
  {
   "cell_type": "code",
   "execution_count": 101,
   "metadata": {
    "collapsed": false,
    "scrolled": true
   },
   "outputs": [
    {
     "name": "stdout",
     "output_type": "stream",
     "text": [
      "0\n",
      "1\n",
      "1\n",
      "9\n",
      "4\n",
      "1\n",
      "36\n",
      "7\n",
      "1\n",
      "81\n",
      "10\n",
      "1\n",
      "144\n",
      "13\n",
      "1\n",
      "225\n",
      "16\n",
      "1\n",
      "324\n",
      "19\n",
      "1\n",
      "441\n",
      "22\n",
      "1\n",
      "576\n",
      "25\n",
      "1\n",
      "729\n",
      "28\n",
      "1\n",
      "900\n",
      "31\n",
      "1\n",
      "1089\n",
      "34\n",
      "1\n",
      "1296\n",
      "37\n",
      "1\n",
      "1521\n",
      "40\n",
      "1\n",
      "1764\n",
      "43\n",
      "1\n",
      "2025\n",
      "46\n",
      "1\n",
      "2304\n",
      "49\n",
      "1\n",
      "2601\n",
      "52\n",
      "1\n",
      "2916\n",
      "55\n",
      "1\n",
      "3249\n",
      "58\n",
      "1\n",
      "3600\n",
      "61\n",
      "1\n",
      "3969\n",
      "64\n",
      "1\n",
      "4356\n",
      "67\n",
      "1\n",
      "4761\n",
      "70\n",
      "1\n",
      "5184\n",
      "73\n",
      "1\n",
      "5625\n",
      "76\n",
      "1\n",
      "6084\n",
      "79\n",
      "1\n",
      "6561\n",
      "82\n",
      "1\n",
      "7056\n",
      "85\n",
      "1\n",
      "7569\n",
      "88\n",
      "1\n",
      "8100\n",
      "91\n",
      "1\n",
      "8649\n",
      "94\n",
      "1\n",
      "9216\n",
      "97\n",
      "1\n",
      "9801\n",
      "100\n",
      "1\n",
      "10404\n",
      "103\n",
      "1\n",
      "11025\n",
      "106\n",
      "1\n",
      "11664\n",
      "109\n",
      "1\n",
      "12321\n",
      "112\n",
      "1\n",
      "12996\n",
      "115\n",
      "1\n",
      "13689\n",
      "118\n",
      "1\n",
      "14400\n",
      "121\n",
      "1\n",
      "15129\n",
      "124\n",
      "1\n",
      "15876\n",
      "127\n",
      "1\n",
      "16641\n",
      "130\n",
      "1\n",
      "17424\n",
      "133\n",
      "1\n",
      "18225\n",
      "136\n",
      "1\n",
      "19044\n",
      "139\n",
      "1\n",
      "19881\n",
      "142\n",
      "1\n",
      "20736\n",
      "145\n",
      "1\n",
      "21609\n",
      "148\n",
      "1\n",
      "22500\n",
      "151\n",
      "1\n",
      "23409\n",
      "154\n",
      "1\n",
      "24336\n",
      "157\n",
      "1\n",
      "25281\n",
      "160\n",
      "1\n",
      "26244\n",
      "163\n",
      "1\n",
      "27225\n",
      "166\n",
      "1\n",
      "28224\n",
      "169\n",
      "1\n",
      "29241\n",
      "172\n",
      "1\n",
      "30276\n",
      "175\n",
      "1\n",
      "31329\n",
      "178\n",
      "1\n",
      "32400\n",
      "181\n",
      "1\n",
      "33489\n",
      "184\n",
      "1\n",
      "34596\n",
      "187\n",
      "1\n",
      "35721\n",
      "190\n",
      "1\n",
      "36864\n",
      "193\n",
      "1\n",
      "38025\n",
      "196\n",
      "1\n",
      "39204\n",
      "199\n",
      "1\n",
      "40401\n",
      "202\n",
      "1\n",
      "41616\n",
      "205\n",
      "1\n",
      "42849\n",
      "208\n",
      "1\n",
      "44100\n",
      "211\n",
      "1\n",
      "45369\n",
      "214\n",
      "1\n",
      "46656\n",
      "217\n",
      "1\n",
      "47961\n",
      "220\n",
      "1\n",
      "49284\n",
      "223\n",
      "1\n",
      "50625\n",
      "226\n",
      "1\n",
      "51984\n",
      "229\n",
      "1\n",
      "53361\n",
      "232\n",
      "1\n",
      "54756\n",
      "235\n",
      "1\n",
      "56169\n",
      "238\n",
      "1\n",
      "57600\n",
      "241\n",
      "1\n",
      "59049\n",
      "244\n",
      "1\n",
      "60516\n",
      "247\n",
      "1\n",
      "62001\n",
      "250\n",
      "1\n",
      "63504\n",
      "253\n",
      "1\n",
      "65025\n",
      "256\n",
      "1\n",
      "66564\n",
      "259\n",
      "1\n",
      "68121\n",
      "262\n",
      "1\n",
      "69696\n",
      "265\n",
      "1\n",
      "71289\n",
      "268\n",
      "1\n",
      "72900\n",
      "271\n",
      "1\n",
      "74529\n",
      "274\n",
      "1\n",
      "76176\n",
      "277\n",
      "1\n",
      "77841\n",
      "280\n",
      "1\n",
      "79524\n",
      "283\n",
      "1\n",
      "81225\n",
      "286\n",
      "1\n",
      "82944\n",
      "289\n",
      "1\n",
      "84681\n",
      "292\n",
      "1\n",
      "86436\n",
      "295\n",
      "1\n",
      "88209\n",
      "298\n",
      "1\n",
      "90000\n",
      "301\n",
      "1\n",
      "91809\n",
      "304\n",
      "1\n",
      "93636\n",
      "307\n",
      "1\n",
      "95481\n",
      "310\n",
      "1\n",
      "97344\n",
      "313\n",
      "1\n",
      "99225\n",
      "316\n",
      "1\n",
      "101124\n",
      "319\n",
      "1\n",
      "103041\n",
      "322\n",
      "1\n",
      "104976\n",
      "325\n",
      "1\n",
      "106929\n",
      "328\n",
      "1\n",
      "108900\n",
      "331\n",
      "1\n",
      "110889\n",
      "334\n",
      "1\n",
      "112896\n",
      "337\n",
      "1\n",
      "114921\n",
      "340\n",
      "1\n",
      "116964\n",
      "343\n",
      "1\n",
      "119025\n",
      "346\n",
      "1\n",
      "121104\n",
      "349\n",
      "1\n",
      "123201\n",
      "352\n",
      "1\n",
      "125316\n",
      "355\n",
      "1\n",
      "127449\n",
      "358\n",
      "1\n",
      "129600\n",
      "361\n",
      "1\n",
      "131769\n",
      "364\n",
      "1\n",
      "133956\n",
      "367\n",
      "1\n",
      "136161\n",
      "370\n",
      "1\n",
      "138384\n",
      "373\n",
      "1\n",
      "140625\n",
      "376\n",
      "1\n",
      "142884\n",
      "379\n",
      "1\n",
      "145161\n",
      "382\n",
      "1\n",
      "147456\n",
      "385\n",
      "1\n",
      "149769\n",
      "388\n",
      "1\n",
      "152100\n",
      "391\n",
      "1\n",
      "154449\n",
      "394\n",
      "1\n",
      "156816\n",
      "397\n",
      "1\n",
      "159201\n",
      "400\n",
      "1\n",
      "161604\n",
      "403\n",
      "1\n",
      "164025\n",
      "406\n",
      "1\n",
      "166464\n",
      "409\n",
      "1\n",
      "168921\n",
      "412\n",
      "1\n",
      "171396\n",
      "415\n",
      "1\n",
      "173889\n",
      "418\n",
      "1\n",
      "176400\n",
      "421\n",
      "1\n",
      "178929\n",
      "424\n",
      "1\n",
      "181476\n",
      "427\n",
      "1\n",
      "184041\n",
      "430\n",
      "1\n",
      "186624\n",
      "433\n",
      "1\n",
      "189225\n",
      "436\n",
      "1\n",
      "191844\n",
      "439\n",
      "1\n",
      "194481\n",
      "442\n",
      "1\n",
      "197136\n",
      "445\n",
      "1\n",
      "199809\n",
      "448\n",
      "1\n",
      "202500\n",
      "451\n",
      "1\n",
      "205209\n",
      "454\n",
      "1\n",
      "207936\n",
      "457\n",
      "1\n",
      "210681\n",
      "460\n",
      "1\n",
      "213444\n",
      "463\n",
      "1\n",
      "216225\n",
      "466\n",
      "1\n",
      "219024\n",
      "469\n",
      "1\n",
      "221841\n",
      "472\n",
      "1\n",
      "224676\n",
      "475\n",
      "1\n",
      "227529\n",
      "478\n",
      "1\n",
      "230400\n",
      "481\n",
      "1\n",
      "233289\n",
      "484\n",
      "1\n",
      "236196\n",
      "487\n",
      "1\n",
      "239121\n",
      "490\n",
      "1\n",
      "242064\n",
      "493\n",
      "1\n",
      "245025\n",
      "496\n",
      "1\n",
      "248004\n",
      "499\n",
      "1\n",
      "251001\n",
      "502\n",
      "1\n",
      "254016\n",
      "505\n",
      "1\n",
      "257049\n",
      "508\n",
      "1\n",
      "260100\n",
      "511\n",
      "1\n",
      "263169\n",
      "514\n",
      "1\n",
      "266256\n",
      "517\n",
      "1\n",
      "269361\n",
      "520\n",
      "1\n",
      "272484\n",
      "523\n",
      "1\n",
      "275625\n",
      "526\n",
      "1\n",
      "278784\n",
      "529\n",
      "1\n",
      "281961\n",
      "532\n",
      "1\n",
      "285156\n",
      "535\n",
      "1\n",
      "288369\n",
      "538\n",
      "1\n",
      "291600\n",
      "541\n",
      "1\n",
      "294849\n",
      "544\n",
      "1\n",
      "298116\n",
      "547\n",
      "1\n",
      "301401\n",
      "550\n",
      "1\n",
      "304704\n",
      "553\n",
      "1\n",
      "308025\n",
      "556\n",
      "1\n",
      "311364\n",
      "559\n",
      "1\n",
      "314721\n",
      "562\n",
      "1\n",
      "318096\n",
      "565\n",
      "1\n",
      "321489\n",
      "568\n",
      "1\n",
      "324900\n",
      "571\n",
      "1\n",
      "328329\n",
      "574\n",
      "1\n",
      "331776\n",
      "577\n",
      "1\n",
      "335241\n",
      "580\n",
      "1\n",
      "338724\n",
      "583\n",
      "1\n",
      "342225\n",
      "586\n",
      "1\n",
      "345744\n",
      "589\n",
      "1\n",
      "349281\n",
      "592\n",
      "1\n",
      "352836\n",
      "595\n",
      "1\n",
      "356409\n",
      "598\n",
      "1\n",
      "360000\n",
      "601\n",
      "1\n",
      "363609\n",
      "604\n",
      "1\n",
      "367236\n",
      "607\n",
      "1\n",
      "370881\n",
      "610\n",
      "1\n",
      "374544\n",
      "613\n",
      "1\n",
      "378225\n",
      "616\n",
      "1\n",
      "381924\n",
      "619\n",
      "1\n",
      "385641\n",
      "622\n",
      "1\n",
      "389376\n",
      "625\n",
      "1\n",
      "393129\n",
      "628\n",
      "1\n",
      "396900\n",
      "631\n",
      "1\n",
      "400689\n",
      "634\n",
      "1\n",
      "404496\n",
      "637\n",
      "1\n",
      "408321\n",
      "640\n",
      "1\n",
      "412164\n",
      "643\n",
      "1\n",
      "416025\n",
      "646\n",
      "1\n",
      "419904\n",
      "649\n",
      "1\n",
      "423801\n",
      "652\n",
      "1\n",
      "427716\n",
      "655\n",
      "1\n",
      "431649\n",
      "658\n",
      "1\n",
      "435600\n",
      "661\n",
      "1\n",
      "439569\n",
      "664\n",
      "1\n",
      "443556\n",
      "667\n",
      "1\n",
      "447561\n",
      "670\n",
      "1\n",
      "451584\n",
      "673\n",
      "1\n",
      "455625\n",
      "676\n",
      "1\n",
      "459684\n",
      "679\n",
      "1\n",
      "463761\n",
      "682\n",
      "1\n",
      "467856\n",
      "685\n",
      "1\n",
      "471969\n",
      "688\n",
      "1\n",
      "476100\n",
      "691\n",
      "1\n",
      "480249\n",
      "694\n",
      "1\n",
      "484416\n",
      "697\n",
      "1\n",
      "488601\n",
      "700\n",
      "1\n",
      "492804\n",
      "703\n",
      "1\n",
      "497025\n",
      "706\n",
      "1\n",
      "501264\n",
      "709\n",
      "1\n",
      "505521\n",
      "712\n",
      "1\n",
      "509796\n",
      "715\n",
      "1\n",
      "514089\n",
      "718\n",
      "1\n",
      "518400\n",
      "721\n",
      "1\n",
      "522729\n",
      "724\n",
      "1\n",
      "527076\n",
      "727\n",
      "1\n",
      "531441\n",
      "730\n",
      "1\n",
      "535824\n",
      "733\n",
      "1\n",
      "540225\n",
      "736\n",
      "1\n",
      "544644\n",
      "739\n",
      "1\n",
      "549081\n",
      "742\n",
      "1\n",
      "553536\n",
      "745\n",
      "1\n",
      "558009\n",
      "748\n",
      "1\n",
      "562500\n",
      "751\n",
      "1\n",
      "567009\n",
      "754\n",
      "1\n",
      "571536\n",
      "757\n",
      "1\n",
      "576081\n",
      "760\n",
      "1\n",
      "580644\n",
      "763\n",
      "1\n",
      "585225\n",
      "766\n",
      "1\n",
      "589824\n",
      "769\n",
      "1\n",
      "594441\n",
      "772\n",
      "1\n",
      "599076\n",
      "775\n",
      "1\n",
      "603729\n",
      "778\n",
      "1\n",
      "608400\n",
      "781\n",
      "1\n",
      "613089\n",
      "784\n",
      "1\n",
      "617796\n",
      "787\n",
      "1\n",
      "622521\n",
      "790\n",
      "1\n",
      "627264\n",
      "793\n",
      "1\n",
      "632025\n",
      "796\n",
      "1\n",
      "636804\n",
      "799\n",
      "1\n",
      "641601\n",
      "802\n",
      "1\n",
      "646416\n",
      "805\n",
      "1\n",
      "651249\n",
      "808\n",
      "1\n",
      "656100\n",
      "811\n",
      "1\n",
      "660969\n",
      "814\n",
      "1\n",
      "665856\n",
      "817\n",
      "1\n",
      "670761\n",
      "820\n",
      "1\n",
      "675684\n",
      "823\n",
      "1\n",
      "680625\n",
      "826\n",
      "1\n",
      "685584\n",
      "829\n",
      "1\n",
      "690561\n",
      "832\n",
      "1\n",
      "695556\n",
      "835\n",
      "1\n",
      "700569\n",
      "838\n",
      "1\n",
      "705600\n",
      "841\n",
      "1\n",
      "710649\n",
      "844\n",
      "1\n",
      "715716\n",
      "847\n",
      "1\n",
      "720801\n",
      "850\n",
      "1\n",
      "725904\n",
      "853\n",
      "1\n",
      "731025\n",
      "856\n",
      "1\n",
      "736164\n",
      "859\n",
      "1\n",
      "741321\n",
      "862\n",
      "1\n",
      "746496\n",
      "865\n",
      "1\n",
      "751689\n",
      "868\n",
      "1\n",
      "756900\n",
      "871\n",
      "1\n",
      "762129\n",
      "874\n",
      "1\n",
      "767376\n",
      "877\n",
      "1\n",
      "772641\n",
      "880\n",
      "1\n",
      "777924\n",
      "883\n",
      "1\n",
      "783225\n",
      "886\n",
      "1\n",
      "788544\n",
      "889\n",
      "1\n",
      "793881\n",
      "892\n",
      "1\n",
      "799236\n",
      "895\n",
      "1\n",
      "804609\n",
      "898\n",
      "1\n",
      "810000\n",
      "901\n",
      "1\n",
      "815409\n",
      "904\n",
      "1\n",
      "820836\n",
      "907\n",
      "1\n",
      "826281\n",
      "910\n",
      "1\n",
      "831744\n",
      "913\n",
      "1\n",
      "837225\n",
      "916\n",
      "1\n",
      "842724\n",
      "919\n",
      "1\n",
      "848241\n",
      "922\n",
      "1\n",
      "853776\n",
      "925\n",
      "1\n",
      "859329\n",
      "928\n",
      "1\n",
      "864900\n",
      "931\n",
      "1\n",
      "870489\n",
      "934\n",
      "1\n",
      "876096\n",
      "937\n",
      "1\n",
      "881721\n",
      "940\n",
      "1\n",
      "887364\n",
      "943\n",
      "1\n",
      "893025\n",
      "946\n",
      "1\n",
      "898704\n",
      "949\n",
      "1\n",
      "904401\n",
      "952\n",
      "1\n",
      "910116\n",
      "955\n",
      "1\n",
      "915849\n",
      "958\n",
      "1\n",
      "921600\n",
      "961\n",
      "1\n",
      "927369\n",
      "964\n",
      "1\n",
      "933156\n",
      "967\n",
      "1\n",
      "938961\n",
      "970\n",
      "1\n",
      "944784\n",
      "973\n",
      "1\n",
      "950625\n",
      "976\n",
      "1\n",
      "956484\n",
      "979\n",
      "1\n",
      "962361\n",
      "982\n",
      "1\n",
      "968256\n",
      "985\n",
      "1\n",
      "974169\n",
      "988\n",
      "1\n",
      "980100\n",
      "991\n",
      "1\n",
      "986049\n",
      "994\n",
      "1\n",
      "992016\n",
      "997\n",
      "1\n",
      "998001\n"
     ]
    }
   ],
   "source": [
    "for x in range(1000):\n",
    "    if x % 3 == 0:\n",
    "        print x ** 2\n",
    "    elif x % 3 ==1:\n",
    "        print x\n",
    "    else:\n",
    "        print 1"
   ]
  },
  {
   "cell_type": "code",
   "execution_count": 102,
   "metadata": {
    "collapsed": false
   },
   "outputs": [
    {
     "name": "stdout",
     "output_type": "stream",
     "text": [
      "25\n"
     ]
    }
   ],
   "source": [
    "def sqr(x):\n",
    "    return x ** 2\n",
    "\n",
    "print sqr(5)"
   ]
  },
  {
   "cell_type": "code",
   "execution_count": 105,
   "metadata": {
    "collapsed": false
   },
   "outputs": [
    {
     "name": "stdout",
     "output_type": "stream",
     "text": [
      "<generator object <genexpr> at 0x1047f6690>\n",
      "<type 'generator'>\n"
     ]
    }
   ],
   "source": [
    "q = (x ** 2 for x in range(10))\n",
    "print q\n",
    "print type(q)"
   ]
  },
  {
   "cell_type": "code",
   "execution_count": 106,
   "metadata": {
    "collapsed": false
   },
   "outputs": [
    {
     "name": "stdout",
     "output_type": "stream",
     "text": [
      "<type 'xrange'>\n"
     ]
    }
   ],
   "source": [
    "z = xrange(1000)\n",
    "print type(z)"
   ]
  },
  {
   "cell_type": "code",
   "execution_count": 108,
   "metadata": {
    "collapsed": false
   },
   "outputs": [
    {
     "name": "stdout",
     "output_type": "stream",
     "text": [
      "{'overfitted': 1, 'model': 1, 'My': 1, 'is': 4}\n"
     ]
    }
   ],
   "source": [
    "text = \"My model is overfitted is is is\"\n",
    "\n",
    "counts = dict()\n",
    "\n",
    "splitted = text.split(' ')\n",
    "\n",
    "for word in splitted:\n",
    "    if word not in counts:\n",
    "        counts[word] = 1\n",
    "    else:\n",
    "        counts[word] += 1\n",
    "        \n",
    "print counts"
   ]
  },
  {
   "cell_type": "code",
   "execution_count": null,
   "metadata": {
    "collapsed": true
   },
   "outputs": [],
   "source": [
    "from collections import defaultdict\n",
    "from collections import Counter\n"
   ]
  }
 ],
 "metadata": {
  "anaconda-cloud": {},
  "kernelspec": {
   "display_name": "Python [default]",
   "language": "python",
   "name": "python2"
  },
  "language_info": {
   "codemirror_mode": {
    "name": "ipython",
    "version": 2
   },
   "file_extension": ".py",
   "mimetype": "text/x-python",
   "name": "python",
   "nbconvert_exporter": "python",
   "pygments_lexer": "ipython2",
   "version": "2.7.12"
  }
 },
 "nbformat": 4,
 "nbformat_minor": 0
}
