{
 "cells": [
  {
   "cell_type": "code",
   "execution_count": null,
   "metadata": {
    "collapsed": true
   },
   "outputs": [],
   "source": [
    "from collections import OrderedDict\n",
    "from collections import Counter\n",
    "import numpy as np\n",
    "import pandas\n",
    "import heapq"
   ]
  },
  {
   "cell_type": "code",
   "execution_count": null,
   "metadata": {
    "collapsed": false
   },
   "outputs": [],
   "source": [
    "visit_popularity = Counter()\n",
    "purchase_popularity = Counter()\n",
    "\n",
    "with open('train.txt', 'r') as f:\n",
    "    for line in f.xreadlines():\n",
    "        visits, purchases = line.strip().split(';')\n",
    "        # TODO\n",
    "        # update visit_popularity\n",
    "        # update purchase_popularity"
   ]
  },
  {
   "cell_type": "code",
   "execution_count": null,
   "metadata": {
    "collapsed": false
   },
   "outputs": [],
   "source": [
    "def recommend_by_purchase(items, max_count):\n",
    "    return heapq.nlargest(max_count, OrderedDict.fromkeys(items), key=lambda x: purchase_popularity.get(x, 0))\n",
    "\n",
    "def recommend_by_visit(items, max_count):\n",
    "    return heapq.nlargest(max_count, OrderedDict.fromkeys(items), key=lambda x: visit_popularity.get(x, 0))"
   ]
  },
  {
   "cell_type": "code",
   "execution_count": null,
   "metadata": {
    "collapsed": true
   },
   "outputs": [],
   "source": []
  },
  {
   "cell_type": "code",
   "execution_count": null,
   "metadata": {
    "collapsed": false
   },
   "outputs": [],
   "source": [
    "def calculate_metrics(recommend, max_count, sessions_file):\n",
    "    with open(sessions_file, 'r') as f:\n",
    "        avg_recall = np.zeros(max_count)\n",
    "        avg_precision = np.zeros(max_count)\n",
    "        sessions_count = 0\n",
    "        for line in f.xreadlines():\n",
    "            visits, purchases = line.strip().split(';')\n",
    "            if purchases != '':\n",
    "                visits = visits.split(',')\n",
    "                purchases = purchases.split(',')\n",
    "                rec = recommend(visits, max_count)\n",
    "\n",
    "                # TODO\n",
    "                # update avg_recall\n",
    "                # update avg_precision\n",
    "                # update sessions_count\n",
    "\n",
    "    return pandas.DataFrame({\n",
    "            'k': np.arange(max_count) + 1,\n",
    "            'avg_recall@k': [round(x, 2) for x in avg_recall / sessions_count],\n",
    "            'avg_precision@k': [round(x, 2) for x in avg_precision / sessions_count]\n",
    "    }).set_index('k')\n"
   ]
  },
  {
   "cell_type": "code",
   "execution_count": null,
   "metadata": {
    "collapsed": false
   },
   "outputs": [],
   "source": [
    "calculate_metrics(recommend_by_purchase, 5, 'train.txt')"
   ]
  },
  {
   "cell_type": "code",
   "execution_count": null,
   "metadata": {
    "collapsed": false
   },
   "outputs": [],
   "source": [
    "calculate_metrics(recommend_by_purchase, 5, 'test.txt')"
   ]
  },
  {
   "cell_type": "code",
   "execution_count": null,
   "metadata": {
    "collapsed": false
   },
   "outputs": [],
   "source": [
    "calculate_metrics(recommend_by_visit, 5, 'train.txt')"
   ]
  },
  {
   "cell_type": "code",
   "execution_count": null,
   "metadata": {
    "collapsed": true
   },
   "outputs": [],
   "source": [
    "calculate_metrics(recommend_by_visit, 5, 'test.txt')"
   ]
  }
 ],
 "metadata": {
  "kernelspec": {
   "display_name": "Python 2",
   "language": "python",
   "name": "python2"
  },
  "language_info": {
   "codemirror_mode": {
    "name": "ipython",
    "version": 2
   },
   "file_extension": ".py",
   "mimetype": "text/x-python",
   "name": "python",
   "nbconvert_exporter": "python",
   "pygments_lexer": "ipython2",
   "version": "2.7.3"
  }
 },
 "nbformat": 4,
 "nbformat_minor": 0
}
