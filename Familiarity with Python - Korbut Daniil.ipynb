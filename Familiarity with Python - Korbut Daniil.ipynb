{
 "cells": [
  {
   "cell_type": "markdown",
   "metadata": {},
   "source": [
    "$$\\star \\star \\star \\star \\star$$"
   ]
  },
  {
   "cell_type": "code",
   "execution_count": 430,
   "metadata": {
    "collapsed": false
   },
   "outputs": [
    {
     "name": "stdout",
     "output_type": "stream",
     "text": [
      "Populating the interactive namespace from numpy and matplotlib\n"
     ]
    }
   ],
   "source": [
    "import numpy as np\n",
    "import pandas as pd\n",
    "import matplotlib.pyplot as plt\n",
    "import seaborn as sns\n",
    "import scipy.stats as st\n",
    "import scipy.linalg\n",
    "from scipy.linalg import eig\n",
    "%pylab inline"
   ]
  },
  {
   "cell_type": "markdown",
   "metadata": {},
   "source": [
    "### Python"
   ]
  },
  {
   "cell_type": "code",
   "execution_count": 13,
   "metadata": {
    "collapsed": false
   },
   "outputs": [
    {
     "name": "stdout",
     "output_type": "stream",
     "text": [
      "1 2 Fizz 4 Buzz Fizz 7 8 Fizz \n",
      "Buzz 11 Fizz 13 14 FizzBuzz 16 17 Fizz 19 \n",
      "Buzz Fizz 22 23 Fizz Buzz 26 Fizz 28 29 \n",
      "FizzBuzz 31 32 Fizz 34 Buzz Fizz 37 38 Fizz \n",
      "Buzz 41 Fizz 43 44 FizzBuzz 46 47 Fizz 49 \n",
      "Buzz Fizz 52 53 Fizz Buzz 56 Fizz 58 59 \n",
      "FizzBuzz 61 62 Fizz 64 Buzz Fizz 67 68 Fizz \n",
      "Buzz 71 Fizz 73 74 FizzBuzz 76 77 Fizz 79 \n",
      "Buzz Fizz 82 83 Fizz Buzz 86 Fizz 88 89 \n",
      "FizzBuzz 91 92 Fizz 94 Buzz Fizz 97 98 Fizz \n",
      "Buzz\n"
     ]
    }
   ],
   "source": [
    "for i in range(1, 101):\n",
    "    if (i % 10 == 0):\n",
    "        print \"\"\n",
    "    if (i % 3 == 0 and i % 5 == 0):\n",
    "        print \"FizzBuzz\",\n",
    "    else:\n",
    "        if (i % 3 == 0):\n",
    "            print \"Fizz\",\n",
    "        else:\n",
    "            if (i % 5 == 0):\n",
    "                print \"Buzz\",\n",
    "            else:\n",
    "                print i,   "
   ]
  },
  {
   "cell_type": "code",
   "execution_count": 160,
   "metadata": {
    "collapsed": true
   },
   "outputs": [],
   "source": [
    "def fibonacciNumber100():\n",
    "    x = np.zeros(101)\n",
    "    x[0] = 0\n",
    "    x[1] = 1\n",
    "    for i in range(2, 101):\n",
    "        x[i] = x[i-1] + x[i-2]\n",
    "    return int(x[100])"
   ]
  },
  {
   "cell_type": "code",
   "execution_count": 161,
   "metadata": {
    "collapsed": false
   },
   "outputs": [
    {
     "name": "stdout",
     "output_type": "stream",
     "text": [
      "354224848179261997056\n"
     ]
    }
   ],
   "source": [
    "print fibonacciNumber100()"
   ]
  },
  {
   "cell_type": "code",
   "execution_count": 173,
   "metadata": {
    "collapsed": true
   },
   "outputs": [],
   "source": [
    "def quickSort(a):\n",
    "    return quickSort1(a, 0, len(a)-1)\n",
    "\n",
    "def quickSort1(a, l, r):\n",
    "    x = a[l]\n",
    "    i = l\n",
    "    j = r\n",
    "    while (i <= j):\n",
    "        while (a[i] < x):\n",
    "            i+= 1\n",
    "        while (a[j] > x):\n",
    "            j-= 1\n",
    "        if (i <= j):\n",
    "            a[i], a[j] = a[j], a[i]\n",
    "            i+= 1\n",
    "            j-= 1\n",
    "    if (l < j):\n",
    "        quickSort1(a, l, j)\n",
    "    if (i < r):\n",
    "        quickSort1(a, i, r)\n",
    "    return a"
   ]
  },
  {
   "cell_type": "code",
   "execution_count": 203,
   "metadata": {
    "collapsed": true
   },
   "outputs": [],
   "source": [
    "def quickSortInOneLine(arr): \n",
    "     if len(arr) <= 1:\n",
    "        return arr\n",
    "     else:\n",
    "        return qsort([x for x in arr[1:] if x<arr[0]]) + [arr[0]] + qsort([x for x in arr[1:] if x>=arr[0]])"
   ]
  },
  {
   "cell_type": "code",
   "execution_count": 221,
   "metadata": {
    "collapsed": false
   },
   "outputs": [],
   "source": [
    "test1 = st.norm.rvs(size = 500)\n",
    "test2 = test1\n",
    "test3 = test1"
   ]
  },
  {
   "cell_type": "code",
   "execution_count": 222,
   "metadata": {
    "collapsed": false
   },
   "outputs": [
    {
     "name": "stdout",
     "output_type": "stream",
     "text": [
      "CPU times: user 0 ns, sys: 0 ns, total: 0 ns\n",
      "Wall time: 108 µs\n"
     ]
    }
   ],
   "source": [
    "%%time\n",
    "res1 = np.sort(test1)"
   ]
  },
  {
   "cell_type": "code",
   "execution_count": 223,
   "metadata": {
    "collapsed": false
   },
   "outputs": [
    {
     "name": "stdout",
     "output_type": "stream",
     "text": [
      "CPU times: user 0 ns, sys: 4 ms, total: 4 ms\n",
      "Wall time: 2.83 ms\n"
     ]
    }
   ],
   "source": [
    "%%time\n",
    "res2 = quickSort(test2)"
   ]
  },
  {
   "cell_type": "code",
   "execution_count": 224,
   "metadata": {
    "collapsed": false
   },
   "outputs": [
    {
     "name": "stdout",
     "output_type": "stream",
     "text": [
      "CPU times: user 52 ms, sys: 8 ms, total: 60 ms\n",
      "Wall time: 54.3 ms\n"
     ]
    }
   ],
   "source": [
    "%%time\n",
    "res3 = quickSortInOneLine(test3)"
   ]
  },
  {
   "cell_type": "code",
   "execution_count": 225,
   "metadata": {
    "collapsed": false
   },
   "outputs": [
    {
     "data": {
      "text/plain": [
       "500"
      ]
     },
     "execution_count": 225,
     "metadata": {},
     "output_type": "execute_result"
    }
   ],
   "source": [
    "np.sum(test1 == test2)"
   ]
  },
  {
   "cell_type": "code",
   "execution_count": 226,
   "metadata": {
    "collapsed": false
   },
   "outputs": [
    {
     "data": {
      "text/plain": [
       "500"
      ]
     },
     "execution_count": 226,
     "metadata": {},
     "output_type": "execute_result"
    }
   ],
   "source": [
    "np.sum(test1 == test3)"
   ]
  },
  {
   "cell_type": "markdown",
   "metadata": {},
   "source": [
    "Обе сортировки работают корректно, но для сравнения по времени работы будем использовать только quickSort, так как quickSortInOneLine работает достаточно медленно"
   ]
  },
  {
   "cell_type": "code",
   "execution_count": 227,
   "metadata": {
    "collapsed": true
   },
   "outputs": [],
   "source": [
    "test1 = st.norm.rvs(size = 1000000)\n",
    "test2 = test1"
   ]
  },
  {
   "cell_type": "code",
   "execution_count": 228,
   "metadata": {
    "collapsed": false
   },
   "outputs": [
    {
     "name": "stdout",
     "output_type": "stream",
     "text": [
      "CPU times: user 116 ms, sys: 0 ns, total: 116 ms\n",
      "Wall time: 118 ms\n"
     ]
    }
   ],
   "source": [
    "%%time\n",
    "res1 = np.sort(test1)"
   ]
  },
  {
   "cell_type": "code",
   "execution_count": 229,
   "metadata": {
    "collapsed": false
   },
   "outputs": [
    {
     "name": "stdout",
     "output_type": "stream",
     "text": [
      "CPU times: user 7.31 s, sys: 20 ms, total: 7.33 s\n",
      "Wall time: 7.3 s\n"
     ]
    }
   ],
   "source": [
    "%%time\n",
    "res2 = quickSort(test2)"
   ]
  },
  {
   "cell_type": "markdown",
   "metadata": {},
   "source": [
    "### NumPy"
   ]
  },
  {
   "cell_type": "code",
   "execution_count": 63,
   "metadata": {
    "collapsed": true
   },
   "outputs": [],
   "source": [
    "def myLinspaceFor(start, stop, num):\n",
    "    cur = float(start)\n",
    "    ind = 0\n",
    "    res = np.zeros(num)\n",
    "    while (ind < num):\n",
    "        res[ind] = cur\n",
    "        ind+= 1\n",
    "        cur+= float(stop-start) / num \n",
    "    return res"
   ]
  },
  {
   "cell_type": "code",
   "execution_count": 64,
   "metadata": {
    "collapsed": false
   },
   "outputs": [],
   "source": [
    "def myLinspaceListComp(start, stop, num):\n",
    "    return np.array([float(start) + (float(stop-start) / num) * i  for i in range(0, num)])"
   ]
  },
  {
   "cell_type": "code",
   "execution_count": 68,
   "metadata": {
    "collapsed": false
   },
   "outputs": [
    {
     "data": {
      "text/plain": [
       "array([ 14.        ,  15.18181818,  16.36363636,  17.54545455,\n",
       "        18.72727273,  19.90909091,  21.09090909,  22.27272727,\n",
       "        23.45454545,  24.63636364,  25.81818182])"
      ]
     },
     "execution_count": 68,
     "metadata": {},
     "output_type": "execute_result"
    }
   ],
   "source": [
    "myLinspaceFor(14, 27, 11)"
   ]
  },
  {
   "cell_type": "code",
   "execution_count": 69,
   "metadata": {
    "collapsed": false
   },
   "outputs": [
    {
     "data": {
      "text/plain": [
       "array([ 14.        ,  15.18181818,  16.36363636,  17.54545455,\n",
       "        18.72727273,  19.90909091,  21.09090909,  22.27272727,\n",
       "        23.45454545,  24.63636364,  25.81818182])"
      ]
     },
     "execution_count": 69,
     "metadata": {},
     "output_type": "execute_result"
    }
   ],
   "source": [
    "myLinspaceListComp(14, 27, 11)"
   ]
  },
  {
   "cell_type": "code",
   "execution_count": 75,
   "metadata": {
    "collapsed": false
   },
   "outputs": [
    {
     "name": "stdout",
     "output_type": "stream",
     "text": [
      "CPU times: user 68 ms, sys: 44 ms, total: 112 ms\n",
      "Wall time: 114 ms\n"
     ]
    }
   ],
   "source": [
    "%%time\n",
    "x1 = np.linspace(0, 1000, 10000000)"
   ]
  },
  {
   "cell_type": "code",
   "execution_count": 76,
   "metadata": {
    "collapsed": false
   },
   "outputs": [
    {
     "name": "stdout",
     "output_type": "stream",
     "text": [
      "CPU times: user 3.31 s, sys: 52 ms, total: 3.36 s\n",
      "Wall time: 3.31 s\n"
     ]
    }
   ],
   "source": [
    "%%time\n",
    "x1 = myLinspaceFor(0, 1000, 10000000)"
   ]
  },
  {
   "cell_type": "code",
   "execution_count": 77,
   "metadata": {
    "collapsed": false
   },
   "outputs": [
    {
     "name": "stdout",
     "output_type": "stream",
     "text": [
      "CPU times: user 5.02 s, sys: 48 ms, total: 5.07 s\n",
      "Wall time: 5.04 s\n"
     ]
    }
   ],
   "source": [
    "%%time\n",
    "x1 = myLinspaceListComp(0, 1000, 10000000)"
   ]
  },
  {
   "cell_type": "code",
   "execution_count": 101,
   "metadata": {
    "collapsed": true
   },
   "outputs": [],
   "source": [
    "N = 10000000"
   ]
  },
  {
   "cell_type": "code",
   "execution_count": 108,
   "metadata": {
    "collapsed": false
   },
   "outputs": [],
   "source": [
    "test1 = np.ones(N)\n",
    "test2 = [1 for i in range(N)]"
   ]
  },
  {
   "cell_type": "code",
   "execution_count": 109,
   "metadata": {
    "collapsed": false
   },
   "outputs": [
    {
     "name": "stdout",
     "output_type": "stream",
     "text": [
      "[ 2.  2.  2. ...,  2.  2.  2.]\n",
      "CPU times: user 16 ms, sys: 0 ns, total: 16 ms\n",
      "Wall time: 12.5 ms\n"
     ]
    }
   ],
   "source": [
    "%%time\n",
    "test1 += 1\n",
    "print test1"
   ]
  },
  {
   "cell_type": "code",
   "execution_count": 110,
   "metadata": {
    "collapsed": false
   },
   "outputs": [
    {
     "name": "stdout",
     "output_type": "stream",
     "text": [
      "CPU times: user 1.38 s, sys: 48 ms, total: 1.43 s\n",
      "Wall time: 1.41 s\n"
     ]
    }
   ],
   "source": [
    "%%time \n",
    "for i in range(N):\n",
    "    test2[i]+=1"
   ]
  },
  {
   "cell_type": "code",
   "execution_count": 111,
   "metadata": {
    "collapsed": true
   },
   "outputs": [],
   "source": [
    "test1[-1] = 10\n",
    "test2[-1] = 10"
   ]
  },
  {
   "cell_type": "code",
   "execution_count": 112,
   "metadata": {
    "collapsed": false
   },
   "outputs": [
    {
     "name": "stdout",
     "output_type": "stream",
     "text": [
      "CPU times: user 4 ms, sys: 0 ns, total: 4 ms\n",
      "Wall time: 5.21 ms\n"
     ]
    },
    {
     "data": {
      "text/plain": [
       "10.0"
      ]
     },
     "execution_count": 112,
     "metadata": {},
     "output_type": "execute_result"
    }
   ],
   "source": [
    "%%time \n",
    "np.max(test1)"
   ]
  },
  {
   "cell_type": "code",
   "execution_count": 113,
   "metadata": {
    "collapsed": false
   },
   "outputs": [
    {
     "name": "stdout",
     "output_type": "stream",
     "text": [
      "CPU times: user 1.14 s, sys: 68 ms, total: 1.21 s\n",
      "Wall time: 1.21 s\n"
     ]
    }
   ],
   "source": [
    "%%time\n",
    "maximal = test2[0]\n",
    "for i in range(1, N):\n",
    "    if (maximal < test2[i]):\n",
    "        maximal = test2[i]\n",
    "maximal"
   ]
  },
  {
   "cell_type": "markdown",
   "metadata": {},
   "source": [
    "### Matplotlib"
   ]
  },
  {
   "cell_type": "code",
   "execution_count": 264,
   "metadata": {
    "collapsed": false
   },
   "outputs": [
    {
     "data": {
      "image/png": "[encoded data removed]",
      "text/plain": [
       "<matplotlib.figure.Figure at 0x7f845e4e7090>"
      ]
     },
     "metadata": {},
     "output_type": "display_data"
    }
   ],
   "source": [
    "fig = plt.figure(figsize=(16,10))\n",
    "ax1 = fig.add_subplot(221)\n",
    "ax1.plot(np.linspace(0, 10, 100), np.sin(np.linspace(0, 10, 100)), \n",
    "         color = \"orange\", label=\"$sin(x)$\")\n",
    "ax1.plot(np.linspace(0, 10, 100), np.power((np.linspace(0, 10, 100)), 2) / 100., \n",
    "         color = \"blue\", label=r'$\\frac{x^2}{100}$')\n",
    "ax1.plot(np.linspace(0, 10, 100), np.arctan(np.linspace(0, 10, 100)), \n",
    "         color = \"red\", label=\"$arctg(x)$\")\n",
    "ax1.set_xlabel(\"$x$\")\n",
    "ax1.set_ylabel(\"$f(x)$\")\n",
    "ax1.legend(loc = 3, prop={'size':12})\n",
    "\n",
    "ax2 = fig.add_subplot(222)\n",
    "ax2.plot(np.linspace(-5, 5, 100), np.cos(np.linspace(-5, 5, 100)), \n",
    "         color = \"black\", label=\"$cos(x)$\")\n",
    "ax2.plot(np.linspace(-5, 5, 100), np.abs(np.linspace(-5, 5, 100)), \n",
    "         color = \"magenta\", label=\"$|x|$\")\n",
    "ax2.set_xlabel(\"$x$\")\n",
    "ax2.set_ylabel(\"$f(x)$\")\n",
    "ax2.legend(loc = 2, prop={'size':12})\n",
    "pylab.savefig('my_plots.png')"
   ]
  },
  {
   "cell_type": "markdown",
   "metadata": {
    "collapsed": true
   },
   "source": [
    "### SciPy"
   ]
  },
  {
   "cell_type": "code",
   "execution_count": 467,
   "metadata": {
    "collapsed": false
   },
   "outputs": [
    {
     "data": {
      "text/plain": [
       "array([[ 1.02475, -0.06533, -0.2911 , -0.02382, -0.36618],\n",
       "       [-1.56582,  0.93364, -0.62275,  1.37798,  0.55627],\n",
       "       [-0.57173, -1.67079,  1.54132,  0.52249,  0.82885],\n",
       "       [-0.91077,  1.0917 , -0.21839,  0.00817, -1.27387],\n",
       "       [-0.0021 ,  0.66801, -2.09237, -1.88736, -0.9071 ]])"
      ]
     },
     "execution_count": 467,
     "metadata": {},
     "output_type": "execute_result"
    }
   ],
   "source": [
    "A = st.norm.rvs(size=[5, 5])\n",
    "A"
   ]
  },
  {
   "cell_type": "code",
   "execution_count": 468,
   "metadata": {
    "collapsed": false
   },
   "outputs": [
    {
     "name": "stdout",
     "output_type": "stream",
     "text": [
      "Собственные значения:  [-1.85886+0.j      -0.71107+0.j       1.41782+0.62715j  1.41782-0.62715j\n",
      "  2.33507+0.j     ]\n",
      "Собственные вектора:  [[ 0.01311+0.j      -0.14440+0.j      -0.00510+0.23061j -0.00510-0.23061j\n",
      "  -0.02495+0.j     ]\n",
      " [-0.47405+0.j      -0.66740+0.j       0.05324+0.07582j  0.05324-0.07582j\n",
      "   0.58128+0.j     ]\n",
      " [-0.44109+0.j      -0.58165+0.j      -0.34120-0.33079j -0.34120+0.33079j\n",
      "  -0.64330+0.j     ]\n",
      " [ 0.57393+0.j       0.42233+0.j      -0.45506+0.16342j -0.45506-0.16342j\n",
      "   0.07340+0.j     ]\n",
      " [ 0.50115+0.j      -0.13054+0.j       0.69179+0.j       0.69179-0.j\n",
      "   0.49221+0.j     ]]\n"
     ]
    }
   ],
   "source": [
    "eigvals, eigvectors = eig(A)\n",
    "print \"Собственные значения: \", eigvals\n",
    "print \"Собственные вектора: \", eigvectors"
   ]
  },
  {
   "cell_type": "markdown",
   "metadata": {},
   "source": [
    "Проверяем, чтобы $\\forall i $ $(A-\\lambda_iE)v_i = 0$  "
   ]
  },
  {
   "cell_type": "code",
   "execution_count": 469,
   "metadata": {
    "collapsed": false
   },
   "outputs": [
    {
     "name": "stdout",
     "output_type": "stream",
     "text": [
      "[-0.02438+0.j  0.88119+0.j  0.81993+0.j -1.06685+0.j -0.93157+0.j]\n",
      "[ 0.10268+0.j  0.47457+0.j  0.41360+0.j -0.30031+0.j  0.09283+0.j]\n",
      "[-0.15186+0.32376j  0.02794+0.14088j -0.27631-0.68299j -0.74769-0.05369j\n",
      "  0.98084+0.43386j]\n",
      "[-0.15186-0.32376j  0.02794-0.14088j -0.27631+0.68299j -0.74769+0.05369j\n",
      "  0.98084-0.43386j]\n",
      "[-0.05827+0.j  1.35734+0.j -1.50214+0.j  0.17139+0.j  1.14935+0.j]\n"
     ]
    }
   ],
   "source": [
    "np.set_printoptions(precision=5)\n",
    "for i in range(5):\n",
    "    print np.dot(eigvals[i] * np.eye(5), eigvectors[:,i]) "
   ]
  },
  {
   "cell_type": "code",
   "execution_count": 470,
   "metadata": {
    "collapsed": false
   },
   "outputs": [
    {
     "name": "stdout",
     "output_type": "stream",
     "text": [
      "[-0.02438+0.j  0.88119+0.j  0.81993+0.j -1.06685+0.j -0.93157+0.j]\n",
      "[ 0.10268+0.j  0.47457+0.j  0.41360+0.j -0.30031+0.j  0.09283+0.j]\n",
      "[-0.15186+0.32376j  0.02794+0.14088j -0.27631-0.68299j -0.74769-0.05369j\n",
      "  0.98084+0.43386j]\n",
      "[-0.15186-0.32376j  0.02794-0.14088j -0.27631+0.68299j -0.74769+0.05369j\n",
      "  0.98084-0.43386j]\n",
      "[-0.05827+0.j  1.35734+0.j -1.50214+0.j  0.17139+0.j  1.14935+0.j]\n"
     ]
    }
   ],
   "source": [
    "np.set_printoptions(precision=5)\n",
    "for i in range(5):\n",
    "    print np.dot(A, eigvectors[:,i]) "
   ]
  },
  {
   "cell_type": "code",
   "execution_count": 471,
   "metadata": {
    "collapsed": false
   },
   "outputs": [
    {
     "name": "stdout",
     "output_type": "stream",
     "text": [
      "[ 0.+0.j  0.+0.j  0.+0.j -0.+0.j -0.+0.j]\n",
      "[ 0.+0.j  0.+0.j  0.+0.j -0.+0.j -0.+0.j]\n",
      "[ 0.-0.j -0.+0.j  0.+0.j  0.+0.j -0.-0.j]\n",
      "[ 0.+0.j -0.-0.j  0.-0.j  0.-0.j -0.+0.j]\n",
      "[-0.+0.j -0.+0.j  0.+0.j  0.+0.j -0.+0.j]\n"
     ]
    }
   ],
   "source": [
    "np.set_printoptions(precision=4)\n",
    "for i in range(5):\n",
    "    print np.round(np.dot(A - eigvals[i] * np.eye(5), eigvectors[:,i]), 5)"
   ]
  }
 ],
 "metadata": {
  "anaconda-cloud": {},
  "kernelspec": {
   "display_name": "Python [conda root]",
   "language": "python",
   "name": "conda-root-py"
  },
  "language_info": {
   "codemirror_mode": {
    "name": "ipython",
    "version": 2
   },
   "file_extension": ".py",
   "mimetype": "text/x-python",
   "name": "python",
   "nbconvert_exporter": "python",
   "pygments_lexer": "ipython2",
   "version": "2.7.12"
  }
 },
 "nbformat": 4,
 "nbformat_minor": 1
}
