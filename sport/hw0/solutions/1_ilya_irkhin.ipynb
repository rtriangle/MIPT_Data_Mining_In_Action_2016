{
 "cells": [
  {
   "cell_type": "code",
   "execution_count": 114,
   "metadata": {
    "collapsed": true
   },
   "outputs": [],
   "source": [
    "import pandas\n",
    "import numpy as np\n",
    "from collections import Counter\n",
    "from collections import defaultdict\n",
    "from collections import deque\n",
    "\n",
    "import matplotlib.pyplot as plt\n",
    "%matplotlib inline"
   ]
  },
  {
   "cell_type": "code",
   "execution_count": 2,
   "metadata": {
    "collapsed": true
   },
   "outputs": [],
   "source": [
    "train = pandas.read_csv('/home/tylorn/train2.csv')\n",
    "test = pandas.read_csv('/home/tylorn/test2.csv')"
   ]
  },
  {
   "cell_type": "code",
   "execution_count": 81,
   "metadata": {
    "collapsed": true
   },
   "outputs": [],
   "source": [
    "team_universe = set(train.team1) | set(train.team2) | set(test.team2) | set(test.team1)"
   ]
  },
  {
   "cell_type": "code",
   "execution_count": 82,
   "metadata": {
    "collapsed": true
   },
   "outputs": [],
   "source": [
    "TEAM_SIZE = max(team_universe) + 1"
   ]
  },
  {
   "cell_type": "code",
   "execution_count": 4,
   "metadata": {
    "collapsed": false
   },
   "outputs": [
    {
     "data": {
      "text/plain": [
       "array([2998, 2999, 3000, 3001, 3002, 3003, 3004, 3005, 3006, 3007, 3008,\n",
       "       3009, 3010, 3011, 3012, 3013, 3014, 3015, 3016, 3017, 3018, 3019])"
      ]
     },
     "execution_count": 4,
     "metadata": {},
     "output_type": "execute_result"
    }
   ],
   "source": [
    "train.year.unique()"
   ]
  },
  {
   "cell_type": "code",
   "execution_count": 5,
   "metadata": {
    "collapsed": false
   },
   "outputs": [
    {
     "data": {
      "text/plain": [
       "array([3021, 3020])"
      ]
     },
     "execution_count": 5,
     "metadata": {},
     "output_type": "execute_result"
    }
   ],
   "source": [
    "test.year.unique()"
   ]
  },
  {
   "cell_type": "code",
   "execution_count": 8,
   "metadata": {
    "collapsed": false
   },
   "outputs": [
    {
     "data": {
      "text/plain": [
       "(353, 350)"
      ]
     },
     "execution_count": 8,
     "metadata": {},
     "output_type": "execute_result"
    }
   ],
   "source": [
    "len(train.team1.unique()), len(test.team1.unique())"
   ]
  },
  {
   "cell_type": "code",
   "execution_count": 9,
   "metadata": {
    "collapsed": false
   },
   "outputs": [
    {
     "data": {
      "text/plain": [
       "(353, 350)"
      ]
     },
     "execution_count": 9,
     "metadata": {},
     "output_type": "execute_result"
    }
   ],
   "source": [
    "len(train.team2.unique()), len(test.team2.unique())"
   ]
  },
  {
   "cell_type": "code",
   "execution_count": 10,
   "metadata": {
    "collapsed": false
   },
   "outputs": [
    {
     "data": {
      "text/plain": [
       "26874"
      ]
     },
     "execution_count": 10,
     "metadata": {},
     "output_type": "execute_result"
    }
   ],
   "source": [
    "len(set(zip(train.team1, train.team2)))"
   ]
  },
  {
   "cell_type": "code",
   "execution_count": 16,
   "metadata": {
    "collapsed": true
   },
   "outputs": [],
   "source": [
    "train['pair'] = zip(train.team1, train.team2)"
   ]
  },
  {
   "cell_type": "code",
   "execution_count": 21,
   "metadata": {
    "collapsed": false
   },
   "outputs": [
    {
     "data": {
      "image/png": "[encoded data removed]",
      "text/plain": [
       "<matplotlib.figure.Figure at 0x5e1add0>"
      ]
     },
     "metadata": {},
     "output_type": "display_data"
    }
   ],
   "source": [
    "plt.hist(Counter(train.pair).values(), bins=40)\n",
    "plt.show()"
   ]
  },
  {
   "cell_type": "code",
   "execution_count": 22,
   "metadata": {
    "collapsed": false
   },
   "outputs": [
    {
     "data": {
      "image/png": "[encoded data removed]",
      "text/plain": [
       "<matplotlib.figure.Figure at 0x6e0ab10>"
      ]
     },
     "metadata": {},
     "output_type": "display_data"
    }
   ],
   "source": [
    "plt.hist(train.score1, bins=40)\n",
    "plt.show()"
   ]
  },
  {
   "cell_type": "code",
   "execution_count": 23,
   "metadata": {
    "collapsed": false
   },
   "outputs": [
    {
     "data": {
      "image/png": "[encoded data removed]",
      "text/plain": [
       "<matplotlib.figure.Figure at 0x746c610>"
      ]
     },
     "metadata": {},
     "output_type": "display_data"
    }
   ],
   "source": [
    "plt.hist(train.score2, bins=40)\n",
    "plt.show()"
   ]
  },
  {
   "cell_type": "code",
   "execution_count": 24,
   "metadata": {
    "collapsed": false
   },
   "outputs": [
    {
     "data": {
      "image/png": "[encoded data removed]",
      "text/plain": [
       "<matplotlib.figure.Figure at 0x6c12110>"
      ]
     },
     "metadata": {},
     "output_type": "display_data"
    }
   ],
   "source": [
    "plt.hist(train.score1 - train.score2, bins=40)\n",
    "plt.show()"
   ]
  },
  {
   "cell_type": "code",
   "execution_count": 35,
   "metadata": {
    "collapsed": false
   },
   "outputs": [
    {
     "data": {
      "image/png": "[encoded data removed]",
      "text/plain": [
       "<matplotlib.figure.Figure at 0x73ff090>"
      ]
     },
     "metadata": {},
     "output_type": "display_data"
    }
   ],
   "source": [
    "plt.hist((train.score1 - train.score2) / train.score2, bins=40)\n",
    "plt.show()"
   ]
  },
  {
   "cell_type": "code",
   "execution_count": 26,
   "metadata": {
    "collapsed": true
   },
   "outputs": [],
   "source": [
    "train['year_pair'] = zip(train.team1, train.team2, train.year)"
   ]
  },
  {
   "cell_type": "code",
   "execution_count": 27,
   "metadata": {
    "collapsed": false
   },
   "outputs": [
    {
     "data": {
      "image/png": "[encoded data removed]",
      "text/plain": [
       "<matplotlib.figure.Figure at 0x78061d0>"
      ]
     },
     "metadata": {},
     "output_type": "display_data"
    }
   ],
   "source": [
    "plt.hist(Counter(train.year_pair).values(), bins=40)\n",
    "plt.show()"
   ]
  },
  {
   "cell_type": "code",
   "execution_count": 57,
   "metadata": {
    "collapsed": true
   },
   "outputs": [],
   "source": [
    "true_train = train[train.year < 3016]"
   ]
  },
  {
   "cell_type": "code",
   "execution_count": 58,
   "metadata": {
    "collapsed": true
   },
   "outputs": [],
   "source": [
    "validate_train = train[train.year >= 3016]"
   ]
  },
  {
   "cell_type": "code",
   "execution_count": 36,
   "metadata": {
    "collapsed": false
   },
   "outputs": [
    {
     "data": {
      "text/plain": [
       "270.28140223799073"
      ]
     },
     "execution_count": 36,
     "metadata": {},
     "output_type": "execute_result"
    }
   ],
   "source": [
    "train.score1.mean()"
   ]
  },
  {
   "cell_type": "code",
   "execution_count": 37,
   "metadata": {
    "collapsed": false
   },
   "outputs": [
    {
     "data": {
      "text/plain": [
       "0.50096940231672393"
      ]
     },
     "execution_count": 37,
     "metadata": {},
     "output_type": "execute_result"
    }
   ],
   "source": [
    "train.target.mean()"
   ]
  },
  {
   "cell_type": "code",
   "execution_count": null,
   "metadata": {
    "collapsed": true
   },
   "outputs": [],
   "source": [
    "class FeatureExtractor_Backup1(object):\n",
    "    def __init__(self, shift):\n",
    "        self.shift = shift\n",
    "        self.pairs_history = defaultdict(lambda: defaultdict(list))\n",
    "        self.team_history = defaultdict(lambda: defaultdict(list))\n",
    "        \n",
    "    def add_2_history(self, game):\n",
    "        self.pairs_history[(game.team1, game.team2)][game.year].append({\n",
    "            'target': int(game.target),\n",
    "            'score_tuple': (game.score1, game.score2)\n",
    "        })\n",
    "        self.pairs_history[(game.team2, game.team1)][game.year].append({\n",
    "            'target': 1 - int(game.target),\n",
    "            'score_tuple': (game.score2, game.score1)\n",
    "        })\n",
    "        self.team_history[game.team1][game.year].append({\n",
    "            'score': game.score1,\n",
    "            'target': int(game.target)\n",
    "        })\n",
    "        self.team_history[game.team2][game.year].append({\n",
    "            'score': game.score2,\n",
    "            'target': 1 - int(game.target)\n",
    "        })\n",
    "        \n",
    "    def get_team_last_games(self, team, years):\n",
    "        team_history = self.team_history[team]\n",
    "        for year in years:\n",
    "            for game in team_history[year]:\n",
    "                yield game\n",
    "                \n",
    "    def get_pair_last_games(self, pair, years):\n",
    "        team_history = self.pairs_history[pair]\n",
    "        for year in years:\n",
    "            for game in team_history[year]:\n",
    "                yield game\n",
    "                \n",
    "    def score_mean(self, scores):\n",
    "        return (sum(scores) + 27.) / (len(scores) + 0.1)\n",
    "    \n",
    "    def target_mean(self, targets):\n",
    "        return (sum(targets) + 0.05) / (len(targets) + 0.1)\n",
    "        \n",
    "    def extract(self, game):\n",
    "        features = []\n",
    "        # team features\n",
    "        # team1\n",
    "        last_year_games = list(self.get_team_last_games(game.team1, [game.year - i - self.shift for i in xrange(1)]))\n",
    "        # 0 - number of games last year\n",
    "        features.append(len(last_year_games))\n",
    "        # 1 - mean target for last year\n",
    "        features.append(self.target_mean([x['target'] for x in last_year_games]))\n",
    "        # 2 - mean score for last year\n",
    "        team1_mean_score_1_years = self.score_mean([x['score'] for x in last_year_games])\n",
    "        features.append(team1_mean_score_1_years)\n",
    "        \n",
    "        last5_year_games = list(self.get_team_last_games(game.team1, [game.year - i - self.shift for i in xrange(5)]))\n",
    "        # 3 - number of games last 5 year\n",
    "        features.append(len(last5_year_games))\n",
    "        # 4 - mean target for last 5 year\n",
    "        features.append(self.target_mean([x['target'] for x in last5_year_games]))\n",
    "        # 5 - mean score for last 5 year\n",
    "        team1_mean_score_5_years = self.score_mean([x['score'] for x in last5_year_games])\n",
    "        features.append(team1_mean_score_5_years)\n",
    "        \n",
    "        # team2\n",
    "        last_year_games = list(self.get_team_last_games(game.team2, [game.year - i - self.shift for i in xrange(1)]))\n",
    "        # 6 - number of games last year\n",
    "        features.append(len(last_year_games))\n",
    "        # 7 - mean target for last year\n",
    "        features.append(self.target_mean([x['target'] for x in last_year_games]))\n",
    "        # 8 - mean score for last year\n",
    "        team2_mean_score_1_years = self.score_mean([x['score'] for x in last_year_games])\n",
    "        features.append(team2_mean_score_1_years)\n",
    "        \n",
    "        last5_year_games = list(self.get_team_last_games(game.team2, [game.year - i - self.shift for i in xrange(5)]))\n",
    "        # 9 - number of games last 5 year\n",
    "        features.append(len(last5_year_games))\n",
    "        # 10 - mean target for last 5 year\n",
    "        features.append(self.target_mean([x['target'] for x in last5_year_games]))\n",
    "        # 11 - mean score for last 5 year\n",
    "        team2_mean_score_5_years = self.score_mean([x['score'] for x in last5_year_games])\n",
    "        features.append(team2_mean_score_5_years)\n",
    "        \n",
    "        # compare means\n",
    "        # 12 compare mean_score_1_years\n",
    "        features.append(team1_mean_score_1_years - team2_mean_score_1_years)\n",
    "        # 13 compare mean_score_5_years\n",
    "        features.append(team1_mean_score_5_years - team2_mean_score_5_years)\n",
    "        \n",
    "        #pair\n",
    "        last_year_games = list(self.get_pair_last_games((game.team1, game.team2), [game.year - i - self.shift for i in xrange(1)]))\n",
    "        # 14 - number of games last year\n",
    "        features.append(len(last_year_games))\n",
    "        # 15 - mean target for last year\n",
    "        features.append(self.target_mean([x['target'] for x in last_year_games]))\n",
    "        \n",
    "        last5_year_games = list(self.get_pair_last_games((game.team1, game.team2), [game.year - i - self.shift for i in xrange(5)]))\n",
    "        # 16 - number of games last year\n",
    "        features.append(len(last5_year_games))\n",
    "        # 17 - mean target for last year\n",
    "        features.append(self.target_mean([x['target'] for x in last5_year_games]))\n",
    "        \n",
    "        return features\n"
   ]
  },
  {
   "cell_type": "code",
   "execution_count": 133,
   "metadata": {
    "collapsed": false
   },
   "outputs": [],
   "source": [
    "class FeatureExtractor(object):\n",
    "    def __calc_prob(self, year):\n",
    "        self.first_win_prob = self.first_win_count / self.matches_count\n",
    "        cum_prob1 = np.dot(np.linalg.inv(np.identity(TEAM_SIZE) - 0.005 * self.first_win_prob), self.first_win_prob)\n",
    "        cum_prob2 = np.dot(np.linalg.inv(np.identity(TEAM_SIZE) - 0.0025 * self.first_win_prob), self.first_win_prob)\n",
    "        cum_prob3 = np.dot(np.linalg.inv(np.identity(TEAM_SIZE) - 0.001 * self.first_win_prob), self.first_win_prob)\n",
    "        \n",
    "        cum_prob4 = np.dot(self.first_win_prob, self.first_win_prob)\n",
    "        cum_prob5 = np.dot(self.first_win_prob, self.first_win_prob) + self.first_win_prob\n",
    "        cum_prob6 = np.dot(self.first_win_prob, self.first_win_prob) + 10 * self.first_win_prob\n",
    "        \n",
    "        self.cum_prob1[year] = cum_prob1 / (cum_prob1 + np.transpose(cum_prob1))\n",
    "        self.cum_prob2[year] = cum_prob2 / (cum_prob2 + np.transpose(cum_prob2))\n",
    "        self.cum_prob3[year] = cum_prob3 / (cum_prob3 + np.transpose(cum_prob3))\n",
    "        \n",
    "        self.cum_prob4[year] = cum_prob4 / (cum_prob4 + np.transpose(cum_prob4))\n",
    "        self.cum_prob5[year] = cum_prob5 / (cum_prob5 + np.transpose(cum_prob5))\n",
    "        self.cum_prob6[year] = cum_prob6 / (cum_prob6 + np.transpose(cum_prob6))\n",
    "    \n",
    "    def __init__(self, shift):\n",
    "        self.shift = shift\n",
    "        self.pairs_history = defaultdict(lambda: defaultdict(list))\n",
    "        self.team_history = defaultdict(lambda: defaultdict(list))\n",
    "        self.matches_count = np.zeros(shape=(TEAM_SIZE, TEAM_SIZE)) + 1\n",
    "        self.first_win_count = np.zeros(shape=(TEAM_SIZE, TEAM_SIZE)) + 0.5\n",
    "        \n",
    "        self.cum_prob1 = {}\n",
    "        self.cum_prob2 = {}\n",
    "        self.cum_prob3 = {}\n",
    "        self.cum_prob4 = {}\n",
    "        self.cum_prob5 = {}\n",
    "        self.cum_prob6 = {}\n",
    "        \n",
    "        self.__calc_prob(0)\n",
    "        \n",
    "\n",
    "    def push_year(self, year):\n",
    "        for pair, events in self.pairs_history[year].iteritems():\n",
    "            self.matches_count[pair[0], pair[1]] += 0.5 * len(events)\n",
    "            self.first_win_count[pair[0], pair[1]] += 1 * sum([x['target'] for x in events])\n",
    "        self.__calc_prob(year)\n",
    "        \n",
    "        \n",
    "    def add_2_history(self, game):\n",
    "        self.pairs_history[game.year][(game.team1, game.team2)].append({\n",
    "            'target': int(game.target),\n",
    "            'score_tuple': (game.score1, game.score2)\n",
    "        })\n",
    "        self.pairs_history[game.year][(game.team2, game.team1)].append({\n",
    "            'target': 1 - int(game.target),\n",
    "            'score_tuple': (game.score2, game.score1)\n",
    "        })\n",
    "        self.team_history[game.team1][game.year].append({\n",
    "            'score': game.score1,\n",
    "            'score_diff': game.score1 - game.score2,\n",
    "            'target': int(game.target)\n",
    "        })\n",
    "        self.team_history[game.team2][game.year].append({\n",
    "            'score': game.score2,\n",
    "            'score_diff': game.score2 - game.score1,\n",
    "            'target': 1 - int(game.target)\n",
    "        })\n",
    "        \n",
    "    def get_team_last_games(self, team, years):\n",
    "        team_history = self.team_history[team]\n",
    "        for year in years:\n",
    "            for game in team_history[year]:\n",
    "                yield game\n",
    "                \n",
    "    def get_pair_last_games(self, pair, years):\n",
    "        for year in years:\n",
    "            for game in self.pairs_history[year][pair]:\n",
    "                yield game\n",
    "                \n",
    "    def score_mean(self, scores):\n",
    "        return (sum(scores) + 27.) / (len(scores) + 0.1)\n",
    "    \n",
    "    def target_mean(self, targets):\n",
    "        return (sum(targets) + 0.05) / (len(targets) + 0.1)\n",
    "    \n",
    "    def diff_mean(self, targets):\n",
    "        return (sum(targets) + 0.) / (len(targets) + 0.1)\n",
    "        \n",
    "    def extract(self, game):\n",
    "        features = []\n",
    "        # team features\n",
    "        # team1\n",
    "        last_year_games = list(self.get_team_last_games(game.team1, [game.year - i - self.shift for i in xrange(1)]))\n",
    "        # 0 - number of games last year\n",
    "        features.append(len(last_year_games))\n",
    "        # 1 - mean target for last year\n",
    "        features.append(self.target_mean([x['target'] for x in last_year_games]))\n",
    "        # 2 - mean score_diff for last year\n",
    "        features.append(self.diff_mean([x['score_diff'] for x in last_year_games]))\n",
    "        # 3 - mean score for last year\n",
    "        team1_mean_score_1_years = self.score_mean([x['score'] for x in last_year_games])\n",
    "        features.append(team1_mean_score_1_years)\n",
    "        \n",
    "        last2_year_games = list(self.get_team_last_games(game.team1, [game.year - i - self.shift for i in xrange(2)]))\n",
    "        # 4 - number of games last 2 year\n",
    "        features.append(len(last2_year_games))\n",
    "        # 5 - mean target for last 2 year\n",
    "        features.append(self.target_mean([x['target'] for x in last2_year_games]))\n",
    "        # 6 - mean score_diff for last 2 year\n",
    "        features.append(self.diff_mean([x['score_diff'] for x in last2_year_games]))\n",
    "        # 7 - mean score for last 2 year\n",
    "        team1_mean_score_2_years = self.score_mean([x['score'] for x in last2_year_games])\n",
    "        features.append(team1_mean_score_2_years)\n",
    "        \n",
    "        last5_year_games = list(self.get_team_last_games(game.team1, [game.year - i - self.shift for i in xrange(5)]))\n",
    "        # 8 - number of games last 5 year\n",
    "        features.append(len(last5_year_games))\n",
    "        # 9 - mean target for last 5 year\n",
    "        features.append(self.target_mean([x['target'] for x in last5_year_games]))\n",
    "        # 10 - mean score for last 5 year\n",
    "        team1_mean_score_5_years = self.score_mean([x['score'] for x in last5_year_games])\n",
    "        features.append(team1_mean_score_5_years)\n",
    "        \n",
    "        # team2\n",
    "        last_year_games = list(self.get_team_last_games(game.team2, [game.year - i - self.shift for i in xrange(1)]))\n",
    "        # 11 - number of games last year\n",
    "        features.append(len(last_year_games))\n",
    "        # 12 - mean target for last year\n",
    "        features.append(self.target_mean([x['target'] for x in last_year_games]))\n",
    "        # 13 - mean score_diff for last 2 year\n",
    "        features.append(self.diff_mean([x['score_diff'] for x in last_year_games]))\n",
    "        # 14 - mean score for last year\n",
    "        team2_mean_score_1_years = self.score_mean([x['score'] for x in last_year_games])\n",
    "        features.append(team2_mean_score_1_years)\n",
    "        \n",
    "        last_year2_games = list(self.get_team_last_games(game.team2, [game.year - i - self.shift for i in xrange(2)]))\n",
    "        # 15 - number of games last 2 year\n",
    "        features.append(len(last2_year_games))\n",
    "        # 16 - mean target for last 2 year\n",
    "        features.append(self.target_mean([x['target'] for x in last2_year_games]))\n",
    "        # 17 - mean score_diff for last 2 year\n",
    "        features.append(self.diff_mean([x['score_diff'] for x in last2_year_games]))\n",
    "        # 18 - mean score for last 2 year\n",
    "        team2_mean_score_2_years = self.score_mean([x['score'] for x in last2_year_games])\n",
    "        features.append(team2_mean_score_2_years)\n",
    "        \n",
    "        last5_year_games = list(self.get_team_last_games(game.team2, [game.year - i - self.shift for i in xrange(5)]))\n",
    "        # 19 - number of games last 5 year\n",
    "        features.append(len(last5_year_games))\n",
    "        # 20 - mean target for last 5 year\n",
    "        features.append(self.target_mean([x['target'] for x in last5_year_games]))\n",
    "        # 21 - mean score for last 5 year\n",
    "        team2_mean_score_5_years = self.score_mean([x['score'] for x in last5_year_games])\n",
    "        features.append(team2_mean_score_5_years)\n",
    "        \n",
    "        # compare means\n",
    "        # 22 compare mean_score_1_years\n",
    "        features.append(team1_mean_score_1_years - team2_mean_score_1_years)\n",
    "        # 23 compare mean_score_2_years\n",
    "        features.append(team1_mean_score_2_years - team2_mean_score_2_years)\n",
    "        # 24 compare mean_score_5_years\n",
    "        features.append(team1_mean_score_5_years - team2_mean_score_5_years)\n",
    "        \n",
    "        #pair\n",
    "        last_year_games = list(self.get_pair_last_games((game.team1, game.team2), [game.year - i - self.shift for i in xrange(1)]))\n",
    "        # 25 - number of games last year\n",
    "        features.append(len(last_year_games))\n",
    "        # 26 - mean target for last year\n",
    "        features.append(self.target_mean([x['target'] for x in last_year_games]))\n",
    "        \n",
    "        last2_year_games = list(self.get_pair_last_games((game.team1, game.team2), [game.year - i - self.shift for i in xrange(2)]))\n",
    "        # 27 - number of games last 2 year\n",
    "        features.append(len(last2_year_games))\n",
    "        # 28 - mean target for last 2 year\n",
    "        features.append(self.target_mean([x['target'] for x in last2_year_games]))\n",
    "        \n",
    "        last5_year_games = list(self.get_pair_last_games((game.team1, game.team2), [game.year - i - self.shift for i in xrange(5)]))\n",
    "        # 29 - number of games last 5 year\n",
    "        features.append(len(last5_year_games))\n",
    "        # 30 - mean target for last 5 year\n",
    "        features.append(self.target_mean([x['target'] for x in last5_year_games]))\n",
    "        \n",
    "        #cum prob\n",
    "        # 31 - cumprob1\n",
    "        features.append(self.cum_prob1[game.year - self.shift][game.team1, game.team2])\n",
    "        # 32 - cumprob2\n",
    "        features.append(self.cum_prob2[game.year - self.shift][game.team1, game.team2])\n",
    "        # 33 - cumprob3\n",
    "        features.append(self.cum_prob3[game.year - self.shift][game.team1, game.team2])\n",
    "        \n",
    "        # 34 - cumprob4\n",
    "        features.append(self.cum_prob4[game.year - self.shift][game.team1, game.team2])\n",
    "        # 35 - cumprob5\n",
    "        features.append(self.cum_prob5[game.year - self.shift][game.team1, game.team2])\n",
    "        # 36 - cumprob6\n",
    "        features.append(self.cum_prob6[game.year - self.shift][game.team1, game.team2])\n",
    "        \n",
    "        #cum prob\n",
    "        # 37 - cumprob1 5 years old\n",
    "        features.append(self.cum_prob1[game.year - self.shift - 4][game.team1, game.team2])\n",
    "        # 38 - cumprob2 5 years old\n",
    "        features.append(self.cum_prob2[game.year - self.shift - 4][game.team1, game.team2])\n",
    "        # 39 - cumprob3 5 years old\n",
    "        features.append(self.cum_prob3[game.year - self.shift - 4][game.team1, game.team2])\n",
    "        \n",
    "        # 40 - cumprob4 5 years old\n",
    "        features.append(self.cum_prob4[game.year - self.shift - 4][game.team1, game.team2])\n",
    "        # 41 - cumprob5 5 years old\n",
    "        features.append(self.cum_prob5[game.year - self.shift - 4][game.team1, game.team2])\n",
    "        # 42 - cumprob6 5 years old\n",
    "        features.append(self.cum_prob6[game.year - self.shift - 4][game.team1, game.team2])\n",
    "        \n",
    "        return features\n"
   ]
  },
  {
   "cell_type": "code",
   "execution_count": 140,
   "metadata": {
    "collapsed": false
   },
   "outputs": [],
   "source": [
    "feature_extractor1 = FeatureExtractor(1)\n",
    "feature_extractor2 = FeatureExtractor(2)"
   ]
  },
  {
   "cell_type": "code",
   "execution_count": 141,
   "metadata": {
    "collapsed": false
   },
   "outputs": [],
   "source": [
    "not_pushed_years = deque([0])\n",
    "with open('/home/tylorn/m_train_train', 'w') as f:\n",
    "    for index, game in true_train.sort_values(by='year').iterrows():\n",
    "        if game.year != not_pushed_years[-1]:\n",
    "            if len(not_pushed_years) == 1:\n",
    "                feature_extractor1.push_year(not_pushed_years[0])\n",
    "                not_pushed_years.popleft()\n",
    "            not_pushed_years.append(game.year)\n",
    "        if game.year >= 3003:\n",
    "            features = feature_extractor1.extract(game)\n",
    "            f.write('\\t'.join(map(str, [index, int(game.target), 0, 0] + features)) + '\\n')\n",
    "        feature_extractor1.add_2_history(game)\n",
    "        \n",
    "with open('/home/tylorn/m_train_test', 'w') as f:\n",
    "    for index, game in validate_train.sort_values(by='year').iterrows():\n",
    "        if game.year != not_pushed_years[-1]:\n",
    "            if len(not_pushed_years) == 1:\n",
    "                feature_extractor1.push_year(not_pushed_years[0])\n",
    "                not_pushed_years.popleft()\n",
    "            not_pushed_years.append(game.year)\n",
    "        features = feature_extractor1.extract(game)\n",
    "        f.write('\\t'.join(map(str, [index, int(game.target), 0, 0] + features)) + '\\n')\n",
    "        feature_extractor1.add_2_history(game)"
   ]
  },
  {
   "cell_type": "code",
   "execution_count": 142,
   "metadata": {
    "collapsed": false
   },
   "outputs": [],
   "source": [
    "not_pushed_years = deque([0])\n",
    "with open('/home/tylorn/m_train_train2', 'w') as f:\n",
    "    for index, game in true_train.sort_values(by='year').iterrows():\n",
    "        if game.year != not_pushed_years[-1]:\n",
    "            if len(not_pushed_years) == 2:\n",
    "                feature_extractor2.push_year(not_pushed_years[0])\n",
    "                not_pushed_years.popleft()\n",
    "            not_pushed_years.append(game.year)\n",
    "        if game.year >= 3004:\n",
    "            features = feature_extractor2.extract(game)\n",
    "            f.write('\\t'.join(map(str, [index, int(game.target), 0, 0] + features)) + '\\n')\n",
    "        feature_extractor2.add_2_history(game)\n",
    "        \n",
    "with open('/home/tylorn/m_train_test2', 'w') as f:\n",
    "    for index, game in validate_train.sort_values(by='year').iterrows():\n",
    "        if game.year != not_pushed_years[-1]:\n",
    "            if len(not_pushed_years) == 2:\n",
    "                feature_extractor2.push_year(not_pushed_years[0])\n",
    "                not_pushed_years.popleft()\n",
    "            not_pushed_years.append(game.year)\n",
    "        features = feature_extractor2.extract(game)\n",
    "        f.write('\\t'.join(map(str, [index, int(game.target), 0, 0] + features)) + '\\n')\n",
    "        feature_extractor2.add_2_history(game)"
   ]
  },
  {
   "cell_type": "code",
   "execution_count": null,
   "metadata": {
    "collapsed": true
   },
   "outputs": [],
   "source": []
  },
  {
   "cell_type": "code",
   "execution_count": null,
   "metadata": {
    "collapsed": true
   },
   "outputs": [],
   "source": []
  },
  {
   "cell_type": "code",
   "execution_count": 143,
   "metadata": {
    "collapsed": false
   },
   "outputs": [],
   "source": [
    "feature_extractor1 = FeatureExtractor(1)\n",
    "feature_extractor2 = FeatureExtractor(2)\n",
    "\n",
    "not_pushed_years = deque([0])\n",
    "with open('/home/tylorn/m_train1', 'w') as f:\n",
    "    for index, game in train.sort_values(by='year').iterrows():\n",
    "        if game.year != not_pushed_years[-1]:\n",
    "            if len(not_pushed_years) == 1:\n",
    "                feature_extractor1.push_year(not_pushed_years[0])\n",
    "                not_pushed_years.popleft()\n",
    "            not_pushed_years.append(game.year)\n",
    "        if game.year >= 3003:\n",
    "            features = feature_extractor1.extract(game)\n",
    "            f.write('\\t'.join(map(str, [index, int(game.target), 0, 0] + features)) + '\\n')\n",
    "        feature_extractor1.add_2_history(game)\n",
    "\n",
    "for year in not_pushed_years:\n",
    "    feature_extractor1.push_year(year)\n",
    "\n",
    "\n",
    "not_pushed_years = deque([0])\n",
    "with open('/home/tylorn/m_train2', 'w') as f:\n",
    "    for index, game in train.sort_values(by='year').iterrows():\n",
    "        if game.year != not_pushed_years[-1]:\n",
    "            if len(not_pushed_years) == 2:\n",
    "                feature_extractor2.push_year(not_pushed_years[0])\n",
    "                not_pushed_years.popleft()\n",
    "            not_pushed_years.append(game.year)\n",
    "        if game.year >= 3004:\n",
    "            features = feature_extractor2.extract(game)\n",
    "            f.write('\\t'.join(map(str, [index, int(game.target), 0, 0] + features)) + '\\n')\n",
    "        feature_extractor2.add_2_history(game)\n",
    "\n",
    "for year in not_pushed_years:\n",
    "    feature_extractor2.push_year(year)\n",
    "\n",
    "\n",
    "with open('/home/tylorn/m_test1', 'w') as f:\n",
    "    for index, game in test.sort_values(by='year').iterrows():\n",
    "        if game.year == 3020:\n",
    "            features = feature_extractor1.extract(game)\n",
    "            f.write('\\t'.join(map(str, [game.Id, 0, 0, 0] + features)) + '\\n')\n",
    "            \n",
    "with open('/home/tylorn/m_test2', 'w') as f:\n",
    "    for index, game in test.sort_values(by='year').iterrows():\n",
    "        if game.year == 3021:\n",
    "            features = feature_extractor2.extract(game)\n",
    "            f.write('\\t'.join(map(str, [game.Id, 0, 0, 0] + features)) + '\\n')\n"
   ]
  },
  {
   "cell_type": "code",
   "execution_count": 144,
   "metadata": {
    "collapsed": false
   },
   "outputs": [],
   "source": [
    "result = dict()\n",
    "with open('/home/tylorn/m_test1.test.matrixnet', 'r') as f:\n",
    "    for line in f.xreadlines():\n",
    "        fields = line.split('\\t')\n",
    "        result[fields[0]] = fields[-2]\n",
    "with open('/home/tylorn/m_test2.test.matrixnet', 'r') as f:\n",
    "    for line in f.xreadlines():\n",
    "        fields = line.split('\\t')\n",
    "        result[fields[0]] = fields[-2]\n",
    "\n",
    "with open('/home/tylorn/m_result', 'w') as f:\n",
    "    f.write('Id,target\\n')\n",
    "    for game_id, prob in result.iteritems():\n",
    "        f.write(game_id + ',' + prob + '\\n')"
   ]
  },
  {
   "cell_type": "code",
   "execution_count": null,
   "metadata": {
    "collapsed": true
   },
   "outputs": [],
   "source": []
  }
 ],
 "metadata": {
  "kernelspec": {
   "display_name": "Python 2",
   "language": "python",
   "name": "python2"
  },
  "language_info": {
   "codemirror_mode": {
    "name": "ipython",
    "version": 2
   },
   "file_extension": ".py",
   "mimetype": "text/x-python",
   "name": "python",
   "nbconvert_exporter": "python",
   "pygments_lexer": "ipython2",
   "version": "2.7.3"
  }
 },
 "nbformat": 4,
 "nbformat_minor": 0
}
