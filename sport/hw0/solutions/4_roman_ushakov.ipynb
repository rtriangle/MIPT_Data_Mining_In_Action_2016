{
 "cells": [
  {
   "cell_type": "markdown",
   "metadata": {},
   "source": [
    "# Import libraries"
   ]
  },
  {
   "cell_type": "code",
   "execution_count": 1,
   "metadata": {
    "collapsed": false
   },
   "outputs": [
    {
     "name": "stderr",
     "output_type": "stream",
     "text": [
      "/Users/Roman/anaconda/lib/python2.7/site-packages/sklearn/cross_validation.py:44: DeprecationWarning: This module was deprecated in version 0.18 in favor of the model_selection module into which all the refactored classes and functions are moved. Also note that the interface of the new CV iterators are different from that of this module. This module will be removed in 0.20.\n",
      "  \"This module will be removed in 0.20.\", DeprecationWarning)\n",
      "/Users/Roman/anaconda/lib/python2.7/site-packages/sklearn/grid_search.py:43: DeprecationWarning: This module was deprecated in version 0.18 in favor of the model_selection module into which all the refactored classes and functions are moved. This module will be removed in 0.20.\n",
      "  DeprecationWarning)\n"
     ]
    }
   ],
   "source": [
    "import numpy as np # calculations with arrays\n",
    "import pandas as pd # user-friendly DataFrames for data representation\n",
    "import sklearn # machine learning algorithms\n",
    "from sklearn import ensemble, linear_model, cross_validation, grid_search\n",
    "from sklearn.metrics import log_loss\n",
    "from sklearn.preprocessing import StandardScaler\n",
    "from sklearn.preprocessing import OneHotEncoder\n",
    "from sklearn.feature_extraction import DictVectorizer as DV\n",
    "import xgboost as xgboost\n",
    "import matplotlib.pyplot as plt # import plot functions\n",
    "# necessary to plot in jupyter notebook:\n",
    "%matplotlib inline\n",
    "import seaborn as sns # make plots beautiful"
   ]
  },
  {
   "cell_type": "markdown",
   "metadata": {},
   "source": [
    "# Load data using pandas"
   ]
  },
  {
   "cell_type": "code",
   "execution_count": 2,
   "metadata": {
    "collapsed": true
   },
   "outputs": [],
   "source": [
    "train = pd.read_csv('train2.csv')\n",
    "test = pd.read_csv('test2.csv')\n",
    "sample_submission = pd.read_csv('sample_submission.csv')"
   ]
  },
  {
   "cell_type": "markdown",
   "metadata": {},
   "source": [
    "# First view on data"
   ]
  },
  {
   "cell_type": "markdown",
   "metadata": {},
   "source": [
    "# Teams"
   ]
  },
  {
   "cell_type": "code",
   "execution_count": 3,
   "metadata": {
    "collapsed": false
   },
   "outputs": [
    {
     "data": {
      "text/html": [
       "<div>\n",
       "<table border=\"1\" class=\"dataframe\">\n",
       "  <thead>\n",
       "    <tr style=\"text-align: right;\">\n",
       "      <th></th>\n",
       "      <th>year</th>\n",
       "      <th>day</th>\n",
       "      <th>team1</th>\n",
       "      <th>team2</th>\n",
       "      <th>score1</th>\n",
       "      <th>score2</th>\n",
       "      <th>target</th>\n",
       "    </tr>\n",
       "  </thead>\n",
       "  <tbody>\n",
       "    <tr>\n",
       "      <th>0</th>\n",
       "      <td>2998</td>\n",
       "      <td>19</td>\n",
       "      <td>317</td>\n",
       "      <td>131</td>\n",
       "      <td>336</td>\n",
       "      <td>278</td>\n",
       "      <td>True</td>\n",
       "    </tr>\n",
       "    <tr>\n",
       "      <th>1</th>\n",
       "      <td>2998</td>\n",
       "      <td>28</td>\n",
       "      <td>61</td>\n",
       "      <td>29</td>\n",
       "      <td>301</td>\n",
       "      <td>259</td>\n",
       "      <td>True</td>\n",
       "    </tr>\n",
       "  </tbody>\n",
       "</table>\n",
       "</div>"
      ],
      "text/plain": [
       "   year  day  team1  team2  score1  score2 target\n",
       "0  2998   19    317    131     336     278   True\n",
       "1  2998   28     61     29     301     259   True"
      ]
     },
     "execution_count": 3,
     "metadata": {},
     "output_type": "execute_result"
    }
   ],
   "source": [
    "train.head(2)"
   ]
  },
  {
   "cell_type": "code",
   "execution_count": 4,
   "metadata": {
    "collapsed": false
   },
   "outputs": [
    {
     "data": {
      "text/html": [
       "<div>\n",
       "<table border=\"1\" class=\"dataframe\">\n",
       "  <thead>\n",
       "    <tr style=\"text-align: right;\">\n",
       "      <th></th>\n",
       "      <th>Id</th>\n",
       "      <th>year</th>\n",
       "      <th>team1</th>\n",
       "      <th>team2</th>\n",
       "    </tr>\n",
       "  </thead>\n",
       "  <tbody>\n",
       "    <tr>\n",
       "      <th>0</th>\n",
       "      <td>0</td>\n",
       "      <td>3021</td>\n",
       "      <td>363</td>\n",
       "      <td>161</td>\n",
       "    </tr>\n",
       "    <tr>\n",
       "      <th>1</th>\n",
       "      <td>1</td>\n",
       "      <td>3021</td>\n",
       "      <td>286</td>\n",
       "      <td>2</td>\n",
       "    </tr>\n",
       "  </tbody>\n",
       "</table>\n",
       "</div>"
      ],
      "text/plain": [
       "   Id  year  team1  team2\n",
       "0   0  3021    363    161\n",
       "1   1  3021    286      2"
      ]
     },
     "execution_count": 4,
     "metadata": {},
     "output_type": "execute_result"
    }
   ],
   "source": [
    "test.head(2)"
   ]
  },
  {
   "cell_type": "code",
   "execution_count": 5,
   "metadata": {
    "collapsed": false
   },
   "outputs": [
    {
     "name": "stdout",
     "output_type": "stream",
     "text": [
      "[2, 3, 4, 5, 6, 7, 8, 10, 11, 12, 13, 14, 15, 16, 17, 19, 20, 22, 23, 24, 25, 26, 27, 28, 29, 30, 31, 32, 33, 34, 35, 36, 37, 38, 39, 40, 41, 42, 43, 44, 45, 46, 47, 48, 49, 50, 51, 52, 53, 54, 55, 56, 57, 58, 59, 60, 61, 62, 63, 64, 65, 66, 67, 68, 69, 70, 71, 72, 73, 74, 75, 76, 77, 78, 79, 80, 81, 82, 83, 84, 85, 86, 87, 88, 89, 90, 91, 92, 93, 94, 95, 96, 97, 98, 99, 100, 101, 102, 103, 104, 105, 106, 107, 108, 109, 110, 111, 112, 114, 116, 117, 118, 119, 120, 121, 122, 123, 124, 125, 126, 127, 128, 129, 131, 132, 133, 134, 135, 136, 137, 138, 139, 140, 141, 142, 143, 144, 145, 146, 147, 148, 149, 150, 151, 152, 153, 154, 155, 156, 157, 158, 159, 160, 161, 163, 164, 165, 166, 167, 168, 169, 170, 171, 172, 173, 174, 175, 176, 177, 178, 179, 180, 181, 182, 183, 184, 185, 186, 187, 188, 189, 190, 191, 192, 193, 194, 195, 196, 197, 198, 199, 200, 201, 202, 203, 204, 205, 206, 207, 208, 209, 210, 211, 212, 213, 214, 215, 216, 217, 218, 219, 220, 221, 222, 223, 224, 225, 226, 228, 229, 230, 231, 232, 233, 234, 235, 236, 237, 238, 239, 240, 241, 242, 243, 244, 245, 246, 247, 248, 249, 250, 251, 252, 253, 254, 255, 256, 257, 258, 259, 260, 261, 262, 263, 264, 265, 266, 267, 268, 269, 270, 271, 272, 273, 274, 275, 276, 277, 278, 279, 280, 281, 282, 283, 284, 285, 286, 287, 288, 289, 290, 291, 292, 293, 294, 295, 296, 297, 298, 299, 300, 301, 302, 303, 304, 305, 306, 307, 308, 309, 310, 311, 312, 313, 314, 315, 316, 317, 318, 319, 320, 321, 322, 323, 324, 325, 326, 327, 328, 329, 330, 331, 333, 334, 335, 336, 337, 338, 339, 340, 341, 342, 343, 344, 345, 347, 348, 349, 350, 351, 352, 353, 354, 355, 356, 357, 358, 359, 360, 361, 362, 363, 364]\n"
     ]
    }
   ],
   "source": [
    "team1 = sorted(train.team1.unique())\n",
    "print team1"
   ]
  },
  {
   "cell_type": "code",
   "execution_count": 6,
   "metadata": {
    "collapsed": false
   },
   "outputs": [
    {
     "name": "stdout",
     "output_type": "stream",
     "text": [
      "353\n"
     ]
    }
   ],
   "source": [
    "print len(team1)"
   ]
  },
  {
   "cell_type": "code",
   "execution_count": 7,
   "metadata": {
    "collapsed": false
   },
   "outputs": [
    {
     "name": "stdout",
     "output_type": "stream",
     "text": [
      "[2, 3, 4, 5, 6, 7, 8, 10, 11, 12, 13, 14, 15, 16, 17, 19, 20, 22, 23, 24, 25, 26, 27, 28, 29, 30, 31, 32, 33, 34, 35, 36, 37, 38, 39, 40, 41, 42, 43, 44, 45, 46, 47, 48, 49, 50, 51, 52, 53, 54, 55, 56, 57, 58, 59, 60, 61, 62, 63, 64, 65, 66, 67, 68, 69, 70, 71, 72, 73, 74, 75, 76, 77, 78, 79, 80, 81, 82, 83, 84, 85, 86, 87, 88, 89, 90, 91, 92, 93, 94, 95, 96, 97, 98, 99, 100, 101, 102, 103, 104, 105, 106, 107, 108, 109, 110, 111, 112, 114, 116, 117, 118, 119, 120, 121, 122, 123, 124, 125, 126, 127, 128, 129, 131, 132, 133, 134, 135, 136, 137, 138, 139, 140, 141, 142, 143, 144, 145, 146, 147, 148, 149, 150, 151, 152, 153, 154, 155, 156, 157, 158, 159, 160, 161, 163, 164, 165, 166, 167, 168, 169, 170, 171, 172, 173, 174, 175, 176, 177, 178, 179, 180, 181, 182, 183, 184, 185, 186, 187, 188, 189, 190, 191, 192, 193, 194, 195, 196, 197, 198, 199, 200, 201, 202, 203, 204, 205, 206, 207, 208, 209, 210, 211, 212, 213, 214, 215, 216, 217, 218, 219, 220, 221, 222, 223, 224, 225, 226, 228, 229, 230, 231, 232, 233, 234, 235, 236, 237, 238, 239, 240, 241, 242, 243, 244, 245, 246, 247, 248, 249, 250, 251, 252, 253, 254, 255, 256, 257, 258, 259, 260, 261, 262, 263, 264, 265, 266, 267, 268, 269, 270, 271, 272, 273, 274, 275, 276, 277, 278, 279, 280, 281, 282, 283, 284, 285, 286, 287, 288, 289, 290, 291, 292, 293, 294, 295, 296, 297, 298, 299, 300, 301, 302, 303, 304, 305, 306, 307, 308, 309, 310, 311, 312, 313, 314, 315, 316, 317, 318, 319, 320, 321, 322, 323, 324, 325, 326, 327, 328, 329, 330, 331, 333, 334, 335, 336, 337, 338, 339, 340, 341, 342, 343, 344, 345, 347, 348, 349, 350, 351, 352, 353, 354, 355, 356, 357, 358, 359, 360, 361, 362, 363, 364]\n"
     ]
    }
   ],
   "source": [
    "team2 = sorted(train.team2.unique())\n",
    "print team2"
   ]
  },
  {
   "cell_type": "code",
   "execution_count": 8,
   "metadata": {
    "collapsed": false
   },
   "outputs": [
    {
     "name": "stdout",
     "output_type": "stream",
     "text": [
      "353\n"
     ]
    }
   ],
   "source": [
    "print len(team2)"
   ]
  },
  {
   "cell_type": "code",
   "execution_count": 9,
   "metadata": {
    "collapsed": false
   },
   "outputs": [
    {
     "name": "stdout",
     "output_type": "stream",
     "text": [
      "353\n"
     ]
    }
   ],
   "source": [
    "print len(set(team1) & set(team2))"
   ]
  },
  {
   "cell_type": "markdown",
   "metadata": {},
   "source": [
    "Соответственно и в team1, и в team2 из train.csv одни и те же команды"
   ]
  },
  {
   "cell_type": "code",
   "execution_count": 10,
   "metadata": {
    "collapsed": false
   },
   "outputs": [
    {
     "name": "stdout",
     "output_type": "stream",
     "text": [
      "[1, 2, 3, 4, 5, 6, 7, 8, 10, 11, 12, 13, 14, 15, 16, 17, 19, 20, 22, 23, 24, 25, 26, 27, 29, 30, 31, 32, 33, 35, 36, 37, 38, 39, 40, 41, 42, 43, 44, 45, 46, 48, 49, 50, 51, 52, 53, 54, 55, 56, 57, 58, 59, 60, 61, 62, 63, 64, 65, 66, 67, 68, 69, 70, 71, 72, 73, 74, 75, 76, 77, 78, 79, 80, 81, 82, 83, 84, 85, 86, 87, 88, 89, 90, 91, 92, 93, 94, 95, 96, 97, 98, 99, 100, 101, 102, 103, 104, 105, 106, 107, 108, 109, 110, 111, 112, 113, 114, 116, 117, 118, 119, 120, 121, 122, 123, 124, 125, 126, 127, 128, 129, 130, 131, 132, 133, 134, 135, 136, 137, 138, 139, 140, 141, 142, 143, 144, 145, 146, 147, 148, 149, 150, 151, 152, 153, 154, 155, 156, 157, 158, 159, 160, 161, 162, 163, 164, 165, 166, 167, 168, 169, 170, 171, 172, 173, 174, 175, 176, 177, 178, 179, 180, 181, 182, 183, 184, 185, 186, 187, 188, 190, 191, 192, 193, 194, 195, 196, 197, 198, 199, 200, 201, 203, 204, 205, 206, 207, 208, 209, 210, 211, 212, 213, 214, 215, 216, 217, 218, 219, 220, 221, 222, 223, 224, 225, 226, 228, 229, 230, 231, 232, 233, 234, 235, 236, 237, 238, 239, 240, 241, 242, 243, 244, 245, 246, 247, 248, 249, 250, 251, 252, 253, 254, 255, 256, 257, 258, 259, 260, 261, 262, 263, 264, 265, 266, 267, 268, 269, 270, 271, 272, 273, 274, 275, 276, 277, 278, 279, 280, 281, 282, 283, 284, 285, 286, 287, 288, 289, 290, 291, 292, 293, 294, 295, 296, 297, 298, 299, 300, 301, 302, 303, 304, 305, 306, 307, 308, 309, 310, 311, 312, 313, 314, 315, 316, 317, 318, 319, 320, 321, 322, 323, 324, 325, 326, 327, 328, 329, 330, 331, 333, 334, 335, 336, 337, 338, 339, 340, 341, 342, 343, 344, 347, 348, 349, 350, 351, 352, 353, 354, 355, 356, 357, 358, 359, 360, 361, 362, 363]\n"
     ]
    }
   ],
   "source": [
    "print sorted(test.team2.unique())"
   ]
  },
  {
   "cell_type": "markdown",
   "metadata": {},
   "source": [
    "В test.csv есть команды, которых нет в train.csv. Ну а количество команд подталкивает к тому, что это индивидуальный спорт"
   ]
  },
  {
   "cell_type": "markdown",
   "metadata": {},
   "source": [
    "# Scores"
   ]
  },
  {
   "cell_type": "code",
   "execution_count": 11,
   "metadata": {
    "collapsed": false
   },
   "outputs": [
    {
     "name": "stdout",
     "output_type": "stream",
     "text": [
      "[81, 85, 89, 92, 96, 100, 104, 108, 112, 116, 119, 123, 127, 131, 135, 139, 143, 147, 150, 154, 158, 162, 166, 170, 174, 178, 181, 185, 189, 193, 197, 201, 205, 208, 212, 216, 220, 224, 228, 232, 236, 239, 243, 247, 251, 255, 259, 263, 267, 270, 274, 278, 282, 286, 290, 294, 297, 301, 305, 309, 313, 317, 321, 325, 328, 332, 336, 340, 344, 348, 352, 356, 359, 363, 367, 371, 375, 379, 383, 387, 390, 394, 398, 402, 406, 410, 414, 417, 421, 425, 429, 433, 437, 441, 445, 448, 452, 456, 460, 464, 468, 472, 476, 479, 483, 487, 491, 495, 499, 503, 506, 510, 514, 526, 530, 534, 541, 545, 549, 553, 565, 572, 592, 599, 603]\n"
     ]
    }
   ],
   "source": [
    "score1 = sorted(train.score1.unique())\n",
    "print score1"
   ]
  },
  {
   "cell_type": "markdown",
   "metadata": {},
   "source": [
    "Видим, что разница между очками в среднем 4 или 5. Это наводит на мысль о том, что за каждый 'гол' начисляется 4 или 5 очков."
   ]
  },
  {
   "cell_type": "markdown",
   "metadata": {},
   "source": [
    "# Make data for cross_validation"
   ]
  },
  {
   "cell_type": "code",
   "execution_count": 12,
   "metadata": {
    "collapsed": false
   },
   "outputs": [
    {
     "name": "stdout",
     "output_type": "stream",
     "text": [
      "[2998 2999 3000 3001 3002 3003 3004 3005 3006 3007 3008 3009 3010 3011 3012\n",
      " 3013 3014 3015 3016 3017 3018 3019]\n"
     ]
    }
   ],
   "source": [
    "print train.year.unique()"
   ]
  },
  {
   "cell_type": "code",
   "execution_count": 13,
   "metadata": {
    "collapsed": false
   },
   "outputs": [
    {
     "name": "stdout",
     "output_type": "stream",
     "text": [
      "[3021 3020]\n"
     ]
    }
   ],
   "source": [
    "print test.year.unique()"
   ]
  },
  {
   "cell_type": "code",
   "execution_count": 14,
   "metadata": {
    "collapsed": false
   },
   "outputs": [
    {
     "data": {
      "text/html": [
       "<div>\n",
       "<table border=\"1\" class=\"dataframe\">\n",
       "  <thead>\n",
       "    <tr style=\"text-align: right;\">\n",
       "      <th></th>\n",
       "      <th>Id</th>\n",
       "      <th>year</th>\n",
       "      <th>team1</th>\n",
       "      <th>team2</th>\n",
       "    </tr>\n",
       "  </thead>\n",
       "  <tbody>\n",
       "    <tr>\n",
       "      <th>0</th>\n",
       "      <td>0</td>\n",
       "      <td>3021</td>\n",
       "      <td>363</td>\n",
       "      <td>161</td>\n",
       "    </tr>\n",
       "    <tr>\n",
       "      <th>1</th>\n",
       "      <td>1</td>\n",
       "      <td>3021</td>\n",
       "      <td>286</td>\n",
       "      <td>2</td>\n",
       "    </tr>\n",
       "  </tbody>\n",
       "</table>\n",
       "</div>"
      ],
      "text/plain": [
       "   Id  year  team1  team2\n",
       "0   0  3021    363    161\n",
       "1   1  3021    286      2"
      ]
     },
     "execution_count": 14,
     "metadata": {},
     "output_type": "execute_result"
    }
   ],
   "source": [
    "test.head(2)"
   ]
  },
  {
   "cell_type": "markdown",
   "metadata": {},
   "source": [
    "В train.csv нет данных про игры позднее 3019 года, поэтому будем делать максимально похожую кросс-валидацию"
   ]
  },
  {
   "cell_type": "code",
   "execution_count": 15,
   "metadata": {
    "collapsed": false
   },
   "outputs": [
    {
     "data": {
      "text/plain": [
       "array([2998, 2999, 3000, 3001, 3002, 3003, 3004, 3005, 3006, 3007, 3008,\n",
       "       3009, 3010, 3011, 3012, 3013, 3014])"
      ]
     },
     "execution_count": 15,
     "metadata": {},
     "output_type": "execute_result"
    }
   ],
   "source": [
    "STOP_YEAR = 3015\n",
    "X_train_first_part = train[train['year']<STOP_YEAR]\n",
    "X_train_first_part.year.unique()"
   ]
  },
  {
   "cell_type": "code",
   "execution_count": 17,
   "metadata": {
    "collapsed": false
   },
   "outputs": [
    {
     "name": "stdout",
     "output_type": "stream",
     "text": [
      "75278\n"
     ]
    }
   ],
   "source": [
    "STOP_INDEX = X_train_first_part.shape[0]\n",
    "print STOP_INDEX"
   ]
  },
  {
   "cell_type": "code",
   "execution_count": null,
   "metadata": {
    "collapsed": true
   },
   "outputs": [],
   "source": []
  },
  {
   "cell_type": "code",
   "execution_count": 18,
   "metadata": {
    "collapsed": true
   },
   "outputs": [],
   "source": [
    "X_train_second_part = X_train_first_part"
   ]
  },
  {
   "cell_type": "markdown",
   "metadata": {},
   "source": [
    "Посмотрим, в каком отношении мы разбили train.csv на обучающую и тестовую"
   ]
  },
  {
   "cell_type": "code",
   "execution_count": 19,
   "metadata": {
    "collapsed": false
   },
   "outputs": [
    {
     "name": "stdout",
     "output_type": "stream",
     "text": [
      "0.740859569526\n"
     ]
    }
   ],
   "source": [
    "print X_train_first_part.shape[0]/float(train.shape[0])"
   ]
  },
  {
   "cell_type": "code",
   "execution_count": 20,
   "metadata": {
    "collapsed": true
   },
   "outputs": [],
   "source": [
    "y_train_first_part = train[['target']][: STOP_INDEX]"
   ]
  },
  {
   "cell_type": "code",
   "execution_count": null,
   "metadata": {
    "collapsed": true
   },
   "outputs": [],
   "source": []
  },
  {
   "cell_type": "code",
   "execution_count": 21,
   "metadata": {
    "collapsed": false
   },
   "outputs": [],
   "source": [
    "y_train_second_part = pd.DataFrame(list(map (lambda x: bool(1-x), y_train_first_part.values.T[0])), columns=['target'])"
   ]
  },
  {
   "cell_type": "code",
   "execution_count": 52,
   "metadata": {
    "collapsed": false
   },
   "outputs": [],
   "source": [
    "y_train_second_part.index = list(i for i in range(STOP_INDEX-1, 150555))"
   ]
  },
  {
   "cell_type": "code",
   "execution_count": 53,
   "metadata": {
    "collapsed": false
   },
   "outputs": [
    {
     "data": {
      "text/html": [
       "<div>\n",
       "<table border=\"1\" class=\"dataframe\">\n",
       "  <thead>\n",
       "    <tr style=\"text-align: right;\">\n",
       "      <th></th>\n",
       "      <th>target</th>\n",
       "    </tr>\n",
       "  </thead>\n",
       "  <tbody>\n",
       "    <tr>\n",
       "      <th>0</th>\n",
       "      <td>True</td>\n",
       "    </tr>\n",
       "    <tr>\n",
       "      <th>1</th>\n",
       "      <td>True</td>\n",
       "    </tr>\n",
       "    <tr>\n",
       "      <th>2</th>\n",
       "      <td>True</td>\n",
       "    </tr>\n",
       "    <tr>\n",
       "      <th>3</th>\n",
       "      <td>False</td>\n",
       "    </tr>\n",
       "    <tr>\n",
       "      <th>4</th>\n",
       "      <td>True</td>\n",
       "    </tr>\n",
       "    <tr>\n",
       "      <th>5</th>\n",
       "      <td>False</td>\n",
       "    </tr>\n",
       "    <tr>\n",
       "      <th>6</th>\n",
       "      <td>False</td>\n",
       "    </tr>\n",
       "    <tr>\n",
       "      <th>7</th>\n",
       "      <td>True</td>\n",
       "    </tr>\n",
       "    <tr>\n",
       "      <th>8</th>\n",
       "      <td>True</td>\n",
       "    </tr>\n",
       "    <tr>\n",
       "      <th>9</th>\n",
       "      <td>False</td>\n",
       "    </tr>\n",
       "    <tr>\n",
       "      <th>10</th>\n",
       "      <td>True</td>\n",
       "    </tr>\n",
       "    <tr>\n",
       "      <th>11</th>\n",
       "      <td>True</td>\n",
       "    </tr>\n",
       "    <tr>\n",
       "      <th>12</th>\n",
       "      <td>True</td>\n",
       "    </tr>\n",
       "    <tr>\n",
       "      <th>13</th>\n",
       "      <td>True</td>\n",
       "    </tr>\n",
       "    <tr>\n",
       "      <th>14</th>\n",
       "      <td>False</td>\n",
       "    </tr>\n",
       "    <tr>\n",
       "      <th>15</th>\n",
       "      <td>True</td>\n",
       "    </tr>\n",
       "    <tr>\n",
       "      <th>16</th>\n",
       "      <td>False</td>\n",
       "    </tr>\n",
       "    <tr>\n",
       "      <th>17</th>\n",
       "      <td>True</td>\n",
       "    </tr>\n",
       "    <tr>\n",
       "      <th>18</th>\n",
       "      <td>True</td>\n",
       "    </tr>\n",
       "    <tr>\n",
       "      <th>19</th>\n",
       "      <td>True</td>\n",
       "    </tr>\n",
       "    <tr>\n",
       "      <th>20</th>\n",
       "      <td>False</td>\n",
       "    </tr>\n",
       "    <tr>\n",
       "      <th>21</th>\n",
       "      <td>False</td>\n",
       "    </tr>\n",
       "    <tr>\n",
       "      <th>22</th>\n",
       "      <td>True</td>\n",
       "    </tr>\n",
       "    <tr>\n",
       "      <th>23</th>\n",
       "      <td>False</td>\n",
       "    </tr>\n",
       "    <tr>\n",
       "      <th>24</th>\n",
       "      <td>True</td>\n",
       "    </tr>\n",
       "    <tr>\n",
       "      <th>25</th>\n",
       "      <td>False</td>\n",
       "    </tr>\n",
       "    <tr>\n",
       "      <th>26</th>\n",
       "      <td>False</td>\n",
       "    </tr>\n",
       "    <tr>\n",
       "      <th>27</th>\n",
       "      <td>False</td>\n",
       "    </tr>\n",
       "    <tr>\n",
       "      <th>28</th>\n",
       "      <td>True</td>\n",
       "    </tr>\n",
       "    <tr>\n",
       "      <th>29</th>\n",
       "      <td>True</td>\n",
       "    </tr>\n",
       "    <tr>\n",
       "      <th>...</th>\n",
       "      <td>...</td>\n",
       "    </tr>\n",
       "    <tr>\n",
       "      <th>75247</th>\n",
       "      <td>True</td>\n",
       "    </tr>\n",
       "    <tr>\n",
       "      <th>75248</th>\n",
       "      <td>True</td>\n",
       "    </tr>\n",
       "    <tr>\n",
       "      <th>75249</th>\n",
       "      <td>False</td>\n",
       "    </tr>\n",
       "    <tr>\n",
       "      <th>75250</th>\n",
       "      <td>False</td>\n",
       "    </tr>\n",
       "    <tr>\n",
       "      <th>75251</th>\n",
       "      <td>False</td>\n",
       "    </tr>\n",
       "    <tr>\n",
       "      <th>75252</th>\n",
       "      <td>True</td>\n",
       "    </tr>\n",
       "    <tr>\n",
       "      <th>75253</th>\n",
       "      <td>False</td>\n",
       "    </tr>\n",
       "    <tr>\n",
       "      <th>75254</th>\n",
       "      <td>True</td>\n",
       "    </tr>\n",
       "    <tr>\n",
       "      <th>75255</th>\n",
       "      <td>True</td>\n",
       "    </tr>\n",
       "    <tr>\n",
       "      <th>75256</th>\n",
       "      <td>False</td>\n",
       "    </tr>\n",
       "    <tr>\n",
       "      <th>75257</th>\n",
       "      <td>False</td>\n",
       "    </tr>\n",
       "    <tr>\n",
       "      <th>75258</th>\n",
       "      <td>True</td>\n",
       "    </tr>\n",
       "    <tr>\n",
       "      <th>75259</th>\n",
       "      <td>True</td>\n",
       "    </tr>\n",
       "    <tr>\n",
       "      <th>75260</th>\n",
       "      <td>False</td>\n",
       "    </tr>\n",
       "    <tr>\n",
       "      <th>75261</th>\n",
       "      <td>False</td>\n",
       "    </tr>\n",
       "    <tr>\n",
       "      <th>75262</th>\n",
       "      <td>False</td>\n",
       "    </tr>\n",
       "    <tr>\n",
       "      <th>75263</th>\n",
       "      <td>False</td>\n",
       "    </tr>\n",
       "    <tr>\n",
       "      <th>75264</th>\n",
       "      <td>False</td>\n",
       "    </tr>\n",
       "    <tr>\n",
       "      <th>75265</th>\n",
       "      <td>True</td>\n",
       "    </tr>\n",
       "    <tr>\n",
       "      <th>75266</th>\n",
       "      <td>True</td>\n",
       "    </tr>\n",
       "    <tr>\n",
       "      <th>75267</th>\n",
       "      <td>False</td>\n",
       "    </tr>\n",
       "    <tr>\n",
       "      <th>75268</th>\n",
       "      <td>True</td>\n",
       "    </tr>\n",
       "    <tr>\n",
       "      <th>75269</th>\n",
       "      <td>True</td>\n",
       "    </tr>\n",
       "    <tr>\n",
       "      <th>75270</th>\n",
       "      <td>True</td>\n",
       "    </tr>\n",
       "    <tr>\n",
       "      <th>75271</th>\n",
       "      <td>False</td>\n",
       "    </tr>\n",
       "    <tr>\n",
       "      <th>75272</th>\n",
       "      <td>True</td>\n",
       "    </tr>\n",
       "    <tr>\n",
       "      <th>75273</th>\n",
       "      <td>True</td>\n",
       "    </tr>\n",
       "    <tr>\n",
       "      <th>75274</th>\n",
       "      <td>False</td>\n",
       "    </tr>\n",
       "    <tr>\n",
       "      <th>75275</th>\n",
       "      <td>False</td>\n",
       "    </tr>\n",
       "    <tr>\n",
       "      <th>75276</th>\n",
       "      <td>True</td>\n",
       "    </tr>\n",
       "  </tbody>\n",
       "</table>\n",
       "<p>75277 rows × 1 columns</p>\n",
       "</div>"
      ],
      "text/plain": [
       "      target\n",
       "0       True\n",
       "1       True\n",
       "2       True\n",
       "3      False\n",
       "4       True\n",
       "5      False\n",
       "6      False\n",
       "7       True\n",
       "8       True\n",
       "9      False\n",
       "10      True\n",
       "11      True\n",
       "12      True\n",
       "13      True\n",
       "14     False\n",
       "15      True\n",
       "16     False\n",
       "17      True\n",
       "18      True\n",
       "19      True\n",
       "20     False\n",
       "21     False\n",
       "22      True\n",
       "23     False\n",
       "24      True\n",
       "25     False\n",
       "26     False\n",
       "27     False\n",
       "28      True\n",
       "29      True\n",
       "...      ...\n",
       "75247   True\n",
       "75248   True\n",
       "75249  False\n",
       "75250  False\n",
       "75251  False\n",
       "75252   True\n",
       "75253  False\n",
       "75254   True\n",
       "75255   True\n",
       "75256  False\n",
       "75257  False\n",
       "75258   True\n",
       "75259   True\n",
       "75260  False\n",
       "75261  False\n",
       "75262  False\n",
       "75263  False\n",
       "75264  False\n",
       "75265   True\n",
       "75266   True\n",
       "75267  False\n",
       "75268   True\n",
       "75269   True\n",
       "75270   True\n",
       "75271  False\n",
       "75272   True\n",
       "75273   True\n",
       "75274  False\n",
       "75275  False\n",
       "75276   True\n",
       "\n",
       "[75277 rows x 1 columns]"
      ]
     },
     "execution_count": 53,
     "metadata": {},
     "output_type": "execute_result"
    }
   ],
   "source": [
    "y_train_first_part.head(-1)"
   ]
  },
  {
   "cell_type": "code",
   "execution_count": 54,
   "metadata": {
    "collapsed": false
   },
   "outputs": [
    {
     "data": {
      "text/plain": [
       "(75278, 1)"
      ]
     },
     "execution_count": 54,
     "metadata": {},
     "output_type": "execute_result"
    }
   ],
   "source": [
    "y_train_first_part.shape"
   ]
  },
  {
   "cell_type": "code",
   "execution_count": 55,
   "metadata": {
    "collapsed": false
   },
   "outputs": [
    {
     "data": {
      "text/html": [
       "<div>\n",
       "<table border=\"1\" class=\"dataframe\">\n",
       "  <thead>\n",
       "    <tr style=\"text-align: right;\">\n",
       "      <th></th>\n",
       "      <th>target</th>\n",
       "    </tr>\n",
       "  </thead>\n",
       "  <tbody>\n",
       "    <tr>\n",
       "      <th>75277</th>\n",
       "      <td>False</td>\n",
       "    </tr>\n",
       "    <tr>\n",
       "      <th>75278</th>\n",
       "      <td>False</td>\n",
       "    </tr>\n",
       "    <tr>\n",
       "      <th>75279</th>\n",
       "      <td>False</td>\n",
       "    </tr>\n",
       "    <tr>\n",
       "      <th>75280</th>\n",
       "      <td>True</td>\n",
       "    </tr>\n",
       "    <tr>\n",
       "      <th>75281</th>\n",
       "      <td>False</td>\n",
       "    </tr>\n",
       "  </tbody>\n",
       "</table>\n",
       "</div>"
      ],
      "text/plain": [
       "      target\n",
       "75277  False\n",
       "75278  False\n",
       "75279  False\n",
       "75280   True\n",
       "75281  False"
      ]
     },
     "execution_count": 55,
     "metadata": {},
     "output_type": "execute_result"
    }
   ],
   "source": [
    "y_train_second_part.head(5)"
   ]
  },
  {
   "cell_type": "code",
   "execution_count": 56,
   "metadata": {
    "collapsed": false
   },
   "outputs": [
    {
     "data": {
      "text/plain": [
       "(75278, 1)"
      ]
     },
     "execution_count": 56,
     "metadata": {},
     "output_type": "execute_result"
    }
   ],
   "source": [
    "y_train_second_part.shape"
   ]
  },
  {
   "cell_type": "code",
   "execution_count": null,
   "metadata": {
    "collapsed": true
   },
   "outputs": [],
   "source": []
  },
  {
   "cell_type": "markdown",
   "metadata": {},
   "source": [
    "Сделаем итоговую таблицу X_year"
   ]
  },
  {
   "cell_type": "code",
   "execution_count": 57,
   "metadata": {
    "collapsed": true
   },
   "outputs": [],
   "source": [
    "X_year_I = X_train_first_part[['year']]\n",
    "X_year_II = X_train_second_part[['year']]"
   ]
  },
  {
   "cell_type": "code",
   "execution_count": 58,
   "metadata": {
    "collapsed": true
   },
   "outputs": [],
   "source": [
    "X_year = pd.concat([X_year_I, X_year_II], axis=0)"
   ]
  },
  {
   "cell_type": "code",
   "execution_count": 59,
   "metadata": {
    "collapsed": false
   },
   "outputs": [
    {
     "data": {
      "text/plain": [
       "(150556, 1)"
      ]
     },
     "execution_count": 59,
     "metadata": {},
     "output_type": "execute_result"
    }
   ],
   "source": [
    "X_year.shape"
   ]
  },
  {
   "cell_type": "code",
   "execution_count": 60,
   "metadata": {
    "collapsed": false
   },
   "outputs": [
    {
     "data": {
      "text/html": [
       "<div>\n",
       "<table border=\"1\" class=\"dataframe\">\n",
       "  <thead>\n",
       "    <tr style=\"text-align: right;\">\n",
       "      <th></th>\n",
       "      <th>year</th>\n",
       "    </tr>\n",
       "  </thead>\n",
       "  <tbody>\n",
       "    <tr>\n",
       "      <th>0</th>\n",
       "      <td>2998</td>\n",
       "    </tr>\n",
       "    <tr>\n",
       "      <th>1</th>\n",
       "      <td>2998</td>\n",
       "    </tr>\n",
       "  </tbody>\n",
       "</table>\n",
       "</div>"
      ],
      "text/plain": [
       "   year\n",
       "0  2998\n",
       "1  2998"
      ]
     },
     "execution_count": 60,
     "metadata": {},
     "output_type": "execute_result"
    }
   ],
   "source": [
    "X_year.head(2)"
   ]
  },
  {
   "cell_type": "markdown",
   "metadata": {},
   "source": [
    "# Hot_Encode"
   ]
  },
  {
   "cell_type": "code",
   "execution_count": 61,
   "metadata": {
    "collapsed": true
   },
   "outputs": [],
   "source": [
    "enc = OneHotEncoder(sparse=False)\n",
    "\n",
    "train_team1_all = pd.DataFrame(enc.fit_transform(train[['team1']]))\n",
    "train_team2_all = pd.DataFrame(enc.transform(train[['team2']]))\n",
    "train_teams_all = pd.concat([train_team1_all, train_team2_all], axis=1)\n",
    "\n",
    "test_team1 = pd.DataFrame(enc.transform(test[['team1']]))\n",
    "test_team2 = pd.DataFrame(enc.transform(test[['team2']]))\n",
    "test_teams = pd.concat([test_team1, test_team2], axis=1)"
   ]
  },
  {
   "cell_type": "code",
   "execution_count": 62,
   "metadata": {
    "collapsed": true
   },
   "outputs": [],
   "source": [
    "reverse_train_teams_all = pd.concat([train_team2_all, train_team1_all], axis=1)"
   ]
  },
  {
   "cell_type": "code",
   "execution_count": 63,
   "metadata": {
    "collapsed": false
   },
   "outputs": [
    {
     "data": {
      "text/plain": [
       "(101609, 706)"
      ]
     },
     "execution_count": 63,
     "metadata": {},
     "output_type": "execute_result"
    }
   ],
   "source": [
    "train_teams_all.shape"
   ]
  },
  {
   "cell_type": "code",
   "execution_count": 64,
   "metadata": {
    "collapsed": false
   },
   "outputs": [
    {
     "data": {
      "text/plain": [
       "(101609, 706)"
      ]
     },
     "execution_count": 64,
     "metadata": {},
     "output_type": "execute_result"
    }
   ],
   "source": [
    "reverse_train_teams_all.shape"
   ]
  },
  {
   "cell_type": "code",
   "execution_count": 65,
   "metadata": {
    "collapsed": false
   },
   "outputs": [
    {
     "data": {
      "text/plain": [
       "(75278, 706)"
      ]
     },
     "execution_count": 65,
     "metadata": {},
     "output_type": "execute_result"
    }
   ],
   "source": [
    "train_teams = train_teams_all[ :STOP_INDEX ]\n",
    "train_teams.shape"
   ]
  },
  {
   "cell_type": "code",
   "execution_count": 66,
   "metadata": {
    "collapsed": false
   },
   "outputs": [
    {
     "data": {
      "text/plain": [
       "(75278, 706)"
      ]
     },
     "execution_count": 66,
     "metadata": {},
     "output_type": "execute_result"
    }
   ],
   "source": [
    "reverse_train_teams = reverse_train_teams_all[ :STOP_INDEX ]\n",
    "reverse_train_teams.shape"
   ]
  },
  {
   "cell_type": "code",
   "execution_count": 67,
   "metadata": {
    "collapsed": false
   },
   "outputs": [
    {
     "data": {
      "text/plain": [
       "(150556, 706)"
      ]
     },
     "execution_count": 67,
     "metadata": {},
     "output_type": "execute_result"
    }
   ],
   "source": [
    "teams_to_add = pd.concat([train_teams, reverse_train_teams], axis=0)\n",
    "teams_to_add.shape"
   ]
  },
  {
   "cell_type": "code",
   "execution_count": 68,
   "metadata": {
    "collapsed": true
   },
   "outputs": [],
   "source": [
    "train_data = pd.concat([X_year, teams_to_add], axis=1)"
   ]
  },
  {
   "cell_type": "code",
   "execution_count": 69,
   "metadata": {
    "collapsed": false
   },
   "outputs": [
    {
     "data": {
      "text/plain": [
       "(150556, 707)"
      ]
     },
     "execution_count": 69,
     "metadata": {},
     "output_type": "execute_result"
    }
   ],
   "source": [
    "train_data.shape"
   ]
  },
  {
   "cell_type": "code",
   "execution_count": 70,
   "metadata": {
    "collapsed": false
   },
   "outputs": [
    {
     "data": {
      "text/html": [
       "<div>\n",
       "<table border=\"1\" class=\"dataframe\">\n",
       "  <thead>\n",
       "    <tr style=\"text-align: right;\">\n",
       "      <th></th>\n",
       "      <th>year</th>\n",
       "      <th>0</th>\n",
       "      <th>1</th>\n",
       "      <th>2</th>\n",
       "      <th>3</th>\n",
       "      <th>4</th>\n",
       "      <th>5</th>\n",
       "      <th>6</th>\n",
       "      <th>7</th>\n",
       "      <th>8</th>\n",
       "      <th>...</th>\n",
       "      <th>343</th>\n",
       "      <th>344</th>\n",
       "      <th>345</th>\n",
       "      <th>346</th>\n",
       "      <th>347</th>\n",
       "      <th>348</th>\n",
       "      <th>349</th>\n",
       "      <th>350</th>\n",
       "      <th>351</th>\n",
       "      <th>352</th>\n",
       "    </tr>\n",
       "  </thead>\n",
       "  <tbody>\n",
       "    <tr>\n",
       "      <th>0</th>\n",
       "      <td>2998</td>\n",
       "      <td>0.0</td>\n",
       "      <td>0.0</td>\n",
       "      <td>0.0</td>\n",
       "      <td>0.0</td>\n",
       "      <td>0.0</td>\n",
       "      <td>0.0</td>\n",
       "      <td>0.0</td>\n",
       "      <td>0.0</td>\n",
       "      <td>0.0</td>\n",
       "      <td>...</td>\n",
       "      <td>0.0</td>\n",
       "      <td>0.0</td>\n",
       "      <td>0.0</td>\n",
       "      <td>0.0</td>\n",
       "      <td>0.0</td>\n",
       "      <td>0.0</td>\n",
       "      <td>0.0</td>\n",
       "      <td>0.0</td>\n",
       "      <td>0.0</td>\n",
       "      <td>0.0</td>\n",
       "    </tr>\n",
       "    <tr>\n",
       "      <th>1</th>\n",
       "      <td>2998</td>\n",
       "      <td>0.0</td>\n",
       "      <td>0.0</td>\n",
       "      <td>0.0</td>\n",
       "      <td>0.0</td>\n",
       "      <td>0.0</td>\n",
       "      <td>0.0</td>\n",
       "      <td>0.0</td>\n",
       "      <td>0.0</td>\n",
       "      <td>0.0</td>\n",
       "      <td>...</td>\n",
       "      <td>0.0</td>\n",
       "      <td>0.0</td>\n",
       "      <td>0.0</td>\n",
       "      <td>0.0</td>\n",
       "      <td>0.0</td>\n",
       "      <td>0.0</td>\n",
       "      <td>0.0</td>\n",
       "      <td>0.0</td>\n",
       "      <td>0.0</td>\n",
       "      <td>0.0</td>\n",
       "    </tr>\n",
       "  </tbody>\n",
       "</table>\n",
       "<p>2 rows × 707 columns</p>\n",
       "</div>"
      ],
      "text/plain": [
       "   year    0    1    2    3    4    5    6    7    8 ...   343  344  345  346  \\\n",
       "0  2998  0.0  0.0  0.0  0.0  0.0  0.0  0.0  0.0  0.0 ...   0.0  0.0  0.0  0.0   \n",
       "1  2998  0.0  0.0  0.0  0.0  0.0  0.0  0.0  0.0  0.0 ...   0.0  0.0  0.0  0.0   \n",
       "\n",
       "   347  348  349  350  351  352  \n",
       "0  0.0  0.0  0.0  0.0  0.0  0.0  \n",
       "1  0.0  0.0  0.0  0.0  0.0  0.0  \n",
       "\n",
       "[2 rows x 707 columns]"
      ]
     },
     "execution_count": 70,
     "metadata": {},
     "output_type": "execute_result"
    }
   ],
   "source": [
    "train_data.head(2)"
   ]
  },
  {
   "cell_type": "code",
   "execution_count": null,
   "metadata": {
    "collapsed": true
   },
   "outputs": [],
   "source": []
  },
  {
   "cell_type": "code",
   "execution_count": null,
   "metadata": {
    "collapsed": true
   },
   "outputs": [],
   "source": []
  },
  {
   "cell_type": "code",
   "execution_count": 71,
   "metadata": {
    "collapsed": false
   },
   "outputs": [
    {
     "data": {
      "text/plain": [
       "(150556, 1)"
      ]
     },
     "execution_count": 71,
     "metadata": {},
     "output_type": "execute_result"
    }
   ],
   "source": [
    "y_train = pd.concat([y_train_first_part, y_train_second_part], axis=0)\n",
    "y_train.shape"
   ]
  },
  {
   "cell_type": "code",
   "execution_count": 73,
   "metadata": {
    "collapsed": false
   },
   "outputs": [
    {
     "data": {
      "text/plain": [
       "(26331, 1)"
      ]
     },
     "execution_count": 73,
     "metadata": {},
     "output_type": "execute_result"
    }
   ],
   "source": [
    "y_test = train[['target']][STOP_INDEX : ]\n",
    "y_test.shape"
   ]
  },
  {
   "cell_type": "code",
   "execution_count": 74,
   "metadata": {
    "collapsed": false
   },
   "outputs": [
    {
     "data": {
      "text/plain": [
       "(26331, 707)"
      ]
     },
     "execution_count": 74,
     "metadata": {},
     "output_type": "execute_result"
    }
   ],
   "source": [
    "test_data = pd.concat([train[['year']][ STOP_INDEX: ], train_teams_all[ STOP_INDEX: ]], axis=1)\n",
    "test_data.shape"
   ]
  },
  {
   "cell_type": "code",
   "execution_count": 75,
   "metadata": {
    "collapsed": false
   },
   "outputs": [
    {
     "data": {
      "text/html": [
       "<div>\n",
       "<table border=\"1\" class=\"dataframe\">\n",
       "  <thead>\n",
       "    <tr style=\"text-align: right;\">\n",
       "      <th></th>\n",
       "      <th>year</th>\n",
       "      <th>0</th>\n",
       "      <th>1</th>\n",
       "      <th>2</th>\n",
       "      <th>3</th>\n",
       "      <th>4</th>\n",
       "      <th>5</th>\n",
       "      <th>6</th>\n",
       "      <th>7</th>\n",
       "      <th>8</th>\n",
       "      <th>...</th>\n",
       "      <th>343</th>\n",
       "      <th>344</th>\n",
       "      <th>345</th>\n",
       "      <th>346</th>\n",
       "      <th>347</th>\n",
       "      <th>348</th>\n",
       "      <th>349</th>\n",
       "      <th>350</th>\n",
       "      <th>351</th>\n",
       "      <th>352</th>\n",
       "    </tr>\n",
       "  </thead>\n",
       "  <tbody>\n",
       "    <tr>\n",
       "      <th>75278</th>\n",
       "      <td>3015</td>\n",
       "      <td>0.0</td>\n",
       "      <td>0.0</td>\n",
       "      <td>0.0</td>\n",
       "      <td>0.0</td>\n",
       "      <td>0.0</td>\n",
       "      <td>0.0</td>\n",
       "      <td>0.0</td>\n",
       "      <td>0.0</td>\n",
       "      <td>0.0</td>\n",
       "      <td>...</td>\n",
       "      <td>0.0</td>\n",
       "      <td>0.0</td>\n",
       "      <td>0.0</td>\n",
       "      <td>0.0</td>\n",
       "      <td>0.0</td>\n",
       "      <td>0.0</td>\n",
       "      <td>0.0</td>\n",
       "      <td>0.0</td>\n",
       "      <td>0.0</td>\n",
       "      <td>0.0</td>\n",
       "    </tr>\n",
       "    <tr>\n",
       "      <th>75279</th>\n",
       "      <td>3015</td>\n",
       "      <td>0.0</td>\n",
       "      <td>0.0</td>\n",
       "      <td>0.0</td>\n",
       "      <td>0.0</td>\n",
       "      <td>0.0</td>\n",
       "      <td>0.0</td>\n",
       "      <td>0.0</td>\n",
       "      <td>0.0</td>\n",
       "      <td>0.0</td>\n",
       "      <td>...</td>\n",
       "      <td>0.0</td>\n",
       "      <td>0.0</td>\n",
       "      <td>0.0</td>\n",
       "      <td>0.0</td>\n",
       "      <td>0.0</td>\n",
       "      <td>0.0</td>\n",
       "      <td>0.0</td>\n",
       "      <td>0.0</td>\n",
       "      <td>0.0</td>\n",
       "      <td>0.0</td>\n",
       "    </tr>\n",
       "  </tbody>\n",
       "</table>\n",
       "<p>2 rows × 707 columns</p>\n",
       "</div>"
      ],
      "text/plain": [
       "       year    0    1    2    3    4    5    6    7    8 ...   343  344  345  \\\n",
       "75278  3015  0.0  0.0  0.0  0.0  0.0  0.0  0.0  0.0  0.0 ...   0.0  0.0  0.0   \n",
       "75279  3015  0.0  0.0  0.0  0.0  0.0  0.0  0.0  0.0  0.0 ...   0.0  0.0  0.0   \n",
       "\n",
       "       346  347  348  349  350  351  352  \n",
       "75278  0.0  0.0  0.0  0.0  0.0  0.0  0.0  \n",
       "75279  0.0  0.0  0.0  0.0  0.0  0.0  0.0  \n",
       "\n",
       "[2 rows x 707 columns]"
      ]
     },
     "execution_count": 75,
     "metadata": {},
     "output_type": "execute_result"
    }
   ],
   "source": [
    "test_data.head(2)"
   ]
  },
  {
   "cell_type": "code",
   "execution_count": 76,
   "metadata": {
    "collapsed": false
   },
   "outputs": [
    {
     "data": {
      "text/plain": [
       "Int64Index([    0,     1,     2,     3,     4,     5,     6,     7,     8,\n",
       "                9,\n",
       "            ...\n",
       "            75268, 75269, 75270, 75271, 75272, 75273, 75274, 75275, 75276,\n",
       "            75277],\n",
       "           dtype='int64', length=150556)"
      ]
     },
     "execution_count": 76,
     "metadata": {},
     "output_type": "execute_result"
    }
   ],
   "source": [
    "train_data.index"
   ]
  },
  {
   "cell_type": "markdown",
   "metadata": {},
   "source": [
    "Итак, train_data – данные, на которых обучаемся, y_train – метки класса для данных, на которых обучаемся;\n",
    "\n",
    "test_data, y_test – данные, на которых оцениваем качество алгоритмов"
   ]
  },
  {
   "cell_type": "markdown",
   "metadata": {},
   "source": [
    "# Linear_Classifier"
   ]
  },
  {
   "cell_type": "code",
   "execution_count": 77,
   "metadata": {
    "collapsed": false
   },
   "outputs": [],
   "source": [
    "lin_cl = linear_model.LogisticRegression(C=0.07)"
   ]
  },
  {
   "cell_type": "code",
   "execution_count": 78,
   "metadata": {
    "collapsed": false
   },
   "outputs": [
    {
     "name": "stderr",
     "output_type": "stream",
     "text": [
      "/Users/Roman/anaconda/lib/python2.7/site-packages/sklearn/utils/validation.py:526: DataConversionWarning: A column-vector y was passed when a 1d array was expected. Please change the shape of y to (n_samples, ), for example using ravel().\n",
      "  y = column_or_1d(y, warn=True)\n"
     ]
    },
    {
     "data": {
      "text/plain": [
       "LogisticRegression(C=0.07, class_weight=None, dual=False, fit_intercept=True,\n",
       "          intercept_scaling=1, max_iter=100, multi_class='ovr', n_jobs=1,\n",
       "          penalty='l2', random_state=None, solver='liblinear', tol=0.0001,\n",
       "          verbose=0, warm_start=False)"
      ]
     },
     "execution_count": 78,
     "metadata": {},
     "output_type": "execute_result"
    }
   ],
   "source": [
    "lin_cl.fit(train_data, y_train)"
   ]
  },
  {
   "cell_type": "code",
   "execution_count": 79,
   "metadata": {
    "collapsed": false
   },
   "outputs": [
    {
     "data": {
      "text/plain": [
       "0.63409634717694308"
      ]
     },
     "execution_count": 79,
     "metadata": {},
     "output_type": "execute_result"
    }
   ],
   "source": [
    "pred = lin_cl.predict_proba(test_data)[:,1]\n",
    "log_loss(y_test, pred)"
   ]
  },
  {
   "cell_type": "markdown",
   "metadata": {},
   "source": [
    "# xgboost"
   ]
  },
  {
   "cell_type": "code",
   "execution_count": 80,
   "metadata": {
    "collapsed": true
   },
   "outputs": [],
   "source": [
    "param = {}\n",
    "param['max_depth'] = 3\n",
    "param['booster'] = 'gbtree'\n",
    "param['objective'] = 'binary:logistic'\n",
    "param['eval_metric'] = 'logloss'\n",
    "param['eta'] = 0.03\n",
    "\n",
    "numround = 800"
   ]
  },
  {
   "cell_type": "code",
   "execution_count": 81,
   "metadata": {
    "collapsed": false
   },
   "outputs": [
    {
     "name": "stderr",
     "output_type": "stream",
     "text": [
      "[0]\ttrain-logloss:0.693316\teval-logloss:0.693123\n",
      "[1]\ttrain-logloss:0.693209\teval-logloss:0.693052\n",
      "[2]\ttrain-logloss:0.693088\teval-logloss:0.692874\n",
      "[3]\ttrain-logloss:0.692980\teval-logloss:0.692786\n",
      "[4]\ttrain-logloss:0.692867\teval-logloss:0.692655\n",
      "[5]\ttrain-logloss:0.692752\teval-logloss:0.692572\n",
      "[6]\ttrain-logloss:0.692652\teval-logloss:0.692461\n",
      "[7]\ttrain-logloss:0.692549\teval-logloss:0.692440\n",
      "[8]\ttrain-logloss:0.692439\teval-logloss:0.692289\n",
      "[9]\ttrain-logloss:0.692352\teval-logloss:0.692244\n",
      "[10]\ttrain-logloss:0.692249\teval-logloss:0.692164\n",
      "[11]\ttrain-logloss:0.692155\teval-logloss:0.692102\n",
      "[12]\ttrain-logloss:0.692060\teval-logloss:0.692005\n",
      "[13]\ttrain-logloss:0.691976\teval-logloss:0.692009\n",
      "[14]\ttrain-logloss:0.691875\teval-logloss:0.691915\n",
      "[15]\ttrain-logloss:0.691800\teval-logloss:0.691920\n",
      "[16]\ttrain-logloss:0.691708\teval-logloss:0.691803\n",
      "[17]\ttrain-logloss:0.691629\teval-logloss:0.691784\n",
      "[18]\ttrain-logloss:0.691534\teval-logloss:0.691687\n",
      "[19]\ttrain-logloss:0.691448\teval-logloss:0.691649\n",
      "[20]\ttrain-logloss:0.691352\teval-logloss:0.691586\n",
      "[21]\ttrain-logloss:0.691274\teval-logloss:0.691567\n",
      "[22]\ttrain-logloss:0.691179\teval-logloss:0.691432\n",
      "[23]\ttrain-logloss:0.691099\teval-logloss:0.691406\n",
      "[24]\ttrain-logloss:0.691012\teval-logloss:0.691360\n",
      "[25]\ttrain-logloss:0.690930\teval-logloss:0.691323\n",
      "[26]\ttrain-logloss:0.690841\teval-logloss:0.691238\n",
      "[27]\ttrain-logloss:0.690762\teval-logloss:0.691218\n",
      "[28]\ttrain-logloss:0.690689\teval-logloss:0.691118\n",
      "[29]\ttrain-logloss:0.690609\teval-logloss:0.691046\n",
      "[30]\ttrain-logloss:0.690530\teval-logloss:0.690986\n",
      "[31]\ttrain-logloss:0.690458\teval-logloss:0.690943\n",
      "[32]\ttrain-logloss:0.690376\teval-logloss:0.690844\n",
      "[33]\ttrain-logloss:0.690291\teval-logloss:0.690795\n",
      "[34]\ttrain-logloss:0.690223\teval-logloss:0.690728\n",
      "[35]\ttrain-logloss:0.690143\teval-logloss:0.690698\n",
      "[36]\ttrain-logloss:0.690066\teval-logloss:0.690652\n",
      "[37]\ttrain-logloss:0.689997\teval-logloss:0.690617\n",
      "[38]\ttrain-logloss:0.689920\teval-logloss:0.690552\n",
      "[39]\ttrain-logloss:0.689849\teval-logloss:0.690562\n",
      "[40]\ttrain-logloss:0.689765\teval-logloss:0.690490\n",
      "[41]\ttrain-logloss:0.689697\teval-logloss:0.690498\n",
      "[42]\ttrain-logloss:0.689618\teval-logloss:0.690418\n",
      "[43]\ttrain-logloss:0.689534\teval-logloss:0.690347\n",
      "[44]\ttrain-logloss:0.689459\teval-logloss:0.690298\n",
      "[45]\ttrain-logloss:0.689392\teval-logloss:0.690316\n",
      "[46]\ttrain-logloss:0.689309\teval-logloss:0.690199\n",
      "[47]\ttrain-logloss:0.689242\teval-logloss:0.690167\n",
      "[48]\ttrain-logloss:0.689166\teval-logloss:0.690123\n",
      "[49]\ttrain-logloss:0.689096\teval-logloss:0.690090\n",
      "[50]\ttrain-logloss:0.689032\teval-logloss:0.690069\n",
      "[51]\ttrain-logloss:0.688968\teval-logloss:0.690027\n",
      "[52]\ttrain-logloss:0.688903\teval-logloss:0.689985\n",
      "[53]\ttrain-logloss:0.688851\teval-logloss:0.689991\n",
      "[54]\ttrain-logloss:0.688776\teval-logloss:0.689888\n",
      "[55]\ttrain-logloss:0.688718\teval-logloss:0.689871\n",
      "[56]\ttrain-logloss:0.688648\teval-logloss:0.689758\n",
      "[57]\ttrain-logloss:0.688588\teval-logloss:0.689736\n",
      "[58]\ttrain-logloss:0.688524\teval-logloss:0.689690\n",
      "[59]\ttrain-logloss:0.688466\teval-logloss:0.689719\n",
      "[60]\ttrain-logloss:0.688392\teval-logloss:0.689645\n",
      "[61]\ttrain-logloss:0.688331\teval-logloss:0.689625\n",
      "[62]\ttrain-logloss:0.688256\teval-logloss:0.689570\n",
      "[63]\ttrain-logloss:0.688199\teval-logloss:0.689562\n",
      "[64]\ttrain-logloss:0.688124\teval-logloss:0.689481\n",
      "[65]\ttrain-logloss:0.688060\teval-logloss:0.689437\n",
      "[66]\ttrain-logloss:0.687990\teval-logloss:0.689407\n",
      "[67]\ttrain-logloss:0.687934\teval-logloss:0.689405\n",
      "[68]\ttrain-logloss:0.687869\teval-logloss:0.689311\n",
      "[69]\ttrain-logloss:0.687805\teval-logloss:0.689242\n",
      "[70]\ttrain-logloss:0.687738\teval-logloss:0.689196\n",
      "[71]\ttrain-logloss:0.687682\teval-logloss:0.689225\n",
      "[72]\ttrain-logloss:0.687611\teval-logloss:0.689157\n",
      "[73]\ttrain-logloss:0.687565\teval-logloss:0.689171\n",
      "[74]\ttrain-logloss:0.687498\teval-logloss:0.689072\n",
      "[75]\ttrain-logloss:0.687442\teval-logloss:0.689037\n",
      "[76]\ttrain-logloss:0.687379\teval-logloss:0.688994\n",
      "[77]\ttrain-logloss:0.687317\teval-logloss:0.689012\n",
      "[78]\ttrain-logloss:0.687250\teval-logloss:0.688904\n",
      "[79]\ttrain-logloss:0.687186\teval-logloss:0.688840\n",
      "[80]\ttrain-logloss:0.687122\teval-logloss:0.688810\n",
      "[81]\ttrain-logloss:0.687064\teval-logloss:0.688819\n",
      "[82]\ttrain-logloss:0.686997\teval-logloss:0.688750\n",
      "[83]\ttrain-logloss:0.686936\teval-logloss:0.688716\n",
      "[84]\ttrain-logloss:0.686878\teval-logloss:0.688706\n",
      "[85]\ttrain-logloss:0.686815\teval-logloss:0.688662\n",
      "[86]\ttrain-logloss:0.686755\teval-logloss:0.688651\n",
      "[87]\ttrain-logloss:0.686700\teval-logloss:0.688645\n",
      "[88]\ttrain-logloss:0.686637\teval-logloss:0.688574\n",
      "[89]\ttrain-logloss:0.686594\teval-logloss:0.688594\n",
      "[90]\ttrain-logloss:0.686524\teval-logloss:0.688497\n",
      "[91]\ttrain-logloss:0.686470\teval-logloss:0.688450\n",
      "[92]\ttrain-logloss:0.686411\teval-logloss:0.688415\n",
      "[93]\ttrain-logloss:0.686360\teval-logloss:0.688408\n",
      "[94]\ttrain-logloss:0.686299\teval-logloss:0.688291\n",
      "[95]\ttrain-logloss:0.686244\teval-logloss:0.688276\n",
      "[96]\ttrain-logloss:0.686185\teval-logloss:0.688251\n",
      "[97]\ttrain-logloss:0.686137\teval-logloss:0.688259\n",
      "[98]\ttrain-logloss:0.686070\teval-logloss:0.688190\n",
      "[99]\ttrain-logloss:0.686018\teval-logloss:0.688175\n",
      "[100]\ttrain-logloss:0.685963\teval-logloss:0.688159\n",
      "[101]\ttrain-logloss:0.685909\teval-logloss:0.688156\n",
      "[102]\ttrain-logloss:0.685851\teval-logloss:0.688062\n",
      "[103]\ttrain-logloss:0.685816\teval-logloss:0.688075\n",
      "[104]\ttrain-logloss:0.685750\teval-logloss:0.688000\n",
      "[105]\ttrain-logloss:0.685712\teval-logloss:0.688000\n",
      "[106]\ttrain-logloss:0.685652\teval-logloss:0.687890\n",
      "[107]\ttrain-logloss:0.685585\teval-logloss:0.687839\n",
      "[108]\ttrain-logloss:0.685525\teval-logloss:0.687818\n",
      "[109]\ttrain-logloss:0.685466\teval-logloss:0.687805\n",
      "[110]\ttrain-logloss:0.685416\teval-logloss:0.687785\n",
      "[111]\ttrain-logloss:0.685360\teval-logloss:0.687725\n",
      "[112]\ttrain-logloss:0.685301\teval-logloss:0.687658\n",
      "[113]\ttrain-logloss:0.685248\teval-logloss:0.687615\n",
      "[114]\ttrain-logloss:0.685199\teval-logloss:0.687615\n",
      "[115]\ttrain-logloss:0.685146\teval-logloss:0.687587\n",
      "[116]\ttrain-logloss:0.685092\teval-logloss:0.687573\n",
      "[117]\ttrain-logloss:0.685033\teval-logloss:0.687553\n",
      "[118]\ttrain-logloss:0.684976\teval-logloss:0.687522\n",
      "[119]\ttrain-logloss:0.684931\teval-logloss:0.687477\n",
      "[120]\ttrain-logloss:0.684883\teval-logloss:0.687450\n",
      "[121]\ttrain-logloss:0.684828\teval-logloss:0.687391\n",
      "[122]\ttrain-logloss:0.684770\teval-logloss:0.687364\n",
      "[123]\ttrain-logloss:0.684718\teval-logloss:0.687327\n",
      "[124]\ttrain-logloss:0.684667\teval-logloss:0.687294\n",
      "[125]\ttrain-logloss:0.684620\teval-logloss:0.687287\n",
      "[126]\ttrain-logloss:0.684567\teval-logloss:0.687253\n",
      "[127]\ttrain-logloss:0.684516\teval-logloss:0.687191\n",
      "[128]\ttrain-logloss:0.684460\teval-logloss:0.687193\n",
      "[129]\ttrain-logloss:0.684412\teval-logloss:0.687138\n",
      "[130]\ttrain-logloss:0.684361\teval-logloss:0.687105\n",
      "[131]\ttrain-logloss:0.684302\teval-logloss:0.687048\n",
      "[132]\ttrain-logloss:0.684255\teval-logloss:0.687023\n",
      "[133]\ttrain-logloss:0.684211\teval-logloss:0.687021\n",
      "[134]\ttrain-logloss:0.684156\teval-logloss:0.686992\n",
      "[135]\ttrain-logloss:0.684623\teval-logloss:0.686954\n",
      "[136]\ttrain-logloss:0.684053\teval-logloss:0.686919\n",
      "[137]\ttrain-logloss:0.684516\teval-logloss:0.686909\n",
      "[138]\ttrain-logloss:0.684455\teval-logloss:0.686875\n",
      "[139]\ttrain-logloss:0.684400\teval-logloss:0.686837\n",
      "[140]\ttrain-logloss:0.684345\teval-logloss:0.686798\n",
      "[141]\ttrain-logloss:0.684308\teval-logloss:0.686756\n",
      "[142]\ttrain-logloss:0.683740\teval-logloss:0.686706\n",
      "[143]\ttrain-logloss:0.683689\teval-logloss:0.686690\n",
      "[144]\ttrain-logloss:0.683651\teval-logloss:0.686653\n",
      "[145]\ttrain-logloss:0.683611\teval-logloss:0.686672\n",
      "[146]\ttrain-logloss:0.683549\teval-logloss:0.686586\n",
      "[147]\ttrain-logloss:0.683488\teval-logloss:0.686547\n",
      "[148]\ttrain-logloss:0.683440\teval-logloss:0.686531\n",
      "[149]\ttrain-logloss:0.683382\teval-logloss:0.686504\n",
      "[150]\ttrain-logloss:0.683327\teval-logloss:0.686474\n",
      "[151]\ttrain-logloss:0.683269\teval-logloss:0.686430\n",
      "[152]\ttrain-logloss:0.683228\teval-logloss:0.686384\n",
      "[153]\ttrain-logloss:0.683173\teval-logloss:0.686344\n",
      "[154]\ttrain-logloss:0.683128\teval-logloss:0.686324\n",
      "[155]\ttrain-logloss:0.683073\teval-logloss:0.686305\n",
      "[156]\ttrain-logloss:0.683024\teval-logloss:0.686294\n",
      "[157]\ttrain-logloss:0.682975\teval-logloss:0.686279\n",
      "[158]\ttrain-logloss:0.682921\teval-logloss:0.686264\n",
      "[159]\ttrain-logloss:0.682876\teval-logloss:0.686244\n",
      "[160]\ttrain-logloss:0.682835\teval-logloss:0.686212\n",
      "[161]\ttrain-logloss:0.682790\teval-logloss:0.686170\n",
      "[162]\ttrain-logloss:0.682741\teval-logloss:0.686147\n",
      "[163]\ttrain-logloss:0.682704\teval-logloss:0.686124\n",
      "[164]\ttrain-logloss:0.682649\teval-logloss:0.686065\n",
      "[165]\ttrain-logloss:0.682611\teval-logloss:0.686047\n",
      "[166]\ttrain-logloss:0.682559\teval-logloss:0.686007\n",
      "[167]\ttrain-logloss:0.682521\teval-logloss:0.686022\n",
      "[168]\ttrain-logloss:0.682464\teval-logloss:0.685928\n",
      "[169]\ttrain-logloss:0.682424\teval-logloss:0.685934\n",
      "[170]\ttrain-logloss:0.682372\teval-logloss:0.685851\n",
      "[171]\ttrain-logloss:0.682331\teval-logloss:0.685837\n",
      "[172]\ttrain-logloss:0.682286\teval-logloss:0.685814\n",
      "[173]\ttrain-logloss:0.682731\teval-logloss:0.685784\n",
      "[174]\ttrain-logloss:0.682188\teval-logloss:0.685784\n",
      "[175]\ttrain-logloss:0.682146\teval-logloss:0.685752\n",
      "[176]\ttrain-logloss:0.682099\teval-logloss:0.685717\n",
      "[177]\ttrain-logloss:0.682050\teval-logloss:0.685680\n",
      "[178]\ttrain-logloss:0.682004\teval-logloss:0.685653\n",
      "[179]\ttrain-logloss:0.681954\teval-logloss:0.685667\n",
      "[180]\ttrain-logloss:0.681904\teval-logloss:0.685601\n",
      "[181]\ttrain-logloss:0.681860\teval-logloss:0.685561\n",
      "[182]\ttrain-logloss:0.681813\teval-logloss:0.685542\n",
      "[183]\ttrain-logloss:0.681777\teval-logloss:0.685529\n",
      "[184]\ttrain-logloss:0.681738\teval-logloss:0.685519\n",
      "[185]\ttrain-logloss:0.681690\teval-logloss:0.685433\n",
      "[186]\ttrain-logloss:0.681640\teval-logloss:0.685372\n",
      "[187]\ttrain-logloss:0.681595\teval-logloss:0.685342\n",
      "[188]\ttrain-logloss:0.681547\teval-logloss:0.685340\n",
      "[189]\ttrain-logloss:0.681506\teval-logloss:0.685312\n",
      "[190]\ttrain-logloss:0.681463\teval-logloss:0.685294\n",
      "[191]\ttrain-logloss:0.681416\teval-logloss:0.685235\n",
      "[192]\ttrain-logloss:0.681362\teval-logloss:0.685195\n",
      "[193]\ttrain-logloss:0.681316\teval-logloss:0.685167\n",
      "[194]\ttrain-logloss:0.681269\teval-logloss:0.685155\n",
      "[195]\ttrain-logloss:0.681233\teval-logloss:0.685119\n",
      "[196]\ttrain-logloss:0.681179\teval-logloss:0.685106\n",
      "[197]\ttrain-logloss:0.681138\teval-logloss:0.685083\n",
      "[198]\ttrain-logloss:0.681090\teval-logloss:0.685040\n",
      "[199]\ttrain-logloss:0.681051\teval-logloss:0.685046\n",
      "[200]\ttrain-logloss:0.680993\teval-logloss:0.684998\n",
      "[201]\ttrain-logloss:0.680950\teval-logloss:0.685016\n",
      "[202]\ttrain-logloss:0.680896\teval-logloss:0.684939\n",
      "[203]\ttrain-logloss:0.680871\teval-logloss:0.684943\n",
      "[204]\ttrain-logloss:0.680823\teval-logloss:0.684933\n",
      "[205]\ttrain-logloss:0.680780\teval-logloss:0.684902\n",
      "[206]\ttrain-logloss:0.680735\teval-logloss:0.684905\n",
      "[207]\ttrain-logloss:0.680686\teval-logloss:0.684888\n",
      "[208]\ttrain-logloss:0.680640\teval-logloss:0.684818\n",
      "[209]\ttrain-logloss:0.680596\teval-logloss:0.684800\n",
      "[210]\ttrain-logloss:0.680553\teval-logloss:0.684789\n",
      "[211]\ttrain-logloss:0.680507\teval-logloss:0.684769\n",
      "[212]\ttrain-logloss:0.680464\teval-logloss:0.684716\n",
      "[213]\ttrain-logloss:0.680426\teval-logloss:0.684684\n",
      "[214]\ttrain-logloss:0.680378\teval-logloss:0.684683\n",
      "[215]\ttrain-logloss:0.680345\teval-logloss:0.684698\n",
      "[216]\ttrain-logloss:0.680292\teval-logloss:0.684655\n",
      "[217]\ttrain-logloss:0.680252\teval-logloss:0.684676\n",
      "[218]\ttrain-logloss:0.680205\teval-logloss:0.684647\n",
      "[219]\ttrain-logloss:0.680148\teval-logloss:0.684577\n",
      "[220]\ttrain-logloss:0.680108\teval-logloss:0.684554\n",
      "[221]\ttrain-logloss:0.680071\teval-logloss:0.684521\n",
      "[222]\ttrain-logloss:0.680020\teval-logloss:0.684467\n",
      "[223]\ttrain-logloss:0.679971\teval-logloss:0.684411\n",
      "[224]\ttrain-logloss:0.679930\teval-logloss:0.684382\n",
      "[225]\ttrain-logloss:0.679879\teval-logloss:0.684365\n",
      "[226]\ttrain-logloss:0.679835\teval-logloss:0.684348\n",
      "[227]\ttrain-logloss:0.679796\teval-logloss:0.684320\n",
      "[228]\ttrain-logloss:0.679749\teval-logloss:0.684304\n",
      "[229]\ttrain-logloss:0.679709\teval-logloss:0.684309\n",
      "[230]\ttrain-logloss:0.679664\teval-logloss:0.684245\n",
      "[231]\ttrain-logloss:0.679621\teval-logloss:0.684204\n",
      "[232]\ttrain-logloss:0.679577\teval-logloss:0.684198\n",
      "[233]\ttrain-logloss:0.679537\teval-logloss:0.684182\n",
      "[234]\ttrain-logloss:0.679495\teval-logloss:0.684149\n",
      "[235]\ttrain-logloss:0.679452\teval-logloss:0.684119\n",
      "[236]\ttrain-logloss:0.679413\teval-logloss:0.684103\n",
      "[237]\ttrain-logloss:0.679370\teval-logloss:0.684066\n",
      "[238]\ttrain-logloss:0.679331\teval-logloss:0.684022\n",
      "[239]\ttrain-logloss:0.679294\teval-logloss:0.683979\n",
      "[240]\ttrain-logloss:0.679247\teval-logloss:0.683951\n",
      "[241]\ttrain-logloss:0.679642\teval-logloss:0.683753\n",
      "[242]\ttrain-logloss:0.679154\teval-logloss:0.683893\n",
      "[243]\ttrain-logloss:0.679118\teval-logloss:0.683875\n",
      "[244]\ttrain-logloss:0.679087\teval-logloss:0.683898\n",
      "[245]\ttrain-logloss:0.679037\teval-logloss:0.683834\n",
      "[246]\ttrain-logloss:0.679005\teval-logloss:0.683865\n",
      "[247]\ttrain-logloss:0.678963\teval-logloss:0.683849\n",
      "[248]\ttrain-logloss:0.678922\teval-logloss:0.683801\n",
      "[249]\ttrain-logloss:0.678881\teval-logloss:0.683819\n",
      "[250]\ttrain-logloss:0.678844\teval-logloss:0.683750\n",
      "[251]\ttrain-logloss:0.678798\teval-logloss:0.683742\n",
      "[252]\ttrain-logloss:0.678751\teval-logloss:0.683679\n",
      "[253]\ttrain-logloss:0.678713\teval-logloss:0.683711\n",
      "[254]\ttrain-logloss:0.678660\teval-logloss:0.683659\n",
      "[255]\ttrain-logloss:0.678618\teval-logloss:0.683638\n",
      "[256]\ttrain-logloss:0.678573\teval-logloss:0.683640\n",
      "[257]\ttrain-logloss:0.678530\teval-logloss:0.683602\n",
      "[258]\ttrain-logloss:0.678489\teval-logloss:0.683576\n",
      "[259]\ttrain-logloss:0.678462\teval-logloss:0.683537\n",
      "[260]\ttrain-logloss:0.678423\teval-logloss:0.683480\n",
      "[261]\ttrain-logloss:0.678384\teval-logloss:0.683426\n",
      "[262]\ttrain-logloss:0.678348\teval-logloss:0.683389\n",
      "[263]\ttrain-logloss:0.678301\teval-logloss:0.683347\n",
      "[264]\ttrain-logloss:0.678269\teval-logloss:0.683341\n",
      "[265]\ttrain-logloss:0.678230\teval-logloss:0.683309\n",
      "[266]\ttrain-logloss:0.678184\teval-logloss:0.683267\n",
      "[267]\ttrain-logloss:0.678146\teval-logloss:0.683245\n",
      "[268]\ttrain-logloss:0.678106\teval-logloss:0.683223\n",
      "[269]\ttrain-logloss:0.678071\teval-logloss:0.683203\n",
      "[270]\ttrain-logloss:0.678024\teval-logloss:0.683155\n",
      "[271]\ttrain-logloss:0.677975\teval-logloss:0.683126\n",
      "[272]\ttrain-logloss:0.677931\teval-logloss:0.683106\n",
      "[273]\ttrain-logloss:0.677895\teval-logloss:0.683108\n",
      "[274]\ttrain-logloss:0.677856\teval-logloss:0.683083\n",
      "[275]\ttrain-logloss:0.677815\teval-logloss:0.683067\n",
      "[276]\ttrain-logloss:0.677768\teval-logloss:0.683028\n",
      "[277]\ttrain-logloss:0.677734\teval-logloss:0.683050\n",
      "[278]\ttrain-logloss:0.677685\teval-logloss:0.682995\n",
      "[279]\ttrain-logloss:0.677651\teval-logloss:0.682990\n",
      "[280]\ttrain-logloss:0.677618\teval-logloss:0.683012\n",
      "[281]\ttrain-logloss:0.677576\teval-logloss:0.682955\n",
      "[282]\ttrain-logloss:0.677532\teval-logloss:0.682935\n",
      "[283]\ttrain-logloss:0.677497\teval-logloss:0.682923\n",
      "[284]\ttrain-logloss:0.677453\teval-logloss:0.682880\n",
      "[285]\ttrain-logloss:0.677418\teval-logloss:0.682861\n",
      "[286]\ttrain-logloss:0.677381\teval-logloss:0.682855\n",
      "[287]\ttrain-logloss:0.677333\teval-logloss:0.682840\n",
      "[288]\ttrain-logloss:0.677310\teval-logloss:0.682859\n",
      "[289]\ttrain-logloss:0.677276\teval-logloss:0.682822\n",
      "[290]\ttrain-logloss:0.677253\teval-logloss:0.682783\n",
      "[291]\ttrain-logloss:0.677222\teval-logloss:0.682721\n",
      "[292]\ttrain-logloss:0.677186\teval-logloss:0.682699\n",
      "[293]\ttrain-logloss:0.677150\teval-logloss:0.682674\n",
      "[294]\ttrain-logloss:0.677095\teval-logloss:0.682616\n",
      "[295]\ttrain-logloss:0.677054\teval-logloss:0.682604\n",
      "[296]\ttrain-logloss:0.677010\teval-logloss:0.682580\n",
      "[297]\ttrain-logloss:0.676973\teval-logloss:0.682539\n",
      "[298]\ttrain-logloss:0.676942\teval-logloss:0.682500\n",
      "[299]\ttrain-logloss:0.676897\teval-logloss:0.682441\n",
      "[300]\ttrain-logloss:0.676867\teval-logloss:0.682414\n",
      "[301]\ttrain-logloss:0.676825\teval-logloss:0.682388\n",
      "[302]\ttrain-logloss:0.676792\teval-logloss:0.682376\n",
      "[303]\ttrain-logloss:0.676746\teval-logloss:0.682365\n",
      "[304]\ttrain-logloss:0.676722\teval-logloss:0.682339\n",
      "[305]\ttrain-logloss:0.676682\teval-logloss:0.682339\n",
      "[306]\ttrain-logloss:0.676648\teval-logloss:0.682324\n",
      "[307]\ttrain-logloss:0.676608\teval-logloss:0.682287\n",
      "[308]\ttrain-logloss:0.676573\teval-logloss:0.682286\n",
      "[309]\ttrain-logloss:0.676534\teval-logloss:0.682254\n",
      "[310]\ttrain-logloss:0.676500\teval-logloss:0.682221\n",
      "[311]\ttrain-logloss:0.676461\teval-logloss:0.682216\n",
      "[312]\ttrain-logloss:0.676443\teval-logloss:0.682231\n",
      "[313]\ttrain-logloss:0.676404\teval-logloss:0.682217\n",
      "[314]\ttrain-logloss:0.676350\teval-logloss:0.682172\n",
      "[315]\ttrain-logloss:0.676324\teval-logloss:0.682205\n",
      "[316]\ttrain-logloss:0.676277\teval-logloss:0.682150\n",
      "[317]\ttrain-logloss:0.676232\teval-logloss:0.682122\n",
      "[318]\ttrain-logloss:0.676197\teval-logloss:0.682100\n",
      "[319]\ttrain-logloss:0.676160\teval-logloss:0.682052\n",
      "[320]\ttrain-logloss:0.676130\teval-logloss:0.682035\n",
      "[321]\ttrain-logloss:0.676094\teval-logloss:0.682011\n",
      "[322]\ttrain-logloss:0.676059\teval-logloss:0.682008\n",
      "[323]\ttrain-logloss:0.676020\teval-logloss:0.682002\n",
      "[324]\ttrain-logloss:0.675987\teval-logloss:0.681989\n",
      "[325]\ttrain-logloss:0.675943\teval-logloss:0.681954\n",
      "[326]\ttrain-logloss:0.675907\teval-logloss:0.681921\n",
      "[327]\ttrain-logloss:0.675879\teval-logloss:0.681934\n",
      "[328]\ttrain-logloss:0.675832\teval-logloss:0.681863\n",
      "[329]\ttrain-logloss:0.675811\teval-logloss:0.681888\n",
      "[330]\ttrain-logloss:0.675765\teval-logloss:0.681882\n",
      "[331]\ttrain-logloss:0.675718\teval-logloss:0.681823\n",
      "[332]\ttrain-logloss:0.675674\teval-logloss:0.681790\n",
      "[333]\ttrain-logloss:0.675633\teval-logloss:0.681728\n",
      "[334]\ttrain-logloss:0.675595\teval-logloss:0.681684\n",
      "[335]\ttrain-logloss:0.675558\teval-logloss:0.681652\n",
      "[336]\ttrain-logloss:0.675519\teval-logloss:0.681594\n",
      "[337]\ttrain-logloss:0.675476\teval-logloss:0.681572\n",
      "[338]\ttrain-logloss:0.675441\teval-logloss:0.681545\n",
      "[339]\ttrain-logloss:0.675406\teval-logloss:0.681534\n",
      "[340]\ttrain-logloss:0.675371\teval-logloss:0.681494\n",
      "[341]\ttrain-logloss:0.675335\teval-logloss:0.681474\n",
      "[342]\ttrain-logloss:0.675304\teval-logloss:0.681453\n",
      "[343]\ttrain-logloss:0.675265\teval-logloss:0.681428\n",
      "[344]\ttrain-logloss:0.675224\teval-logloss:0.681420\n",
      "[345]\ttrain-logloss:0.675182\teval-logloss:0.681415\n",
      "[346]\ttrain-logloss:0.675145\teval-logloss:0.681405\n",
      "[347]\ttrain-logloss:0.675111\teval-logloss:0.681386\n",
      "[348]\ttrain-logloss:0.675068\teval-logloss:0.681379\n",
      "[349]\ttrain-logloss:0.675031\teval-logloss:0.681363\n",
      "[350]\ttrain-logloss:0.674995\teval-logloss:0.681342\n",
      "[351]\ttrain-logloss:0.674961\teval-logloss:0.681351\n",
      "[352]\ttrain-logloss:0.674918\teval-logloss:0.681293\n",
      "[353]\ttrain-logloss:0.674878\teval-logloss:0.681317\n",
      "[354]\ttrain-logloss:0.674837\teval-logloss:0.681240\n",
      "[355]\ttrain-logloss:0.674805\teval-logloss:0.681237\n",
      "[356]\ttrain-logloss:0.674773\teval-logloss:0.681237\n",
      "[357]\ttrain-logloss:0.674734\teval-logloss:0.681218\n",
      "[358]\ttrain-logloss:0.674703\teval-logloss:0.681205\n",
      "[359]\ttrain-logloss:0.674660\teval-logloss:0.681138\n",
      "[360]\ttrain-logloss:0.674630\teval-logloss:0.681127\n",
      "[361]\ttrain-logloss:0.674597\teval-logloss:0.681093\n",
      "[362]\ttrain-logloss:0.674573\teval-logloss:0.681067\n",
      "[363]\ttrain-logloss:0.674538\teval-logloss:0.681046\n",
      "[364]\ttrain-logloss:0.674495\teval-logloss:0.681047\n",
      "[365]\ttrain-logloss:0.674464\teval-logloss:0.681055\n",
      "[366]\ttrain-logloss:0.674429\teval-logloss:0.680987\n",
      "[367]\ttrain-logloss:0.674401\teval-logloss:0.681024\n",
      "[368]\ttrain-logloss:0.674374\teval-logloss:0.680993\n",
      "[369]\ttrain-logloss:0.674328\teval-logloss:0.680974\n",
      "[370]\ttrain-logloss:0.674289\teval-logloss:0.680920\n",
      "[371]\ttrain-logloss:0.674260\teval-logloss:0.680902\n",
      "[372]\ttrain-logloss:0.674232\teval-logloss:0.680919\n",
      "[373]\ttrain-logloss:0.674188\teval-logloss:0.680854\n",
      "[374]\ttrain-logloss:0.674161\teval-logloss:0.680851\n",
      "[375]\ttrain-logloss:0.674128\teval-logloss:0.680817\n",
      "[376]\ttrain-logloss:0.674085\teval-logloss:0.680788\n",
      "[377]\ttrain-logloss:0.674056\teval-logloss:0.680761\n",
      "[378]\ttrain-logloss:0.674023\teval-logloss:0.680744\n",
      "[379]\ttrain-logloss:0.673985\teval-logloss:0.680697\n",
      "[380]\ttrain-logloss:0.673949\teval-logloss:0.680686\n",
      "[381]\ttrain-logloss:0.673911\teval-logloss:0.680667\n",
      "[382]\ttrain-logloss:0.673878\teval-logloss:0.680648\n",
      "[383]\ttrain-logloss:0.673846\teval-logloss:0.680640\n",
      "[384]\ttrain-logloss:0.673809\teval-logloss:0.680603\n",
      "[385]\ttrain-logloss:0.673786\teval-logloss:0.680621\n",
      "[386]\ttrain-logloss:0.673743\teval-logloss:0.680558\n",
      "[387]\ttrain-logloss:0.673713\teval-logloss:0.680589\n",
      "[388]\ttrain-logloss:0.673659\teval-logloss:0.680528\n",
      "[389]\ttrain-logloss:0.673627\teval-logloss:0.680505\n",
      "[390]\ttrain-logloss:0.673597\teval-logloss:0.680497\n",
      "[391]\ttrain-logloss:0.673567\teval-logloss:0.680462\n",
      "[392]\ttrain-logloss:0.673541\teval-logloss:0.680456\n",
      "[393]\ttrain-logloss:0.673505\teval-logloss:0.680461\n",
      "[394]\ttrain-logloss:0.673474\teval-logloss:0.680451\n",
      "[395]\ttrain-logloss:0.673435\teval-logloss:0.680438\n",
      "[396]\ttrain-logloss:0.673404\teval-logloss:0.680443\n",
      "[397]\ttrain-logloss:0.673366\teval-logloss:0.680397\n",
      "[398]\ttrain-logloss:0.673341\teval-logloss:0.680349\n",
      "[399]\ttrain-logloss:0.673314\teval-logloss:0.680314\n",
      "[400]\ttrain-logloss:0.673274\teval-logloss:0.680285\n",
      "[401]\ttrain-logloss:0.673242\teval-logloss:0.680266\n",
      "[402]\ttrain-logloss:0.673214\teval-logloss:0.680256\n",
      "[403]\ttrain-logloss:0.673181\teval-logloss:0.680241\n",
      "[404]\ttrain-logloss:0.673149\teval-logloss:0.680231\n",
      "[405]\ttrain-logloss:0.673113\teval-logloss:0.680212\n",
      "[406]\ttrain-logloss:0.673080\teval-logloss:0.680223\n",
      "[407]\ttrain-logloss:0.673045\teval-logloss:0.680198\n",
      "[408]\ttrain-logloss:0.673015\teval-logloss:0.680177\n",
      "[409]\ttrain-logloss:0.672980\teval-logloss:0.680160\n",
      "[410]\ttrain-logloss:0.672951\teval-logloss:0.680116\n",
      "[411]\ttrain-logloss:0.672915\teval-logloss:0.680093\n",
      "[412]\ttrain-logloss:0.672886\teval-logloss:0.680066\n",
      "[413]\ttrain-logloss:0.672856\teval-logloss:0.680055\n",
      "[414]\ttrain-logloss:0.672811\teval-logloss:0.680042\n",
      "[415]\ttrain-logloss:0.672782\teval-logloss:0.680001\n",
      "[416]\ttrain-logloss:0.672739\teval-logloss:0.679996\n",
      "[417]\ttrain-logloss:0.672707\teval-logloss:0.679995\n",
      "[418]\ttrain-logloss:0.672674\teval-logloss:0.679922\n",
      "[419]\ttrain-logloss:0.672646\teval-logloss:0.679935\n",
      "[420]\ttrain-logloss:0.672605\teval-logloss:0.679921\n",
      "[421]\ttrain-logloss:0.672573\teval-logloss:0.679897\n",
      "[422]\ttrain-logloss:0.672540\teval-logloss:0.679924\n",
      "[423]\ttrain-logloss:0.672506\teval-logloss:0.679902\n",
      "[424]\ttrain-logloss:0.672477\teval-logloss:0.679878\n",
      "[425]\ttrain-logloss:0.672433\teval-logloss:0.679871\n",
      "[426]\ttrain-logloss:0.672408\teval-logloss:0.679864\n",
      "[427]\ttrain-logloss:0.672375\teval-logloss:0.679839\n",
      "[428]\ttrain-logloss:0.672348\teval-logloss:0.679815\n",
      "[429]\ttrain-logloss:0.672308\teval-logloss:0.679800\n",
      "[430]\ttrain-logloss:0.672277\teval-logloss:0.679722\n",
      "[431]\ttrain-logloss:0.672244\teval-logloss:0.679706\n",
      "[432]\ttrain-logloss:0.672215\teval-logloss:0.679687\n",
      "[433]\ttrain-logloss:0.672174\teval-logloss:0.679654\n",
      "[434]\ttrain-logloss:0.672144\teval-logloss:0.679642\n",
      "[435]\ttrain-logloss:0.672117\teval-logloss:0.679644\n",
      "[436]\ttrain-logloss:0.672083\teval-logloss:0.679636\n",
      "[437]\ttrain-logloss:0.672048\teval-logloss:0.679621\n",
      "[438]\ttrain-logloss:0.672010\teval-logloss:0.679599\n",
      "[439]\ttrain-logloss:0.671978\teval-logloss:0.679577\n",
      "[440]\ttrain-logloss:0.671947\teval-logloss:0.679566\n",
      "[441]\ttrain-logloss:0.672324\teval-logloss:0.679526\n",
      "[442]\ttrain-logloss:0.671879\teval-logloss:0.679494\n",
      "[443]\ttrain-logloss:0.671839\teval-logloss:0.679463\n",
      "[444]\ttrain-logloss:0.671813\teval-logloss:0.679445\n",
      "[445]\ttrain-logloss:0.672183\teval-logloss:0.679428\n",
      "[446]\ttrain-logloss:0.671739\teval-logloss:0.679444\n",
      "[447]\ttrain-logloss:0.671703\teval-logloss:0.679439\n",
      "[448]\ttrain-logloss:0.671668\teval-logloss:0.679389\n",
      "[449]\ttrain-logloss:0.672043\teval-logloss:0.679350\n",
      "[450]\ttrain-logloss:0.672011\teval-logloss:0.679309\n",
      "[451]\ttrain-logloss:0.671952\teval-logloss:0.679137\n",
      "[452]\ttrain-logloss:0.671927\teval-logloss:0.679123\n",
      "[453]\ttrain-logloss:0.671900\teval-logloss:0.679129\n",
      "[454]\ttrain-logloss:0.671880\teval-logloss:0.679110\n",
      "[455]\ttrain-logloss:0.671833\teval-logloss:0.679108\n",
      "[456]\ttrain-logloss:0.671805\teval-logloss:0.679076\n",
      "[457]\ttrain-logloss:0.671764\teval-logloss:0.679051\n",
      "[458]\ttrain-logloss:0.671756\teval-logloss:0.679155\n",
      "[459]\ttrain-logloss:0.671726\teval-logloss:0.679123\n",
      "[460]\ttrain-logloss:0.671703\teval-logloss:0.679103\n",
      "[461]\ttrain-logloss:0.671266\teval-logloss:0.679095\n",
      "[462]\ttrain-logloss:0.671238\teval-logloss:0.679080\n",
      "[463]\ttrain-logloss:0.671209\teval-logloss:0.679046\n",
      "[464]\ttrain-logloss:0.671185\teval-logloss:0.679035\n",
      "[465]\ttrain-logloss:0.671160\teval-logloss:0.679025\n",
      "[466]\ttrain-logloss:0.671130\teval-logloss:0.679005\n",
      "[467]\ttrain-logloss:0.671105\teval-logloss:0.678985\n",
      "[468]\ttrain-logloss:0.671073\teval-logloss:0.678964\n",
      "[469]\ttrain-logloss:0.671048\teval-logloss:0.678949\n",
      "[470]\ttrain-logloss:0.671013\teval-logloss:0.678941\n",
      "[471]\ttrain-logloss:0.670972\teval-logloss:0.678934\n",
      "[472]\ttrain-logloss:0.670943\teval-logloss:0.678906\n",
      "[473]\ttrain-logloss:0.670913\teval-logloss:0.678884\n",
      "[474]\ttrain-logloss:0.670875\teval-logloss:0.678849\n",
      "[475]\ttrain-logloss:0.670845\teval-logloss:0.678826\n",
      "[476]\ttrain-logloss:0.670820\teval-logloss:0.678803\n",
      "[477]\ttrain-logloss:0.670792\teval-logloss:0.678821\n",
      "[478]\ttrain-logloss:0.670755\teval-logloss:0.678771\n",
      "[479]\ttrain-logloss:0.670722\teval-logloss:0.678767\n",
      "[480]\ttrain-logloss:0.670702\teval-logloss:0.678763\n",
      "[481]\ttrain-logloss:0.670673\teval-logloss:0.678747\n",
      "[482]\ttrain-logloss:0.670647\teval-logloss:0.678771\n",
      "[483]\ttrain-logloss:0.670615\teval-logloss:0.678749\n",
      "[484]\ttrain-logloss:0.670585\teval-logloss:0.678748\n",
      "[485]\ttrain-logloss:0.670541\teval-logloss:0.678684\n",
      "[486]\ttrain-logloss:0.670517\teval-logloss:0.678686\n",
      "[487]\ttrain-logloss:0.670491\teval-logloss:0.678675\n",
      "[488]\ttrain-logloss:0.670462\teval-logloss:0.678655\n",
      "[489]\ttrain-logloss:0.670423\teval-logloss:0.678613\n",
      "[490]\ttrain-logloss:0.670389\teval-logloss:0.678613\n",
      "[491]\ttrain-logloss:0.670362\teval-logloss:0.678609\n",
      "[492]\ttrain-logloss:0.670334\teval-logloss:0.678623\n",
      "[493]\ttrain-logloss:0.670293\teval-logloss:0.678574\n",
      "[494]\ttrain-logloss:0.670273\teval-logloss:0.678609\n",
      "[495]\ttrain-logloss:0.670244\teval-logloss:0.678609\n",
      "[496]\ttrain-logloss:0.670205\teval-logloss:0.678554\n",
      "[497]\ttrain-logloss:0.670177\teval-logloss:0.678533\n",
      "[498]\ttrain-logloss:0.670147\teval-logloss:0.678521\n",
      "[499]\ttrain-logloss:0.670116\teval-logloss:0.678512\n",
      "[500]\ttrain-logloss:0.670085\teval-logloss:0.678483\n",
      "[501]\ttrain-logloss:0.670060\teval-logloss:0.678461\n",
      "[502]\ttrain-logloss:0.670021\teval-logloss:0.678446\n",
      "[503]\ttrain-logloss:0.669991\teval-logloss:0.678426\n",
      "[504]\ttrain-logloss:0.669972\teval-logloss:0.678450\n",
      "[505]\ttrain-logloss:0.669945\teval-logloss:0.678424\n",
      "[506]\ttrain-logloss:0.669908\teval-logloss:0.678375\n",
      "[507]\ttrain-logloss:0.669879\teval-logloss:0.678334\n",
      "[508]\ttrain-logloss:0.669842\teval-logloss:0.678329\n",
      "[509]\ttrain-logloss:0.669813\teval-logloss:0.678310\n",
      "[510]\ttrain-logloss:0.669780\teval-logloss:0.678257\n",
      "[511]\ttrain-logloss:0.669745\teval-logloss:0.678255\n",
      "[512]\ttrain-logloss:0.669708\teval-logloss:0.678242\n",
      "[513]\ttrain-logloss:0.669686\teval-logloss:0.678222\n",
      "[514]\ttrain-logloss:0.669658\teval-logloss:0.678214\n",
      "[515]\ttrain-logloss:0.669622\teval-logloss:0.678198\n",
      "[516]\ttrain-logloss:0.669593\teval-logloss:0.678159\n",
      "[517]\ttrain-logloss:0.669562\teval-logloss:0.678137\n",
      "[518]\ttrain-logloss:0.669532\teval-logloss:0.678135\n",
      "[519]\ttrain-logloss:0.669491\teval-logloss:0.678097\n",
      "[520]\ttrain-logloss:0.669461\teval-logloss:0.678076\n",
      "[521]\ttrain-logloss:0.669430\teval-logloss:0.678053\n",
      "[522]\ttrain-logloss:0.669396\teval-logloss:0.678032\n",
      "[523]\ttrain-logloss:0.669361\teval-logloss:0.678037\n",
      "[524]\ttrain-logloss:0.669329\teval-logloss:0.678012\n",
      "[525]\ttrain-logloss:0.669296\teval-logloss:0.677978\n",
      "[526]\ttrain-logloss:0.669266\teval-logloss:0.677940\n",
      "[527]\ttrain-logloss:0.669233\teval-logloss:0.677890\n",
      "[528]\ttrain-logloss:0.669211\teval-logloss:0.677907\n",
      "[529]\ttrain-logloss:0.669180\teval-logloss:0.677845\n",
      "[530]\ttrain-logloss:0.669147\teval-logloss:0.677825\n",
      "[531]\ttrain-logloss:0.669117\teval-logloss:0.677790\n",
      "[532]\ttrain-logloss:0.669090\teval-logloss:0.677797\n",
      "[533]\ttrain-logloss:0.669057\teval-logloss:0.677781\n",
      "[534]\ttrain-logloss:0.669029\teval-logloss:0.677756\n",
      "[535]\ttrain-logloss:0.669000\teval-logloss:0.677744\n",
      "[536]\ttrain-logloss:0.668970\teval-logloss:0.677709\n",
      "[537]\ttrain-logloss:0.668940\teval-logloss:0.677689\n",
      "[538]\ttrain-logloss:0.668913\teval-logloss:0.677676\n",
      "[539]\ttrain-logloss:0.668887\teval-logloss:0.677666\n",
      "[540]\ttrain-logloss:0.668858\teval-logloss:0.677682\n",
      "[541]\ttrain-logloss:0.668819\teval-logloss:0.677655\n",
      "[542]\ttrain-logloss:0.668793\teval-logloss:0.677638\n",
      "[543]\ttrain-logloss:0.668759\teval-logloss:0.677628\n",
      "[544]\ttrain-logloss:0.668735\teval-logloss:0.677618\n",
      "[545]\ttrain-logloss:0.668693\teval-logloss:0.677609\n",
      "[546]\ttrain-logloss:0.668664\teval-logloss:0.677602\n",
      "[547]\ttrain-logloss:0.668627\teval-logloss:0.677557\n",
      "[548]\ttrain-logloss:0.668602\teval-logloss:0.677519\n",
      "[549]\ttrain-logloss:0.668574\teval-logloss:0.677468\n",
      "[550]\ttrain-logloss:0.668557\teval-logloss:0.677442\n",
      "[551]\ttrain-logloss:0.668526\teval-logloss:0.677438\n",
      "[552]\ttrain-logloss:0.668501\teval-logloss:0.677449\n",
      "[553]\ttrain-logloss:0.668473\teval-logloss:0.677422\n",
      "[554]\ttrain-logloss:0.668445\teval-logloss:0.677414\n",
      "[555]\ttrain-logloss:0.668415\teval-logloss:0.677392\n",
      "[556]\ttrain-logloss:0.668388\teval-logloss:0.677351\n",
      "[557]\ttrain-logloss:0.668349\teval-logloss:0.677292\n",
      "[558]\ttrain-logloss:0.668329\teval-logloss:0.677327\n",
      "[559]\ttrain-logloss:0.668290\teval-logloss:0.677264\n",
      "[560]\ttrain-logloss:0.668257\teval-logloss:0.677240\n",
      "[561]\ttrain-logloss:0.668227\teval-logloss:0.677264\n",
      "[562]\ttrain-logloss:0.668207\teval-logloss:0.677243\n",
      "[563]\ttrain-logloss:0.668163\teval-logloss:0.677190\n",
      "[564]\ttrain-logloss:0.668145\teval-logloss:0.677171\n",
      "[565]\ttrain-logloss:0.668112\teval-logloss:0.677162\n",
      "[566]\ttrain-logloss:0.668081\teval-logloss:0.677155\n",
      "[567]\ttrain-logloss:0.668046\teval-logloss:0.677152\n",
      "[568]\ttrain-logloss:0.668026\teval-logloss:0.677145\n",
      "[569]\ttrain-logloss:0.667993\teval-logloss:0.677089\n",
      "[570]\ttrain-logloss:0.667959\teval-logloss:0.677077\n",
      "[571]\ttrain-logloss:0.667938\teval-logloss:0.677054\n",
      "[572]\ttrain-logloss:0.667917\teval-logloss:0.677032\n",
      "[573]\ttrain-logloss:0.667881\teval-logloss:0.677008\n",
      "[574]\ttrain-logloss:0.667861\teval-logloss:0.677003\n",
      "[575]\ttrain-logloss:0.667827\teval-logloss:0.676966\n",
      "[576]\ttrain-logloss:0.667800\teval-logloss:0.676973\n",
      "[577]\ttrain-logloss:0.667773\teval-logloss:0.676957\n",
      "[578]\ttrain-logloss:0.667739\teval-logloss:0.676931\n",
      "[579]\ttrain-logloss:0.667716\teval-logloss:0.676924\n",
      "[580]\ttrain-logloss:0.667691\teval-logloss:0.676901\n",
      "[581]\ttrain-logloss:0.667665\teval-logloss:0.676887\n",
      "[582]\ttrain-logloss:0.667641\teval-logloss:0.676895\n",
      "[583]\ttrain-logloss:0.667613\teval-logloss:0.676899\n",
      "[584]\ttrain-logloss:0.667588\teval-logloss:0.676887\n",
      "[585]\ttrain-logloss:0.667552\teval-logloss:0.676878\n",
      "[586]\ttrain-logloss:0.667534\teval-logloss:0.676858\n",
      "[587]\ttrain-logloss:0.667512\teval-logloss:0.676837\n",
      "[588]\ttrain-logloss:0.667477\teval-logloss:0.676792\n",
      "[589]\ttrain-logloss:0.667454\teval-logloss:0.676803\n",
      "[590]\ttrain-logloss:0.667427\teval-logloss:0.676803\n",
      "[591]\ttrain-logloss:0.667403\teval-logloss:0.676801\n",
      "[592]\ttrain-logloss:0.667385\teval-logloss:0.676815\n",
      "[593]\ttrain-logloss:0.667349\teval-logloss:0.676794\n",
      "[594]\ttrain-logloss:0.667319\teval-logloss:0.676755\n",
      "[595]\ttrain-logloss:0.667285\teval-logloss:0.676747\n",
      "[596]\ttrain-logloss:0.667256\teval-logloss:0.676701\n",
      "[597]\ttrain-logloss:0.667232\teval-logloss:0.676719\n",
      "[598]\ttrain-logloss:0.667198\teval-logloss:0.676677\n",
      "[599]\ttrain-logloss:0.667170\teval-logloss:0.676666\n",
      "[600]\ttrain-logloss:0.667146\teval-logloss:0.676652\n",
      "[601]\ttrain-logloss:0.667116\teval-logloss:0.676630\n",
      "[602]\ttrain-logloss:0.667086\teval-logloss:0.676616\n",
      "[603]\ttrain-logloss:0.667059\teval-logloss:0.676617\n",
      "[604]\ttrain-logloss:0.667034\teval-logloss:0.676631\n",
      "[605]\ttrain-logloss:0.667003\teval-logloss:0.676612\n",
      "[606]\ttrain-logloss:0.666980\teval-logloss:0.676587\n",
      "[607]\ttrain-logloss:0.666944\teval-logloss:0.676530\n",
      "[608]\ttrain-logloss:0.666914\teval-logloss:0.676507\n",
      "[609]\ttrain-logloss:0.666884\teval-logloss:0.676490\n",
      "[610]\ttrain-logloss:0.666862\teval-logloss:0.676487\n",
      "[611]\ttrain-logloss:0.666834\teval-logloss:0.676467\n",
      "[612]\ttrain-logloss:0.666812\teval-logloss:0.676427\n",
      "[613]\ttrain-logloss:0.666786\teval-logloss:0.676423\n",
      "[614]\ttrain-logloss:0.666757\teval-logloss:0.676385\n",
      "[615]\ttrain-logloss:0.666720\teval-logloss:0.676377\n",
      "[616]\ttrain-logloss:0.666695\teval-logloss:0.676396\n",
      "[617]\ttrain-logloss:0.666676\teval-logloss:0.676381\n",
      "[618]\ttrain-logloss:0.666634\teval-logloss:0.676373\n",
      "[619]\ttrain-logloss:0.666609\teval-logloss:0.676351\n",
      "[620]\ttrain-logloss:0.666572\teval-logloss:0.676322\n",
      "[621]\ttrain-logloss:0.666545\teval-logloss:0.676315\n",
      "[622]\ttrain-logloss:0.666516\teval-logloss:0.676304\n",
      "[623]\ttrain-logloss:0.666486\teval-logloss:0.676297\n",
      "[624]\ttrain-logloss:0.666456\teval-logloss:0.676290\n",
      "[625]\ttrain-logloss:0.666432\teval-logloss:0.676270\n",
      "[626]\ttrain-logloss:0.666406\teval-logloss:0.676256\n",
      "[627]\ttrain-logloss:0.666379\teval-logloss:0.676238\n",
      "[628]\ttrain-logloss:0.666352\teval-logloss:0.676220\n",
      "[629]\ttrain-logloss:0.666327\teval-logloss:0.676228\n",
      "[630]\ttrain-logloss:0.666302\teval-logloss:0.676210\n",
      "[631]\ttrain-logloss:0.666274\teval-logloss:0.676198\n",
      "[632]\ttrain-logloss:0.666239\teval-logloss:0.676148\n",
      "[633]\ttrain-logloss:0.666219\teval-logloss:0.676116\n",
      "[634]\ttrain-logloss:0.666197\teval-logloss:0.676071\n",
      "[635]\ttrain-logloss:0.666172\teval-logloss:0.676035\n",
      "[636]\ttrain-logloss:0.666143\teval-logloss:0.676034\n",
      "[637]\ttrain-logloss:0.666107\teval-logloss:0.676026\n",
      "[638]\ttrain-logloss:0.666088\teval-logloss:0.676032\n",
      "[639]\ttrain-logloss:0.666053\teval-logloss:0.675992\n",
      "[640]\ttrain-logloss:0.666026\teval-logloss:0.675975\n",
      "[641]\ttrain-logloss:0.665998\teval-logloss:0.675966\n",
      "[642]\ttrain-logloss:0.665970\teval-logloss:0.675951\n",
      "[643]\ttrain-logloss:0.665954\teval-logloss:0.675986\n",
      "[644]\ttrain-logloss:0.665942\teval-logloss:0.675987\n",
      "[645]\ttrain-logloss:0.665894\teval-logloss:0.675983\n",
      "[646]\ttrain-logloss:0.665866\teval-logloss:0.675977\n",
      "[647]\ttrain-logloss:0.665845\teval-logloss:0.675928\n",
      "[648]\ttrain-logloss:0.665812\teval-logloss:0.675970\n",
      "[649]\ttrain-logloss:0.665789\teval-logloss:0.675926\n",
      "[650]\ttrain-logloss:0.665750\teval-logloss:0.675920\n",
      "[651]\ttrain-logloss:0.665736\teval-logloss:0.675900\n",
      "[652]\ttrain-logloss:0.665708\teval-logloss:0.675823\n",
      "[653]\ttrain-logloss:0.665690\teval-logloss:0.675837\n",
      "[654]\ttrain-logloss:0.665648\teval-logloss:0.675820\n",
      "[655]\ttrain-logloss:0.665620\teval-logloss:0.675806\n",
      "[656]\ttrain-logloss:0.665594\teval-logloss:0.675790\n",
      "[657]\ttrain-logloss:0.665566\teval-logloss:0.675774\n",
      "[658]\ttrain-logloss:0.665544\teval-logloss:0.675761\n",
      "[659]\ttrain-logloss:0.665523\teval-logloss:0.675720\n",
      "[660]\ttrain-logloss:0.665496\teval-logloss:0.675688\n",
      "[661]\ttrain-logloss:0.665465\teval-logloss:0.675681\n",
      "[662]\ttrain-logloss:0.665436\teval-logloss:0.675664\n",
      "[663]\ttrain-logloss:0.665403\teval-logloss:0.675659\n",
      "[664]\ttrain-logloss:0.665371\teval-logloss:0.675635\n",
      "[665]\ttrain-logloss:0.665344\teval-logloss:0.675631\n",
      "[666]\ttrain-logloss:0.665318\teval-logloss:0.675587\n",
      "[667]\ttrain-logloss:0.665295\teval-logloss:0.675574\n",
      "[668]\ttrain-logloss:0.665270\teval-logloss:0.675551\n",
      "[669]\ttrain-logloss:0.665242\teval-logloss:0.675527\n",
      "[670]\ttrain-logloss:0.665215\teval-logloss:0.675497\n",
      "[671]\ttrain-logloss:0.665192\teval-logloss:0.675479\n",
      "[672]\ttrain-logloss:0.665155\teval-logloss:0.675462\n",
      "[673]\ttrain-logloss:0.665135\teval-logloss:0.675435\n",
      "[674]\ttrain-logloss:0.665107\teval-logloss:0.675435\n",
      "[675]\ttrain-logloss:0.665083\teval-logloss:0.675430\n",
      "[676]\ttrain-logloss:0.665057\teval-logloss:0.675425\n",
      "[677]\ttrain-logloss:0.665033\teval-logloss:0.675406\n",
      "[678]\ttrain-logloss:0.665008\teval-logloss:0.675393\n",
      "[679]\ttrain-logloss:0.664979\teval-logloss:0.675363\n",
      "[680]\ttrain-logloss:0.664961\teval-logloss:0.675351\n",
      "[681]\ttrain-logloss:0.664930\teval-logloss:0.675343\n",
      "[682]\ttrain-logloss:0.664908\teval-logloss:0.675313\n",
      "[683]\ttrain-logloss:0.664880\teval-logloss:0.675302\n",
      "[684]\ttrain-logloss:0.664855\teval-logloss:0.675295\n",
      "[685]\ttrain-logloss:0.664839\teval-logloss:0.675320\n",
      "[686]\ttrain-logloss:0.664804\teval-logloss:0.675265\n",
      "[687]\ttrain-logloss:0.664780\teval-logloss:0.675299\n",
      "[688]\ttrain-logloss:0.664742\teval-logloss:0.675292\n",
      "[689]\ttrain-logloss:0.664731\teval-logloss:0.675273\n",
      "[690]\ttrain-logloss:0.664687\teval-logloss:0.675234\n",
      "[691]\ttrain-logloss:0.664676\teval-logloss:0.675209\n",
      "[692]\ttrain-logloss:0.664638\teval-logloss:0.675186\n",
      "[693]\ttrain-logloss:0.664622\teval-logloss:0.675189\n",
      "[694]\ttrain-logloss:0.664588\teval-logloss:0.675179\n",
      "[695]\ttrain-logloss:0.664563\teval-logloss:0.675128\n",
      "[696]\ttrain-logloss:0.664532\teval-logloss:0.675120\n",
      "[697]\ttrain-logloss:0.664513\teval-logloss:0.675091\n",
      "[698]\ttrain-logloss:0.664485\teval-logloss:0.675109\n",
      "[699]\ttrain-logloss:0.664460\teval-logloss:0.675106\n",
      "[700]\ttrain-logloss:0.664429\teval-logloss:0.675062\n",
      "[701]\ttrain-logloss:0.664410\teval-logloss:0.675046\n",
      "[702]\ttrain-logloss:0.664385\teval-logloss:0.675028\n",
      "[703]\ttrain-logloss:0.664359\teval-logloss:0.675009\n",
      "[704]\ttrain-logloss:0.664331\teval-logloss:0.675006\n",
      "[705]\ttrain-logloss:0.664307\teval-logloss:0.674982\n",
      "[706]\ttrain-logloss:0.664281\teval-logloss:0.674975\n",
      "[707]\ttrain-logloss:0.664251\teval-logloss:0.674966\n",
      "[708]\ttrain-logloss:0.664222\teval-logloss:0.674955\n",
      "[709]\ttrain-logloss:0.664197\teval-logloss:0.674927\n",
      "[710]\ttrain-logloss:0.664172\teval-logloss:0.674914\n",
      "[711]\ttrain-logloss:0.664148\teval-logloss:0.674902\n",
      "[712]\ttrain-logloss:0.664122\teval-logloss:0.674906\n",
      "[713]\ttrain-logloss:0.664096\teval-logloss:0.674893\n",
      "[714]\ttrain-logloss:0.664064\teval-logloss:0.674889\n",
      "[715]\ttrain-logloss:0.664041\teval-logloss:0.674881\n",
      "[716]\ttrain-logloss:0.664010\teval-logloss:0.674849\n",
      "[717]\ttrain-logloss:0.663990\teval-logloss:0.674843\n",
      "[718]\ttrain-logloss:0.663961\teval-logloss:0.674850\n",
      "[719]\ttrain-logloss:0.663940\teval-logloss:0.674854\n",
      "[720]\ttrain-logloss:0.663909\teval-logloss:0.674856\n",
      "[721]\ttrain-logloss:0.663885\teval-logloss:0.674829\n",
      "[722]\ttrain-logloss:0.663865\teval-logloss:0.674820\n",
      "[723]\ttrain-logloss:0.663839\teval-logloss:0.674806\n",
      "[724]\ttrain-logloss:0.663811\teval-logloss:0.674778\n",
      "[725]\ttrain-logloss:0.663788\teval-logloss:0.674747\n",
      "[726]\ttrain-logloss:0.663761\teval-logloss:0.674746\n",
      "[727]\ttrain-logloss:0.663733\teval-logloss:0.674733\n",
      "[728]\ttrain-logloss:0.663712\teval-logloss:0.674718\n",
      "[729]\ttrain-logloss:0.663683\teval-logloss:0.674688\n",
      "[730]\ttrain-logloss:0.663660\teval-logloss:0.674683\n",
      "[731]\ttrain-logloss:0.663631\teval-logloss:0.674659\n",
      "[732]\ttrain-logloss:0.663614\teval-logloss:0.674655\n",
      "[733]\ttrain-logloss:0.663586\teval-logloss:0.674618\n",
      "[734]\ttrain-logloss:0.663572\teval-logloss:0.674597\n",
      "[735]\ttrain-logloss:0.663547\teval-logloss:0.674594\n",
      "[736]\ttrain-logloss:0.663524\teval-logloss:0.674564\n",
      "[737]\ttrain-logloss:0.663500\teval-logloss:0.674563\n",
      "[738]\ttrain-logloss:0.663469\teval-logloss:0.674526\n",
      "[739]\ttrain-logloss:0.663440\teval-logloss:0.674528\n",
      "[740]\ttrain-logloss:0.663419\teval-logloss:0.674500\n",
      "[741]\ttrain-logloss:0.663395\teval-logloss:0.674489\n",
      "[742]\ttrain-logloss:0.663372\teval-logloss:0.674474\n",
      "[743]\ttrain-logloss:0.663344\teval-logloss:0.674431\n",
      "[744]\ttrain-logloss:0.663320\teval-logloss:0.674393\n",
      "[745]\ttrain-logloss:0.663292\teval-logloss:0.674384\n",
      "[746]\ttrain-logloss:0.663263\teval-logloss:0.674361\n",
      "[747]\ttrain-logloss:0.663239\teval-logloss:0.674351\n",
      "[748]\ttrain-logloss:0.663215\teval-logloss:0.674354\n",
      "[749]\ttrain-logloss:0.663186\teval-logloss:0.674327\n",
      "[750]\ttrain-logloss:0.663167\teval-logloss:0.674300\n",
      "[751]\ttrain-logloss:0.663141\teval-logloss:0.674298\n",
      "[752]\ttrain-logloss:0.663114\teval-logloss:0.674275\n",
      "[753]\ttrain-logloss:0.663084\teval-logloss:0.674258\n",
      "[754]\ttrain-logloss:0.663060\teval-logloss:0.674248\n",
      "[755]\ttrain-logloss:0.663043\teval-logloss:0.674228\n",
      "[756]\ttrain-logloss:0.663012\teval-logloss:0.674228\n",
      "[757]\ttrain-logloss:0.662988\teval-logloss:0.674216\n",
      "[758]\ttrain-logloss:0.662969\teval-logloss:0.674218\n",
      "[759]\ttrain-logloss:0.662941\teval-logloss:0.674173\n",
      "[760]\ttrain-logloss:0.662913\teval-logloss:0.674194\n",
      "[761]\ttrain-logloss:0.662891\teval-logloss:0.674167\n",
      "[762]\ttrain-logloss:0.662862\teval-logloss:0.674120\n",
      "[763]\ttrain-logloss:0.662841\teval-logloss:0.674112\n",
      "[764]\ttrain-logloss:0.662812\teval-logloss:0.674100\n",
      "[765]\ttrain-logloss:0.662790\teval-logloss:0.674115\n",
      "[766]\ttrain-logloss:0.662770\teval-logloss:0.674090\n",
      "[767]\ttrain-logloss:0.662743\teval-logloss:0.674056\n",
      "[768]\ttrain-logloss:0.662702\teval-logloss:0.674056\n",
      "[769]\ttrain-logloss:0.662679\teval-logloss:0.674055\n",
      "[770]\ttrain-logloss:0.662657\teval-logloss:0.674052\n",
      "[771]\ttrain-logloss:0.662635\teval-logloss:0.674053\n",
      "[772]\ttrain-logloss:0.662612\teval-logloss:0.674059\n",
      "[773]\ttrain-logloss:0.662584\teval-logloss:0.674044\n",
      "[774]\ttrain-logloss:0.662566\teval-logloss:0.674013\n",
      "[775]\ttrain-logloss:0.662542\teval-logloss:0.674002\n",
      "[776]\ttrain-logloss:0.662514\teval-logloss:0.673986\n",
      "[777]\ttrain-logloss:0.662481\teval-logloss:0.673980\n",
      "[778]\ttrain-logloss:0.662459\teval-logloss:0.673975\n",
      "[779]\ttrain-logloss:0.662429\teval-logloss:0.673916\n",
      "[780]\ttrain-logloss:0.662412\teval-logloss:0.673898\n",
      "[781]\ttrain-logloss:0.662388\teval-logloss:0.673898\n",
      "[782]\ttrain-logloss:0.662365\teval-logloss:0.673870\n",
      "[783]\ttrain-logloss:0.662343\teval-logloss:0.673869\n",
      "[784]\ttrain-logloss:0.662314\teval-logloss:0.673860\n",
      "[785]\ttrain-logloss:0.662290\teval-logloss:0.673853\n",
      "[786]\ttrain-logloss:0.662266\teval-logloss:0.673868\n",
      "[787]\ttrain-logloss:0.662237\teval-logloss:0.673862\n",
      "[788]\ttrain-logloss:0.662216\teval-logloss:0.673840\n",
      "[789]\ttrain-logloss:0.662187\teval-logloss:0.673826\n",
      "[790]\ttrain-logloss:0.662158\teval-logloss:0.673814\n",
      "[791]\ttrain-logloss:0.662134\teval-logloss:0.673820\n",
      "[792]\ttrain-logloss:0.662111\teval-logloss:0.673801\n",
      "[793]\ttrain-logloss:0.662077\teval-logloss:0.673743\n",
      "[794]\ttrain-logloss:0.662058\teval-logloss:0.673718\n",
      "[795]\ttrain-logloss:0.662036\teval-logloss:0.673693\n",
      "[796]\ttrain-logloss:0.662348\teval-logloss:0.673673\n",
      "[797]\ttrain-logloss:0.662315\teval-logloss:0.673662\n",
      "[798]\ttrain-logloss:0.662289\teval-logloss:0.673657\n",
      "[799]\ttrain-logloss:0.662263\teval-logloss:0.673658\n"
     ]
    }
   ],
   "source": [
    "Xdatatrain = xgboost.DMatrix(data = train_data, label = y_train.values)\n",
    "Xdatatest = xgboost.DMatrix(data = test_data, label = y_test.values)\n",
    "\n",
    "plst = list(param.items())\n",
    "watchlist = [(Xdatatrain, 'train'), (Xdatatest, 'eval')]            \n",
    "\n",
    "bst = xgboost.train(plst, Xdatatrain, numround, evals = watchlist)"
   ]
  },
  {
   "cell_type": "code",
   "execution_count": 116,
   "metadata": {
    "collapsed": false
   },
   "outputs": [
    {
     "name": "stdout",
     "output_type": "stream",
     "text": [
      "0.636095761835\n",
      "0.632892735309\n",
      "0.632679207481\n",
      "0.634129919477\n",
      "0.635280062398\n",
      "0.636117084977\n",
      "0.637824467799\n"
     ]
    }
   ],
   "source": [
    "for i in [0.05, 0.1, 0.2, 0.4, 0.6, 0.8, 1.5]:\n",
    "    lin_cl = linear_model.LogisticRegression(C=i)\n",
    "    lin_cl.fit(train_data, y_train)\n",
    "    y_pred = lin_cl.predict_proba(test_data)[:,1]\n",
    "    print log_loss(y_test, y_pred)"
   ]
  },
  {
   "cell_type": "code",
   "execution_count": 97,
   "metadata": {
    "collapsed": true
   },
   "outputs": [],
   "source": [
    "lin_cl = linear_model.LogisticRegression(C=0.2)"
   ]
  },
  {
   "cell_type": "code",
   "execution_count": 101,
   "metadata": {
    "collapsed": false
   },
   "outputs": [
    {
     "data": {
      "text/plain": [
       "LogisticRegression(C=0.2, class_weight=None, dual=False, fit_intercept=True,\n",
       "          intercept_scaling=1, max_iter=100, multi_class='ovr', n_jobs=1,\n",
       "          penalty='l2', random_state=None, solver='liblinear', tol=0.0001,\n",
       "          verbose=0, warm_start=False)"
      ]
     },
     "execution_count": 101,
     "metadata": {},
     "output_type": "execute_result"
    }
   ],
   "source": [
    "lin_cl.fit(train_data, y_train)"
   ]
  },
  {
   "cell_type": "markdown",
   "metadata": {},
   "source": [
    "# Make X_test_submission"
   ]
  },
  {
   "cell_type": "code",
   "execution_count": 99,
   "metadata": {
    "collapsed": true
   },
   "outputs": [],
   "source": [
    "X_test_submission = pd.concat([test[['year']], test_teams], axis = 1)"
   ]
  },
  {
   "cell_type": "code",
   "execution_count": null,
   "metadata": {
    "collapsed": true
   },
   "outputs": [],
   "source": []
  },
  {
   "cell_type": "code",
   "execution_count": 82,
   "metadata": {
    "collapsed": false
   },
   "outputs": [
    {
     "ename": "NameError",
     "evalue": "name 'X_test_submission' is not defined",
     "output_type": "error",
     "traceback": [
      "\u001b[0;31m---------------------------------------------------------------------------\u001b[0m",
      "\u001b[0;31mNameError\u001b[0m                                 Traceback (most recent call last)",
      "\u001b[0;32m<ipython-input-82-fb74ed03c402>\u001b[0m in \u001b[0;36m<module>\u001b[0;34m()\u001b[0m\n\u001b[0;32m----> 1\u001b[0;31m \u001b[0my_test_alg_submission\u001b[0m \u001b[0;34m=\u001b[0m \u001b[0mlin_cl\u001b[0m\u001b[0;34m.\u001b[0m\u001b[0mpredict_proba\u001b[0m\u001b[0;34m(\u001b[0m\u001b[0mX_test_submission\u001b[0m\u001b[0;34m)\u001b[0m\u001b[0;34m[\u001b[0m\u001b[0;34m:\u001b[0m\u001b[0;34m,\u001b[0m\u001b[0;36m1\u001b[0m\u001b[0;34m]\u001b[0m\u001b[0;34m\u001b[0m\u001b[0m\n\u001b[0m\u001b[1;32m      2\u001b[0m \u001b[0my_test_bst_submission\u001b[0m \u001b[0;34m=\u001b[0m \u001b[0mbst\u001b[0m\u001b[0;34m.\u001b[0m\u001b[0mpredict\u001b[0m\u001b[0;34m(\u001b[0m\u001b[0mxgboost\u001b[0m\u001b[0;34m.\u001b[0m\u001b[0mDMatrix\u001b[0m\u001b[0;34m(\u001b[0m\u001b[0mX_test_submission\u001b[0m\u001b[0;34m)\u001b[0m\u001b[0;34m)\u001b[0m\u001b[0;34m\u001b[0m\u001b[0m\n\u001b[1;32m      3\u001b[0m \u001b[0my_test_submission\u001b[0m \u001b[0;34m=\u001b[0m \u001b[0my_test_alg_submission\u001b[0m\u001b[0;34m*\u001b[0m\u001b[0;36m0.58\u001b[0m \u001b[0;34m+\u001b[0m \u001b[0my_test_bst_submission\u001b[0m\u001b[0;34m*\u001b[0m\u001b[0;34m(\u001b[0m\u001b[0;36m1\u001b[0m\u001b[0;34m-\u001b[0m\u001b[0;36m0.58\u001b[0m\u001b[0;34m)\u001b[0m\u001b[0;34m\u001b[0m\u001b[0m\n",
      "\u001b[0;31mNameError\u001b[0m: name 'X_test_submission' is not defined"
     ]
    }
   ],
   "source": [
    "y_test_alg_submission = lin_cl.predict_proba(X_test_submission)[:,1]\n",
    "y_test_bst_submission = bst.predict(xgboost.DMatrix(X_test_submission))\n",
    "y_test_submission = y_test_alg_submission*0.58 + y_test_bst_submission*(1-0.58)"
   ]
  },
  {
   "cell_type": "code",
   "execution_count": 103,
   "metadata": {
    "collapsed": true
   },
   "outputs": [],
   "source": [
    "ss = sample_submission.copy()\n",
    "\n",
    "for i in range(len(y_test_submission)):\n",
    "    c = y_test_submission[i]\n",
    "    if(c <= 0.02):\n",
    "        y_test_submission[i] = 0.0\n",
    "    if(c >= 0.98):\n",
    "        y_test_submission[i] = 1.0\n",
    "        \n",
    "for c in y_test_submission:\n",
    "    if(c < 0 or c>1):\n",
    "        print c\n",
    "        \n",
    "ss.target = y_test_submission\n",
    "ss.to_csv('Double-alg-xgboost-lin_part1.csv', index = False)"
   ]
  },
  {
   "cell_type": "code",
   "execution_count": null,
   "metadata": {
    "collapsed": true
   },
   "outputs": [],
   "source": []
  }
 ],
 "metadata": {
  "anaconda-cloud": {},
  "kernelspec": {
   "display_name": "Python [conda root]",
   "language": "python",
   "name": "conda-root-py"
  },
  "language_info": {
   "codemirror_mode": {
    "name": "ipython",
    "version": 2
   },
   "file_extension": ".py",
   "mimetype": "text/x-python",
   "name": "python",
   "nbconvert_exporter": "python",
   "pygments_lexer": "ipython2",
   "version": "2.7.12"
  }
 },
 "nbformat": 4,
 "nbformat_minor": 1
}
