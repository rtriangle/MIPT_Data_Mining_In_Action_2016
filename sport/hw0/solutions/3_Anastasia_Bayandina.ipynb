{
 "cells": [
  {
   "cell_type": "code",
   "execution_count": null,
   "metadata": {
    "collapsed": true
   },
   "outputs": [],
   "source": [
    "%matplotlib inline\n",
    "from matplotlib import pyplot as plt\n",
    "import pandas as pd\n",
    "import numpy as np"
   ]
  },
  {
   "cell_type": "code",
   "execution_count": null,
   "metadata": {
    "collapsed": true
   },
   "outputs": [],
   "source": [
    "train = pd.read_csv('train2.csv')\n",
    "test = pd.read_csv('test2.csv')"
   ]
  },
  {
   "cell_type": "markdown",
   "metadata": {},
   "source": [
    "## Линейная модель"
   ]
  },
  {
   "cell_type": "markdown",
   "metadata": {},
   "source": [
    "### Валидация"
   ]
  },
  {
   "cell_type": "code",
   "execution_count": null,
   "metadata": {
    "collapsed": true
   },
   "outputs": [],
   "source": [
    "s_train = train[train['year'] < 3018][['year', 'team1', 'team2', 'target']]\n",
    "s_val = train[train['year'] >= 3018][['year', 'team1', 'team2', 'target']]"
   ]
  },
  {
   "cell_type": "code",
   "execution_count": null,
   "metadata": {
    "collapsed": true
   },
   "outputs": [],
   "source": [
    "def balanceTrainVal(s_train, s_val):\n",
    "    st = set(s_train['team1'])\n",
    "    s_val = s_val[s_val['team1'].map(lambda x: x in st)]\n",
    "    s_val = s_val[s_val['team2'].map(lambda x: x in st)]\n",
    "\n",
    "    st = set(s_val['team1'])\n",
    "    s_train = s_train[s_train['team1'].map(lambda x: x in st)]\n",
    "    s_train = s_train[s_train['team2'].map(lambda x: x in st)]\n",
    "    s_val = s_val[s_val['team2'].map(lambda x: x in st)]\n",
    "    return s_train, s_val"
   ]
  },
  {
   "cell_type": "code",
   "execution_count": null,
   "metadata": {
    "collapsed": true
   },
   "outputs": [],
   "source": [
    "s_train, s_val = balanceTrainVal(s_train, s_val)"
   ]
  },
  {
   "cell_type": "code",
   "execution_count": null,
   "metadata": {
    "collapsed": true
   },
   "outputs": [],
   "source": [
    "def MyHotEncoder(df):\n",
    "    team_1_enc = pd.get_dummies(data=df, columns=['team1'])\n",
    "    team_2_enc = pd.get_dummies(data=df, columns=['team2'], prefix='team1')\n",
    "    for col in team_2_enc.columns:\n",
    "        if 'team1' not in col:\n",
    "            team_2_enc[col] = 0\n",
    "    team_2_enc['team1'] = - team_2_enc['team1']\n",
    "    combined_df = team_1_enc.add(team_2_enc * (-1), fill_value=0)\n",
    "    y = combined_df['target']\n",
    "    X = combined_df.drop('target', 1)\n",
    "    return X, y"
   ]
  },
  {
   "cell_type": "code",
   "execution_count": null,
   "metadata": {
    "collapsed": true
   },
   "outputs": [],
   "source": [
    "xtrain, ytrain = MyHotEncoder(s_train)\n",
    "xval, yval = MyHotEncoder(s_val)"
   ]
  },
  {
   "cell_type": "code",
   "execution_count": null,
   "metadata": {
    "collapsed": true
   },
   "outputs": [],
   "source": [
    "from sklearn.linear_model import LogisticRegression\n",
    "\n",
    "LR = LogisticRegression(C=0.1, random_state=0)\n",
    "LR.fit(xtrain, ytrain)\n",
    "prediction_lr = LR.predict_proba(xval)[:, 1]"
   ]
  },
  {
   "cell_type": "code",
   "execution_count": null,
   "metadata": {
    "collapsed": false
   },
   "outputs": [],
   "source": [
    "from sklearn.metrics import log_loss\n",
    "\n",
    "log_loss(yval, prediction_lr)"
   ]
  },
  {
   "cell_type": "markdown",
   "metadata": {},
   "source": [
    "### Тест"
   ]
  },
  {
   "cell_type": "code",
   "execution_count": null,
   "metadata": {
    "collapsed": true
   },
   "outputs": [],
   "source": [
    "def makePrediction(train, test):\n",
    "    united = pd.concat([train[['year', 'team1', 'team2', 'target']], test], ignore_index=True)\n",
    "    itr = united[united['Id'].isnull()].index.values\n",
    "    ite = united[united['target'].isnull()].index.values\n",
    "    X_united, y_united = myHotEncoder(united)\n",
    "    LR = LogisticRegression(C=0.1, random_state=0)\n",
    "    LR.fit(X_united.ix[itr].drop('Id', 1), y_united[itr].values.astype(int))\n",
    "    prediction = LR.predict_proba(X_united.ix[ite].drop('Id', 1))[:, 1]\n",
    "    return prediction"
   ]
  },
  {
   "cell_type": "code",
   "execution_count": null,
   "metadata": {
    "collapsed": true
   },
   "outputs": [],
   "source": [
    "pred = makePrediction(train, test)"
   ]
  },
  {
   "cell_type": "code",
   "execution_count": null,
   "metadata": {
    "collapsed": true
   },
   "outputs": [],
   "source": [
    "subm = pd.read_csv('sample_submission.csv')\n",
    "subm['target'] = pred\n",
    "subm.to_csv('subm_LR.csv', index=False)"
   ]
  },
  {
   "cell_type": "markdown",
   "metadata": {},
   "source": [
    "## Бустинг"
   ]
  },
  {
   "cell_type": "markdown",
   "metadata": {},
   "source": [
    "### Валидация"
   ]
  },
  {
   "cell_type": "code",
   "execution_count": null,
   "metadata": {
    "collapsed": true
   },
   "outputs": [],
   "source": [
    "s_train = train[train['year'] < 3018]\n",
    "s_val = train[train['year'] >= 3018]"
   ]
  },
  {
   "cell_type": "code",
   "execution_count": null,
   "metadata": {
    "collapsed": true
   },
   "outputs": [],
   "source": [
    "s_train, s_val = balanceTrainVal(s_train, s_val)"
   ]
  },
  {
   "cell_type": "code",
   "execution_count": null,
   "metadata": {
    "collapsed": true
   },
   "outputs": [],
   "source": [
    "from collections import defaultdict\n",
    "\n",
    "def statsCount(train):\n",
    "    teams_means = {}\n",
    "    teams_medians = {}\n",
    "    teams_wins = defaultdict(int)\n",
    "\n",
    "    for team_id in set(set(train['team1'].unique()) | set(train['team2'].unique())):\n",
    "        m_1 = train[train['team1'] == team_id]['score1'].mean()\n",
    "        m_2 = train[train['team2'] == team_id]['score2'].mean()\n",
    "        teams_means[team_id] = float(m_1 + m_2) / 2\n",
    "        \n",
    "        m_1 = train[train['team1'] == team_id]['score1'].median()\n",
    "        m_2 = train[train['team2'] == team_id]['score2'].median()\n",
    "        teams_medians[team_id] = float(m_1 + m_2) / 2\n",
    "        \n",
    "        teams_wins[team_id] += train[train['team1'] == team_id]['target'].sum()\n",
    "        teams_wins[team_id] += train[train['team2'] == team_id]['target'].sum()\n",
    "        \n",
    "    return teams_means, teams_wins, teams_medians"
   ]
  },
  {
   "cell_type": "code",
   "execution_count": null,
   "metadata": {
    "collapsed": true
   },
   "outputs": [],
   "source": [
    "def myStat(train):\n",
    "    teams_weightedWins = defaultdict(int)\n",
    "    day = -1\n",
    "    winners_of_the_day = set()\n",
    "    losers_of_the_day = set()\n",
    "    for i in train.index:\n",
    "        if day != train.ix[i, 'day']:\n",
    "            if train.ix[i, 'team1'] in winners_of_the_day and train.ix[i, 'team2'] in winners_of_the_day:\n",
    "                for team in winners_of_the_day:\n",
    "                    teams_weightedWins[team] += 10\n",
    "            else:\n",
    "                for team in losers_of_the_day:\n",
    "                    teams_weightedWins[team] -= 1\n",
    "            day = train.ix[i, 'day']\n",
    "            winners_of_the_day = set()\n",
    "            losers_of_the_day = set()\n",
    "        if train.ix[i, 'target']:\n",
    "            winners_of_the_day.add(train.ix[i, 'team1'])\n",
    "            losers_of_the_day.add(train.ix[i, 'team2'])\n",
    "        else:\n",
    "            winners_of_the_day.add(train.ix[i, 'team2'])\n",
    "            losers_of_the_day.add(train.ix[i, 'team1'])\n",
    "    return teams_weightedWins"
   ]
  },
  {
   "cell_type": "code",
   "execution_count": null,
   "metadata": {
    "collapsed": true
   },
   "outputs": [],
   "source": [
    "teams_means, teams_wins, teams_medians = statsCount(s_train)\n",
    "teams_weightedWins = myStat(s_train)"
   ]
  },
  {
   "cell_type": "code",
   "execution_count": null,
   "metadata": {
    "collapsed": true
   },
   "outputs": [],
   "source": [
    "def replaceTeams(source_df, teams_weightedWins, teams_means, teams_wins, teams_medians):\n",
    "    df = source_df\n",
    "    df['mean1'] = df['team1'].replace(teams_means).copy()\n",
    "    df['mean2'] = df['team2'].replace(teams_means).copy()\n",
    "    df['win1'] = df['team1'].replace(teams_wins).copy()\n",
    "    df['win2'] = df['team2'].replace(teams_wins).copy()\n",
    "    df['median1'] = df['team1'].replace(teams_medians).copy()\n",
    "    df['median2'] = df['team2'].replace(teams_medians).copy()\n",
    "    df['wWins1'] = df['team1'].replace(teams_weightedWins).copy()\n",
    "    df['wWins2'] = df['team2'].replace(teams_weightedWins).copy()\n",
    "    return df"
   ]
  },
  {
   "cell_type": "code",
   "execution_count": null,
   "metadata": {
    "collapsed": true
   },
   "outputs": [],
   "source": [
    "new_train = replaceTeams(s_train, teams_weightedWins, teams_means, teams_wins, teams_medians)\n",
    "new_test = replaceTeams(s_val, teams_weightedWins, teams_means, teams_wins, teams_medians)"
   ]
  },
  {
   "cell_type": "code",
   "execution_count": null,
   "metadata": {
    "collapsed": true
   },
   "outputs": [],
   "source": [
    "from sklearn.ensemble import GradientBoostingClassifier\n",
    "\n",
    "gbc = GradientBoostingClassifier(loss='deviance', random_state=0, n_estimators=70, max_depth=7)\n",
    "gbc.fit(new_train.drop(['target', 'day', 'score1', 'score2', 'team1', 'team2'], 1),\n",
    "        new_train['target'])\n",
    "prediction_gb = gbc.predict_proba(new_test.drop(['target', 'day', 'score1', 'score2', 'team1', 'team2'], 1))[:, 1]"
   ]
  },
  {
   "cell_type": "code",
   "execution_count": null,
   "metadata": {
    "collapsed": false
   },
   "outputs": [],
   "source": [
    "log_loss(s_val['target'], prediction_gb)"
   ]
  },
  {
   "cell_type": "code",
   "execution_count": null,
   "metadata": {
    "collapsed": true
   },
   "outputs": [],
   "source": [
    "w = 0.32"
   ]
  },
  {
   "cell_type": "code",
   "execution_count": null,
   "metadata": {
    "collapsed": false
   },
   "outputs": [],
   "source": [
    "log_loss(s_val.target, w * prediction_gb + (1 - w) * prediction_lr)"
   ]
  },
  {
   "cell_type": "markdown",
   "metadata": {
    "collapsed": true
   },
   "source": [
    "### Тест"
   ]
  },
  {
   "cell_type": "code",
   "execution_count": null,
   "metadata": {
    "collapsed": true
   },
   "outputs": [],
   "source": [
    "inds = np.logical_and(test.team1 != 1, test.team2 != 1)\n",
    "test_gb = test[inds]"
   ]
  },
  {
   "cell_type": "code",
   "execution_count": null,
   "metadata": {
    "collapsed": true
   },
   "outputs": [],
   "source": [
    "new_train = replaceTeams(train, teams_weightedWins, teams_means, teams_wins, teams_medians)\n",
    "new_test = replaceTeams(test_gb, teams_weightedWins, teams_means, teams_wins, teams_medians)"
   ]
  },
  {
   "cell_type": "code",
   "execution_count": null,
   "metadata": {
    "collapsed": true
   },
   "outputs": [],
   "source": [
    "gbc = GradientBoostingClassifier(loss='deviance', random_state=0, n_estimators=70, max_depth=7)\n",
    "gbc.fit(new_train.drop(['target', 'day', 'score1', 'score2', 'team1', 'team2'], 1),\n",
    "        new_train['target'])\n",
    "prediction_gb = gbc.predict_proba(new_test.drop(['target', 'day', 'score1', 'score2', 'team1', 'team2'], 1))[:, 1]"
   ]
  },
  {
   "cell_type": "code",
   "execution_count": null,
   "metadata": {
    "collapsed": true
   },
   "outputs": [],
   "source": [
    "subm_LR = pd.read_csv('subm_LR.csv')\n",
    "id_col = subm_LR['Id']\n",
    "prediction_lr = subm_LR['target']"
   ]
  },
  {
   "cell_type": "code",
   "execution_count": null,
   "metadata": {
    "collapsed": true
   },
   "outputs": [],
   "source": [
    "pred = pd.DataFrame(id_col)\n",
    "pred['target'] = prediction_lr\n",
    "pred.ix[inds, 'target'] = (1 - w) * prediction_lr[inds] + w * prediction_gb"
   ]
  },
  {
   "cell_type": "code",
   "execution_count": null,
   "metadata": {
    "collapsed": true
   },
   "outputs": [],
   "source": [
    "pred.to_csv('subm_comb.csv', index=False)"
   ]
  }
 ],
 "metadata": {
  "kernelspec": {
   "display_name": "Python 2",
   "language": "python",
   "name": "python2"
  },
  "language_info": {
   "codemirror_mode": {
    "name": "ipython",
    "version": 2
   },
   "file_extension": ".py",
   "mimetype": "text/x-python",
   "name": "python",
   "nbconvert_exporter": "python",
   "pygments_lexer": "ipython2",
   "version": "2.7.11"
  }
 },
 "nbformat": 4,
 "nbformat_minor": 0
}
